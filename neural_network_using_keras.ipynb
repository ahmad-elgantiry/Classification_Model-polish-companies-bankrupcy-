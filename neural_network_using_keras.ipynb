{
 "cells": [
  {
   "cell_type": "code",
   "execution_count": 1,
   "id": "27b73e1b",
   "metadata": {},
   "outputs": [],
   "source": [
    "import tensorflow as tf\n",
    "from tensorflow.keras.models import Sequential\n",
    "from tensorflow.keras.layers import Dense, Activation,Dropout"
   ]
  },
  {
   "cell_type": "code",
   "execution_count": 2,
   "id": "2dd5f6de",
   "metadata": {},
   "outputs": [
    {
     "name": "stdout",
     "output_type": "stream",
     "text": [
      "Requirement already satisfied: imblearn in c:\\users\\user\\anaconda3\\envs\\tf-venv\\lib\\site-packages (0.0)\n",
      "Requirement already satisfied: imbalanced-learn in c:\\users\\user\\anaconda3\\envs\\tf-venv\\lib\\site-packages (from imblearn) (0.10.1)\n",
      "Requirement already satisfied: joblib>=1.1.1 in c:\\users\\user\\anaconda3\\envs\\tf-venv\\lib\\site-packages (from imbalanced-learn->imblearn) (1.2.0)\n",
      "Requirement already satisfied: scikit-learn>=1.0.2 in c:\\users\\user\\anaconda3\\envs\\tf-venv\\lib\\site-packages (from imbalanced-learn->imblearn) (1.0.2)\n",
      "Requirement already satisfied: numpy>=1.17.3 in c:\\users\\user\\anaconda3\\envs\\tf-venv\\lib\\site-packages (from imbalanced-learn->imblearn) (1.21.6)\n",
      "Requirement already satisfied: scipy>=1.3.2 in c:\\users\\user\\anaconda3\\envs\\tf-venv\\lib\\site-packages (from imbalanced-learn->imblearn) (1.7.3)\n",
      "Requirement already satisfied: threadpoolctl>=2.0.0 in c:\\users\\user\\anaconda3\\envs\\tf-venv\\lib\\site-packages (from imbalanced-learn->imblearn) (2.2.0)\n",
      "Note: you may need to restart the kernel to use updated packages.\n"
     ]
    }
   ],
   "source": [
    "pip install imblearn"
   ]
  },
  {
   "cell_type": "code",
   "execution_count": 3,
   "id": "8f9b358e",
   "metadata": {},
   "outputs": [],
   "source": [
    "import matplotlib.pyplot as plt\n",
    "import numpy as np\n",
    "import seaborn as sns\n",
    "import pandas as pd\n",
    "from imblearn.over_sampling import RandomOverSampler\n",
    "from imblearn.under_sampling import RandomUnderSampler\n",
    "from sklearn.impute import SimpleImputer\n",
    "from sklearn.metrics import ConfusionMatrixDisplay, confusion_matrix\n",
    "from sklearn.model_selection import train_test_split,GridSearchCV, cross_val_score\n",
    "from sklearn.pipeline import make_pipeline\n",
    "from sklearn.preprocessing import StandardScaler,MinMaxScaler"
   ]
  },
  {
   "cell_type": "code",
   "execution_count": 4,
   "id": "0d72580a",
   "metadata": {},
   "outputs": [],
   "source": [
    "from scipy.io import arff\n",
    "data = arff.loadarff('data (1)/3year.arff')\n",
    "df = pd.DataFrame(data[0])"
   ]
  },
  {
   "cell_type": "code",
   "execution_count": 5,
   "id": "20d78795",
   "metadata": {},
   "outputs": [],
   "source": [
    "df=df.rename({\"class\":\"bankrupt\"},axis = 1 )\n"
   ]
  },
  {
   "cell_type": "code",
   "execution_count": 6,
   "id": "321f1357",
   "metadata": {},
   "outputs": [],
   "source": [
    "from sklearn.preprocessing import LabelEncoder\n",
    "le = LabelEncoder()\n",
    "df[\"bankrupt\"] = le.fit_transform(df.bankrupt)"
   ]
  },
  {
   "cell_type": "code",
   "execution_count": 7,
   "id": "529386b8",
   "metadata": {},
   "outputs": [],
   "source": [
    "def correlation(dataset, threshold):\n",
    "    col_corr = list() # Set of all the names of deleted columns\n",
    "    corr_matrix = dataset.corr()\n",
    "    for i in range(len(corr_matrix.columns)):\n",
    "        for j in range(i):\n",
    "            if (corr_matrix.iloc[i, j] >= threshold) and (corr_matrix.columns[j] not in col_corr):\n",
    "                colname = corr_matrix.columns[i] # getting the name of column\n",
    "                col_corr.append(colname)\n",
    "    return col_corr   \n",
    "col_corr=correlation(df,.9)"
   ]
  },
  {
   "cell_type": "code",
   "execution_count": null,
   "id": "81927348",
   "metadata": {},
   "outputs": [],
   "source": []
  },
  {
   "cell_type": "code",
   "execution_count": 8,
   "id": "84b2f9ee",
   "metadata": {},
   "outputs": [
    {
     "data": {
      "text/plain": [
       "(10503, 41)"
      ]
     },
     "execution_count": 8,
     "metadata": {},
     "output_type": "execute_result"
    }
   ],
   "source": [
    "df = df.drop(columns=col_corr)\n",
    "df.shape"
   ]
  },
  {
   "cell_type": "markdown",
   "id": "fb54e17a",
   "metadata": {},
   "source": [
    "## function to get red of outliers"
   ]
  },
  {
   "cell_type": "code",
   "execution_count": 9,
   "id": "fb000869",
   "metadata": {},
   "outputs": [],
   "source": [
    "def find_outliers_IQR(df):\n",
    "\n",
    "    q1=df.quantile(0.1)\n",
    "\n",
    "    q3=df.quantile(0.9)\n",
    "\n",
    "    IQR=q3-q1\n",
    "\n",
    "    outliers = df[((df<(q1-1.5*IQR)) | (df>(q3+1.5*IQR)))]\n",
    "\n",
    "    return outliers"
   ]
  },
  {
   "cell_type": "code",
   "execution_count": 10,
   "id": "d2ca6bc0",
   "metadata": {},
   "outputs": [
    {
     "name": "stdout",
     "output_type": "stream",
     "text": [
      "(4624, 41)\n"
     ]
    }
   ],
   "source": [
    "for i in df.columns.to_list()[:-1]:\n",
    "    \n",
    "    index = find_outliers_IQR(df[i]).index\n",
    "    df.drop(index,axis=0,inplace=True)\n",
    "print (df.shape )   \n",
    "    \n",
    "   \n",
    "    "
   ]
  },
  {
   "cell_type": "code",
   "execution_count": 11,
   "id": "3ff2622a",
   "metadata": {},
   "outputs": [],
   "source": [
    "df=df.fillna(df.median())"
   ]
  },
  {
   "cell_type": "code",
   "execution_count": 12,
   "id": "90e418c3",
   "metadata": {},
   "outputs": [],
   "source": [
    "target = \"bankrupt\"\n",
    "X = df.drop(columns=target)\n",
    "y = df[target]"
   ]
  },
  {
   "cell_type": "code",
   "execution_count": 13,
   "id": "9f1064b7",
   "metadata": {},
   "outputs": [
    {
     "data": {
      "text/plain": [
       "0    4449\n",
       "1     175\n",
       "Name: bankrupt, dtype: int64"
      ]
     },
     "execution_count": 13,
     "metadata": {},
     "output_type": "execute_result"
    }
   ],
   "source": [
    "y.value_counts()"
   ]
  },
  {
   "cell_type": "code",
   "execution_count": 14,
   "id": "3f961e2b",
   "metadata": {},
   "outputs": [],
   "source": [
    "X_train, X_test, y_train, y_test = train_test_split(X,y,test_size=.2,random_state=42)"
   ]
  },
  {
   "cell_type": "code",
   "execution_count": 15,
   "id": "2a772a2d",
   "metadata": {},
   "outputs": [
    {
     "name": "stdout",
     "output_type": "stream",
     "text": [
      "(7116, 40)\n"
     ]
    },
    {
     "data": {
      "text/html": [
       "<div>\n",
       "<style scoped>\n",
       "    .dataframe tbody tr th:only-of-type {\n",
       "        vertical-align: middle;\n",
       "    }\n",
       "\n",
       "    .dataframe tbody tr th {\n",
       "        vertical-align: top;\n",
       "    }\n",
       "\n",
       "    .dataframe thead th {\n",
       "        text-align: right;\n",
       "    }\n",
       "</style>\n",
       "<table border=\"1\" class=\"dataframe\">\n",
       "  <thead>\n",
       "    <tr style=\"text-align: right;\">\n",
       "      <th></th>\n",
       "      <th>Attr1</th>\n",
       "      <th>Attr2</th>\n",
       "      <th>Attr3</th>\n",
       "      <th>Attr4</th>\n",
       "      <th>Attr5</th>\n",
       "      <th>Attr8</th>\n",
       "      <th>Attr9</th>\n",
       "      <th>Attr12</th>\n",
       "      <th>Attr13</th>\n",
       "      <th>Attr15</th>\n",
       "      <th>...</th>\n",
       "      <th>Attr48</th>\n",
       "      <th>Attr55</th>\n",
       "      <th>Attr56</th>\n",
       "      <th>Attr57</th>\n",
       "      <th>Attr58</th>\n",
       "      <th>Attr59</th>\n",
       "      <th>Attr60</th>\n",
       "      <th>Attr61</th>\n",
       "      <th>Attr63</th>\n",
       "      <th>Attr64</th>\n",
       "    </tr>\n",
       "  </thead>\n",
       "  <tbody>\n",
       "    <tr>\n",
       "      <th>0</th>\n",
       "      <td>0.019376</td>\n",
       "      <td>0.85181</td>\n",
       "      <td>-0.20258</td>\n",
       "      <td>0.76048</td>\n",
       "      <td>-98.7640</td>\n",
       "      <td>0.17397</td>\n",
       "      <td>1.0157</td>\n",
       "      <td>0.022910</td>\n",
       "      <td>0.029819</td>\n",
       "      <td>4317.50</td>\n",
       "      <td>...</td>\n",
       "      <td>-0.013997</td>\n",
       "      <td>-3920.70</td>\n",
       "      <td>0.015492</td>\n",
       "      <td>0.130750</td>\n",
       "      <td>0.98451</td>\n",
       "      <td>0.04096</td>\n",
       "      <td>5.6620</td>\n",
       "      <td>15.6790</td>\n",
       "      <td>2.8554</td>\n",
       "      <td>6.7676</td>\n",
       "    </tr>\n",
       "    <tr>\n",
       "      <th>1</th>\n",
       "      <td>0.143140</td>\n",
       "      <td>0.31195</td>\n",
       "      <td>0.37164</td>\n",
       "      <td>2.60500</td>\n",
       "      <td>21.8510</td>\n",
       "      <td>2.08940</td>\n",
       "      <td>1.0981</td>\n",
       "      <td>0.777450</td>\n",
       "      <td>0.097571</td>\n",
       "      <td>509.87</td>\n",
       "      <td>...</td>\n",
       "      <td>0.159200</td>\n",
       "      <td>13944.00</td>\n",
       "      <td>0.089315</td>\n",
       "      <td>0.219610</td>\n",
       "      <td>0.91069</td>\n",
       "      <td>0.12334</td>\n",
       "      <td>9.2913</td>\n",
       "      <td>6.9047</td>\n",
       "      <td>9.8842</td>\n",
       "      <td>5.7679</td>\n",
       "    </tr>\n",
       "    <tr>\n",
       "      <th>2</th>\n",
       "      <td>0.004972</td>\n",
       "      <td>0.74115</td>\n",
       "      <td>0.25516</td>\n",
       "      <td>1.47130</td>\n",
       "      <td>-28.0330</td>\n",
       "      <td>0.34926</td>\n",
       "      <td>1.6310</td>\n",
       "      <td>0.077705</td>\n",
       "      <td>0.045935</td>\n",
       "      <td>3610.80</td>\n",
       "      <td>...</td>\n",
       "      <td>-0.009451</td>\n",
       "      <td>491.03</td>\n",
       "      <td>0.001841</td>\n",
       "      <td>0.019206</td>\n",
       "      <td>0.97521</td>\n",
       "      <td>0.77154</td>\n",
       "      <td>7.1257</td>\n",
       "      <td>4.0232</td>\n",
       "      <td>3.0124</td>\n",
       "      <td>8.0187</td>\n",
       "    </tr>\n",
       "    <tr>\n",
       "      <th>3</th>\n",
       "      <td>0.107390</td>\n",
       "      <td>0.85405</td>\n",
       "      <td>-0.25684</td>\n",
       "      <td>0.63011</td>\n",
       "      <td>-189.7100</td>\n",
       "      <td>0.17090</td>\n",
       "      <td>1.2201</td>\n",
       "      <td>0.187810</td>\n",
       "      <td>0.145600</td>\n",
       "      <td>1754.70</td>\n",
       "      <td>...</td>\n",
       "      <td>0.152660</td>\n",
       "      <td>-19476.00</td>\n",
       "      <td>0.162490</td>\n",
       "      <td>0.735760</td>\n",
       "      <td>0.89330</td>\n",
       "      <td>1.06880</td>\n",
       "      <td>4.8989</td>\n",
       "      <td>7.0698</td>\n",
       "      <td>1.7571</td>\n",
       "      <td>2.1692</td>\n",
       "    </tr>\n",
       "    <tr>\n",
       "      <th>4</th>\n",
       "      <td>-0.045354</td>\n",
       "      <td>0.66269</td>\n",
       "      <td>0.18720</td>\n",
       "      <td>1.37250</td>\n",
       "      <td>-7.5979</td>\n",
       "      <td>0.50899</td>\n",
       "      <td>4.5079</td>\n",
       "      <td>-0.090243</td>\n",
       "      <td>0.008930</td>\n",
       "      <td>6008.80</td>\n",
       "      <td>...</td>\n",
       "      <td>-0.118160</td>\n",
       "      <td>771.59</td>\n",
       "      <td>-0.010966</td>\n",
       "      <td>-0.134460</td>\n",
       "      <td>1.00990</td>\n",
       "      <td>0.23016</td>\n",
       "      <td>16.9340</td>\n",
       "      <td>17.5280</td>\n",
       "      <td>8.9696</td>\n",
       "      <td>14.5310</td>\n",
       "    </tr>\n",
       "  </tbody>\n",
       "</table>\n",
       "<p>5 rows × 40 columns</p>\n",
       "</div>"
      ],
      "text/plain": [
       "      Attr1    Attr2    Attr3    Attr4     Attr5    Attr8   Attr9    Attr12  \\\n",
       "0  0.019376  0.85181 -0.20258  0.76048  -98.7640  0.17397  1.0157  0.022910   \n",
       "1  0.143140  0.31195  0.37164  2.60500   21.8510  2.08940  1.0981  0.777450   \n",
       "2  0.004972  0.74115  0.25516  1.47130  -28.0330  0.34926  1.6310  0.077705   \n",
       "3  0.107390  0.85405 -0.25684  0.63011 -189.7100  0.17090  1.2201  0.187810   \n",
       "4 -0.045354  0.66269  0.18720  1.37250   -7.5979  0.50899  4.5079 -0.090243   \n",
       "\n",
       "     Attr13   Attr15  ...    Attr48    Attr55    Attr56    Attr57   Attr58  \\\n",
       "0  0.029819  4317.50  ... -0.013997  -3920.70  0.015492  0.130750  0.98451   \n",
       "1  0.097571   509.87  ...  0.159200  13944.00  0.089315  0.219610  0.91069   \n",
       "2  0.045935  3610.80  ... -0.009451    491.03  0.001841  0.019206  0.97521   \n",
       "3  0.145600  1754.70  ...  0.152660 -19476.00  0.162490  0.735760  0.89330   \n",
       "4  0.008930  6008.80  ... -0.118160    771.59 -0.010966 -0.134460  1.00990   \n",
       "\n",
       "    Attr59   Attr60   Attr61  Attr63   Attr64  \n",
       "0  0.04096   5.6620  15.6790  2.8554   6.7676  \n",
       "1  0.12334   9.2913   6.9047  9.8842   5.7679  \n",
       "2  0.77154   7.1257   4.0232  3.0124   8.0187  \n",
       "3  1.06880   4.8989   7.0698  1.7571   2.1692  \n",
       "4  0.23016  16.9340  17.5280  8.9696  14.5310  \n",
       "\n",
       "[5 rows x 40 columns]"
      ]
     },
     "execution_count": 15,
     "metadata": {},
     "output_type": "execute_result"
    }
   ],
   "source": [
    "over_sampler = RandomOverSampler(random_state=42)\n",
    "X_train_over, y_train_over = over_sampler.fit_resample(X_train,y_train)\n",
    "print(X_train_over.shape)\n",
    "X_train_over.head()"
   ]
  },
  {
   "cell_type": "code",
   "execution_count": 16,
   "id": "068c8370",
   "metadata": {},
   "outputs": [],
   "source": [
    "scaler = MinMaxScaler()"
   ]
  },
  {
   "cell_type": "code",
   "execution_count": 17,
   "id": "97bd3ecb",
   "metadata": {},
   "outputs": [],
   "source": [
    "X_train_over=scaler.fit_transform(X_train_over)"
   ]
  },
  {
   "cell_type": "code",
   "execution_count": 18,
   "id": "32f7c5a1",
   "metadata": {},
   "outputs": [],
   "source": [
    "\n",
    "X_test_over = scaler.transform(X_test)"
   ]
  },
  {
   "cell_type": "markdown",
   "id": "20312e88",
   "metadata": {},
   "source": [
    "## building the model"
   ]
  },
  {
   "cell_type": "code",
   "execution_count": 19,
   "id": "02688e88",
   "metadata": {},
   "outputs": [],
   "source": [
    "model = Sequential()\n",
    "model.add(Dense(units=1500,activation='relu'))\n",
    "model.add(Dropout(0.5))\n",
    "model.add(Dense(units=1000,activation='relu'))\n",
    "model.add(Dropout(0.5))\n",
    "model.add(Dense(units=500,activation='relu'))\n",
    "model.add(Dropout(0.5))\n",
    "model.add(Dense(units=50,activation='relu'))\n",
    "model.add(Dropout(0.5))\n",
    "model.add(Dense(units=1,activation='sigmoid'))\n",
    "\n"
   ]
  },
  {
   "cell_type": "code",
   "execution_count": 20,
   "id": "c677f386",
   "metadata": {},
   "outputs": [],
   "source": [
    "model.compile(loss='binary_crossentropy', optimizer='adam')"
   ]
  },
  {
   "cell_type": "code",
   "execution_count": 21,
   "id": "a2aaa76f",
   "metadata": {},
   "outputs": [],
   "source": [
    "from tensorflow.keras.callbacks import EarlyStopping\n",
    "from tensorflow.keras.layers import Dropout\n",
    "early_stop = EarlyStopping(monitor='val_loss', mode='min', verbose=1, patience=30)"
   ]
  },
  {
   "cell_type": "code",
   "execution_count": 22,
   "id": "1bd6b313",
   "metadata": {},
   "outputs": [
    {
     "name": "stdout",
     "output_type": "stream",
     "text": [
      "Epoch 1/200\n",
      "223/223 [==============================] - 20s 58ms/step - loss: 0.6511 - val_loss: 0.4267\n",
      "Epoch 2/200\n",
      "223/223 [==============================] - 12s 53ms/step - loss: 0.6124 - val_loss: 0.4850\n",
      "Epoch 3/200\n",
      "223/223 [==============================] - 11s 51ms/step - loss: 0.5989 - val_loss: 0.5011\n",
      "Epoch 4/200\n",
      "223/223 [==============================] - 11s 51ms/step - loss: 0.5965 - val_loss: 0.6684\n",
      "Epoch 5/200\n",
      "223/223 [==============================] - 12s 53ms/step - loss: 0.5795 - val_loss: 0.4123\n",
      "Epoch 6/200\n",
      "223/223 [==============================] - 11s 49ms/step - loss: 0.5712 - val_loss: 0.6983\n",
      "Epoch 7/200\n",
      "223/223 [==============================] - 13s 59ms/step - loss: 0.5691 - val_loss: 0.5760\n",
      "Epoch 8/200\n",
      "223/223 [==============================] - 12s 56ms/step - loss: 0.5644 - val_loss: 0.4893\n",
      "Epoch 9/200\n",
      "223/223 [==============================] - 14s 62ms/step - loss: 0.5533 - val_loss: 0.5758\n",
      "Epoch 10/200\n",
      "223/223 [==============================] - 13s 60ms/step - loss: 0.5444 - val_loss: 0.4777\n",
      "Epoch 11/200\n",
      "223/223 [==============================] - 13s 59ms/step - loss: 0.5386 - val_loss: 0.6983\n",
      "Epoch 12/200\n",
      "223/223 [==============================] - 12s 54ms/step - loss: 0.5321 - val_loss: 0.4619\n",
      "Epoch 13/200\n",
      "223/223 [==============================] - 12s 55ms/step - loss: 0.5321 - val_loss: 0.6625\n",
      "Epoch 14/200\n",
      "223/223 [==============================] - 12s 56ms/step - loss: 0.5247 - val_loss: 0.4025\n",
      "Epoch 15/200\n",
      "223/223 [==============================] - 12s 54ms/step - loss: 0.5236 - val_loss: 0.4734\n",
      "Epoch 16/200\n",
      "223/223 [==============================] - 11s 50ms/step - loss: 0.5166 - val_loss: 0.5015\n",
      "Epoch 17/200\n",
      "223/223 [==============================] - 11s 51ms/step - loss: 0.5058 - val_loss: 0.4944\n",
      "Epoch 18/200\n",
      "223/223 [==============================] - 12s 55ms/step - loss: 0.5007 - val_loss: 0.4699\n",
      "Epoch 19/200\n",
      "223/223 [==============================] - 11s 49ms/step - loss: 0.4929 - val_loss: 0.6261\n",
      "Epoch 20/200\n",
      "223/223 [==============================] - 11s 50ms/step - loss: 0.4860 - val_loss: 0.5767\n",
      "Epoch 21/200\n",
      "223/223 [==============================] - 12s 55ms/step - loss: 0.4835 - val_loss: 0.5504\n",
      "Epoch 22/200\n",
      "223/223 [==============================] - 12s 55ms/step - loss: 0.4765 - val_loss: 0.5944\n",
      "Epoch 23/200\n",
      "223/223 [==============================] - 11s 50ms/step - loss: 0.4842 - val_loss: 0.4978\n",
      "Epoch 24/200\n",
      "223/223 [==============================] - 11s 49ms/step - loss: 0.4642 - val_loss: 0.6335\n",
      "Epoch 25/200\n",
      "223/223 [==============================] - 12s 53ms/step - loss: 0.4649 - val_loss: 0.4504\n",
      "Epoch 26/200\n",
      "223/223 [==============================] - 12s 53ms/step - loss: 0.4483 - val_loss: 0.4485\n",
      "Epoch 27/200\n",
      "223/223 [==============================] - 12s 52ms/step - loss: 0.4538 - val_loss: 0.4057\n",
      "Epoch 28/200\n",
      "223/223 [==============================] - 11s 50ms/step - loss: 0.4354 - val_loss: 0.4954\n",
      "Epoch 29/200\n",
      "223/223 [==============================] - 12s 52ms/step - loss: 0.4340 - val_loss: 0.4393\n",
      "Epoch 30/200\n",
      "223/223 [==============================] - 12s 53ms/step - loss: 0.4330 - val_loss: 0.4014\n",
      "Epoch 31/200\n",
      "223/223 [==============================] - 13s 58ms/step - loss: 0.4378 - val_loss: 0.4241\n",
      "Epoch 32/200\n",
      "223/223 [==============================] - 13s 60ms/step - loss: 0.4334 - val_loss: 0.4867\n",
      "Epoch 33/200\n",
      "223/223 [==============================] - 14s 64ms/step - loss: 0.4311 - val_loss: 0.4061\n",
      "Epoch 34/200\n",
      "223/223 [==============================] - 13s 59ms/step - loss: 0.4414 - val_loss: 0.4811\n",
      "Epoch 35/200\n",
      "223/223 [==============================] - 16s 71ms/step - loss: 0.4393 - val_loss: 0.4598\n",
      "Epoch 36/200\n",
      "223/223 [==============================] - 15s 67ms/step - loss: 0.4358 - val_loss: 0.4037\n",
      "Epoch 37/200\n",
      "223/223 [==============================] - 17s 78ms/step - loss: 0.4230 - val_loss: 0.4747\n",
      "Epoch 38/200\n",
      "223/223 [==============================] - 15s 68ms/step - loss: 0.4088 - val_loss: 0.3528\n",
      "Epoch 39/200\n",
      "223/223 [==============================] - 14s 65ms/step - loss: 0.3988 - val_loss: 0.3971\n",
      "Epoch 40/200\n",
      "223/223 [==============================] - 15s 68ms/step - loss: 0.3981 - val_loss: 0.4321\n",
      "Epoch 41/200\n",
      "223/223 [==============================] - 13s 59ms/step - loss: 0.4020 - val_loss: 0.4853\n",
      "Epoch 42/200\n",
      "223/223 [==============================] - 15s 69ms/step - loss: 0.4023 - val_loss: 0.4487\n",
      "Epoch 43/200\n",
      "223/223 [==============================] - 16s 73ms/step - loss: 0.4018 - val_loss: 0.4602\n",
      "Epoch 44/200\n",
      "223/223 [==============================] - 14s 63ms/step - loss: 0.4014 - val_loss: 0.4404\n",
      "Epoch 45/200\n",
      "223/223 [==============================] - 15s 66ms/step - loss: 0.3916 - val_loss: 0.5052\n",
      "Epoch 46/200\n",
      "223/223 [==============================] - 13s 57ms/step - loss: 0.3932 - val_loss: 0.4802\n",
      "Epoch 47/200\n",
      "223/223 [==============================] - 13s 60ms/step - loss: 0.3802 - val_loss: 0.4860\n",
      "Epoch 48/200\n",
      "223/223 [==============================] - 14s 65ms/step - loss: 0.3851 - val_loss: 0.4334\n",
      "Epoch 49/200\n",
      "223/223 [==============================] - 15s 65ms/step - loss: 0.3848 - val_loss: 0.4830\n",
      "Epoch 50/200\n",
      "223/223 [==============================] - 14s 61ms/step - loss: 0.3855 - val_loss: 0.3703\n",
      "Epoch 51/200\n",
      "223/223 [==============================] - 13s 58ms/step - loss: 0.3802 - val_loss: 0.4591\n",
      "Epoch 52/200\n",
      "223/223 [==============================] - 13s 60ms/step - loss: 0.3810 - val_loss: 0.4865\n",
      "Epoch 53/200\n",
      "223/223 [==============================] - 13s 60ms/step - loss: 0.3821 - val_loss: 0.4315\n",
      "Epoch 54/200\n",
      "223/223 [==============================] - 13s 60ms/step - loss: 0.3710 - val_loss: 0.4448\n",
      "Epoch 55/200\n",
      "223/223 [==============================] - 13s 60ms/step - loss: 0.3685 - val_loss: 0.5041\n",
      "Epoch 56/200\n",
      "223/223 [==============================] - 13s 60ms/step - loss: 0.3789 - val_loss: 0.3969\n",
      "Epoch 57/200\n",
      "223/223 [==============================] - 13s 60ms/step - loss: 0.3690 - val_loss: 0.4373\n",
      "Epoch 58/200\n",
      "223/223 [==============================] - 15s 69ms/step - loss: 0.3939 - val_loss: 0.4098\n",
      "Epoch 59/200\n",
      "223/223 [==============================] - 14s 61ms/step - loss: 0.3710 - val_loss: 0.4765\n",
      "Epoch 60/200\n",
      "223/223 [==============================] - 12s 56ms/step - loss: 0.3665 - val_loss: 0.4663\n",
      "Epoch 61/200\n",
      "223/223 [==============================] - 13s 57ms/step - loss: 0.3659 - val_loss: 0.4117\n",
      "Epoch 62/200\n",
      "223/223 [==============================] - 13s 56ms/step - loss: 0.3701 - val_loss: 0.3864\n",
      "Epoch 63/200\n",
      "223/223 [==============================] - 13s 58ms/step - loss: 0.3623 - val_loss: 0.4475\n",
      "Epoch 64/200\n",
      "223/223 [==============================] - 15s 67ms/step - loss: 0.3769 - val_loss: 0.4266\n",
      "Epoch 65/200\n",
      "223/223 [==============================] - 16s 73ms/step - loss: 0.3723 - val_loss: 0.4418\n",
      "Epoch 66/200\n",
      "223/223 [==============================] - 14s 63ms/step - loss: 0.3639 - val_loss: 0.4746\n",
      "Epoch 67/200\n",
      "223/223 [==============================] - 13s 59ms/step - loss: 0.3589 - val_loss: 0.5460\n",
      "Epoch 68/200\n",
      "223/223 [==============================] - 13s 59ms/step - loss: 0.3578 - val_loss: 0.4860\n",
      "Epoch 68: early stopping\n"
     ]
    },
    {
     "data": {
      "text/plain": [
       "<keras.callbacks.History at 0x226d513f248>"
      ]
     },
     "execution_count": 22,
     "metadata": {},
     "output_type": "execute_result"
    }
   ],
   "source": [
    "model.fit(x=X_train_over, \n",
    "          y=y_train_over, \n",
    "          epochs=200,\n",
    "          validation_data=(X_test_over, y_test), verbose=1,\n",
    "          callbacks=[early_stop]\n",
    "          )"
   ]
  },
  {
   "cell_type": "code",
   "execution_count": 23,
   "id": "6db40385",
   "metadata": {
    "scrolled": false
   },
   "outputs": [
    {
     "data": {
      "text/plain": [
       "<AxesSubplot:>"
      ]
     },
     "execution_count": 23,
     "metadata": {},
     "output_type": "execute_result"
    },
    {
     "data": {
      "image/png": "[encoded data removed]",
      "text/plain": [
       "<Figure size 432x288 with 1 Axes>"
      ]
     },
     "metadata": {
      "needs_background": "light"
     },
     "output_type": "display_data"
    }
   ],
   "source": [
    "model_loss = pd.DataFrame(model.history.history)\n",
    "model_loss.plot()"
   ]
  },
  {
   "cell_type": "code",
   "execution_count": 24,
   "id": "6a654192",
   "metadata": {},
   "outputs": [
    {
     "name": "stdout",
     "output_type": "stream",
     "text": [
      "29/29 [==============================] - 2s 10ms/step\n"
     ]
    }
   ],
   "source": [
    "predictions = (model.predict(X_test) > 0.5).astype(\"int32\")\n"
   ]
  },
  {
   "cell_type": "code",
   "execution_count": 25,
   "id": "d20cad57",
   "metadata": {},
   "outputs": [
    {
     "name": "stdout",
     "output_type": "stream",
     "text": [
      "              precision    recall  f1-score   support\n",
      "\n",
      "           0       0.96      0.99      0.98       891\n",
      "           1       0.10      0.03      0.05        34\n",
      "\n",
      "    accuracy                           0.95       925\n",
      "   macro avg       0.53      0.51      0.51       925\n",
      "weighted avg       0.93      0.95      0.94       925\n",
      "\n"
     ]
    }
   ],
   "source": [
    "from sklearn.metrics import classification_report\n",
    "print(classification_report(y_test,predictions))"
   ]
  },
  {
   "cell_type": "code",
   "execution_count": 26,
   "id": "3f23ae22",
   "metadata": {},
   "outputs": [],
   "source": [
    "test_data = arff.loadarff('data (1)/2year.arff')\n",
    "test_df = pd.DataFrame(test_data[0])"
   ]
  },
  {
   "cell_type": "code",
   "execution_count": 27,
   "id": "1dd928c2",
   "metadata": {},
   "outputs": [
    {
     "data": {
      "text/plain": [
       "(10173, 65)"
      ]
     },
     "execution_count": 27,
     "metadata": {},
     "output_type": "execute_result"
    }
   ],
   "source": [
    "test_df.shape"
   ]
  },
  {
   "cell_type": "code",
   "execution_count": 28,
   "id": "d621cbd9",
   "metadata": {},
   "outputs": [],
   "source": [
    "test_df=test_df.rename({\"class\":\"bankrupt\"},axis = 1 )"
   ]
  },
  {
   "cell_type": "code",
   "execution_count": 29,
   "id": "39b75540",
   "metadata": {},
   "outputs": [],
   "source": [
    "test_df[\"bankrupt\"] = le.fit_transform(test_df.bankrupt)"
   ]
  },
  {
   "cell_type": "code",
   "execution_count": 30,
   "id": "e46cbe3c",
   "metadata": {},
   "outputs": [
    {
     "data": {
      "text/plain": [
       "(10173, 41)"
      ]
     },
     "execution_count": 30,
     "metadata": {},
     "output_type": "execute_result"
    }
   ],
   "source": [
    "test_df = test_df.drop(columns=col_corr)\n",
    "test_df.shape\n"
   ]
  },
  {
   "cell_type": "code",
   "execution_count": 31,
   "id": "19b4e0d0",
   "metadata": {},
   "outputs": [],
   "source": [
    "test_df=test_df.dropna()"
   ]
  },
  {
   "cell_type": "code",
   "execution_count": 32,
   "id": "d5e67507",
   "metadata": {},
   "outputs": [
    {
     "data": {
      "text/html": [
       "<div>\n",
       "<style scoped>\n",
       "    .dataframe tbody tr th:only-of-type {\n",
       "        vertical-align: middle;\n",
       "    }\n",
       "\n",
       "    .dataframe tbody tr th {\n",
       "        vertical-align: top;\n",
       "    }\n",
       "\n",
       "    .dataframe thead th {\n",
       "        text-align: right;\n",
       "    }\n",
       "</style>\n",
       "<table border=\"1\" class=\"dataframe\">\n",
       "  <thead>\n",
       "    <tr style=\"text-align: right;\">\n",
       "      <th></th>\n",
       "      <th>Attr1</th>\n",
       "      <th>Attr2</th>\n",
       "      <th>Attr3</th>\n",
       "      <th>Attr4</th>\n",
       "      <th>Attr5</th>\n",
       "      <th>Attr8</th>\n",
       "      <th>Attr9</th>\n",
       "      <th>Attr12</th>\n",
       "      <th>Attr13</th>\n",
       "      <th>Attr15</th>\n",
       "      <th>...</th>\n",
       "      <th>Attr55</th>\n",
       "      <th>Attr56</th>\n",
       "      <th>Attr57</th>\n",
       "      <th>Attr58</th>\n",
       "      <th>Attr59</th>\n",
       "      <th>Attr60</th>\n",
       "      <th>Attr61</th>\n",
       "      <th>Attr63</th>\n",
       "      <th>Attr64</th>\n",
       "      <th>bankrupt</th>\n",
       "    </tr>\n",
       "  </thead>\n",
       "  <tbody>\n",
       "    <tr>\n",
       "      <th>0</th>\n",
       "      <td>0.202350</td>\n",
       "      <td>0.46500</td>\n",
       "      <td>0.240380</td>\n",
       "      <td>1.51710</td>\n",
       "      <td>-14.547</td>\n",
       "      <td>0.918160</td>\n",
       "      <td>1.1519</td>\n",
       "      <td>0.545610</td>\n",
       "      <td>0.178650</td>\n",
       "      <td>603.20</td>\n",
       "      <td>...</td>\n",
       "      <td>242500.0000</td>\n",
       "      <td>0.131840</td>\n",
       "      <td>0.473950</td>\n",
       "      <td>0.86816</td>\n",
       "      <td>0.000240</td>\n",
       "      <td>8.5487</td>\n",
       "      <td>5.1655</td>\n",
       "      <td>3.3879</td>\n",
       "      <td>5.34400</td>\n",
       "      <td>0</td>\n",
       "    </tr>\n",
       "    <tr>\n",
       "      <th>5</th>\n",
       "      <td>0.287840</td>\n",
       "      <td>0.55225</td>\n",
       "      <td>0.316340</td>\n",
       "      <td>1.70330</td>\n",
       "      <td>38.803</td>\n",
       "      <td>0.807610</td>\n",
       "      <td>1.2920</td>\n",
       "      <td>0.639910</td>\n",
       "      <td>0.199180</td>\n",
       "      <td>683.17</td>\n",
       "      <td>...</td>\n",
       "      <td>8040.8000</td>\n",
       "      <td>0.225990</td>\n",
       "      <td>0.645370</td>\n",
       "      <td>0.77401</td>\n",
       "      <td>0.229690</td>\n",
       "      <td>7.8151</td>\n",
       "      <td>3.1534</td>\n",
       "      <td>3.2933</td>\n",
       "      <td>6.33460</td>\n",
       "      <td>0</td>\n",
       "    </tr>\n",
       "    <tr>\n",
       "      <th>9</th>\n",
       "      <td>0.009901</td>\n",
       "      <td>0.71174</td>\n",
       "      <td>0.065186</td>\n",
       "      <td>1.14850</td>\n",
       "      <td>-62.297</td>\n",
       "      <td>0.405000</td>\n",
       "      <td>1.1738</td>\n",
       "      <td>0.030651</td>\n",
       "      <td>0.047467</td>\n",
       "      <td>4662.40</td>\n",
       "      <td>...</td>\n",
       "      <td>1.1485</td>\n",
       "      <td>0.203090</td>\n",
       "      <td>0.034347</td>\n",
       "      <td>0.83056</td>\n",
       "      <td>0.720470</td>\n",
       "      <td>7.7605</td>\n",
       "      <td>4.1253</td>\n",
       "      <td>2.6732</td>\n",
       "      <td>2.36800</td>\n",
       "      <td>0</td>\n",
       "    </tr>\n",
       "    <tr>\n",
       "      <th>13</th>\n",
       "      <td>0.179490</td>\n",
       "      <td>0.42473</td>\n",
       "      <td>0.552350</td>\n",
       "      <td>2.45160</td>\n",
       "      <td>42.408</td>\n",
       "      <td>1.354400</td>\n",
       "      <td>1.1023</td>\n",
       "      <td>0.588520</td>\n",
       "      <td>0.094009</td>\n",
       "      <td>638.02</td>\n",
       "      <td>...</td>\n",
       "      <td>5133.0000</td>\n",
       "      <td>0.092802</td>\n",
       "      <td>0.312010</td>\n",
       "      <td>0.90720</td>\n",
       "      <td>0.076880</td>\n",
       "      <td>9.3788</td>\n",
       "      <td>4.9068</td>\n",
       "      <td>6.7927</td>\n",
       "      <td>38.49200</td>\n",
       "      <td>0</td>\n",
       "    </tr>\n",
       "    <tr>\n",
       "      <th>14</th>\n",
       "      <td>0.124600</td>\n",
       "      <td>0.20223</td>\n",
       "      <td>0.169850</td>\n",
       "      <td>3.15630</td>\n",
       "      <td>92.043</td>\n",
       "      <td>3.944800</td>\n",
       "      <td>1.2747</td>\n",
       "      <td>1.877800</td>\n",
       "      <td>0.283050</td>\n",
       "      <td>470.07</td>\n",
       "      <td>...</td>\n",
       "      <td>15157.0000</td>\n",
       "      <td>0.215480</td>\n",
       "      <td>0.156190</td>\n",
       "      <td>0.78452</td>\n",
       "      <td>0.154760</td>\n",
       "      <td>9.7697</td>\n",
       "      <td>3.1420</td>\n",
       "      <td>7.0431</td>\n",
       "      <td>0.73834</td>\n",
       "      <td>0</td>\n",
       "    </tr>\n",
       "    <tr>\n",
       "      <th>...</th>\n",
       "      <td>...</td>\n",
       "      <td>...</td>\n",
       "      <td>...</td>\n",
       "      <td>...</td>\n",
       "      <td>...</td>\n",
       "      <td>...</td>\n",
       "      <td>...</td>\n",
       "      <td>...</td>\n",
       "      <td>...</td>\n",
       "      <td>...</td>\n",
       "      <td>...</td>\n",
       "      <td>...</td>\n",
       "      <td>...</td>\n",
       "      <td>...</td>\n",
       "      <td>...</td>\n",
       "      <td>...</td>\n",
       "      <td>...</td>\n",
       "      <td>...</td>\n",
       "      <td>...</td>\n",
       "      <td>...</td>\n",
       "      <td>...</td>\n",
       "    </tr>\n",
       "    <tr>\n",
       "      <th>10144</th>\n",
       "      <td>0.017809</td>\n",
       "      <td>0.68783</td>\n",
       "      <td>-0.120540</td>\n",
       "      <td>0.59797</td>\n",
       "      <td>-19.153</td>\n",
       "      <td>0.453740</td>\n",
       "      <td>3.0423</td>\n",
       "      <td>0.063407</td>\n",
       "      <td>0.028503</td>\n",
       "      <td>2895.30</td>\n",
       "      <td>...</td>\n",
       "      <td>-1502.0000</td>\n",
       "      <td>0.004722</td>\n",
       "      <td>0.057064</td>\n",
       "      <td>0.98606</td>\n",
       "      <td>0.271790</td>\n",
       "      <td>82.3330</td>\n",
       "      <td>23.7980</td>\n",
       "      <td>10.1470</td>\n",
       "      <td>3.70720</td>\n",
       "      <td>1</td>\n",
       "    </tr>\n",
       "    <tr>\n",
       "      <th>10147</th>\n",
       "      <td>0.030497</td>\n",
       "      <td>0.58615</td>\n",
       "      <td>-0.154100</td>\n",
       "      <td>0.71603</td>\n",
       "      <td>-64.241</td>\n",
       "      <td>0.706060</td>\n",
       "      <td>1.8680</td>\n",
       "      <td>0.076571</td>\n",
       "      <td>0.081292</td>\n",
       "      <td>1408.90</td>\n",
       "      <td>...</td>\n",
       "      <td>-2026.6000</td>\n",
       "      <td>0.037036</td>\n",
       "      <td>0.073691</td>\n",
       "      <td>0.98061</td>\n",
       "      <td>0.047546</td>\n",
       "      <td>14.7900</td>\n",
       "      <td>7.9381</td>\n",
       "      <td>3.4422</td>\n",
       "      <td>3.05500</td>\n",
       "      <td>1</td>\n",
       "    </tr>\n",
       "    <tr>\n",
       "      <th>10164</th>\n",
       "      <td>0.021711</td>\n",
       "      <td>0.67433</td>\n",
       "      <td>-0.053895</td>\n",
       "      <td>0.86170</td>\n",
       "      <td>-28.020</td>\n",
       "      <td>0.482940</td>\n",
       "      <td>2.2549</td>\n",
       "      <td>0.055610</td>\n",
       "      <td>0.026651</td>\n",
       "      <td>4095.70</td>\n",
       "      <td>...</td>\n",
       "      <td>-3597.8000</td>\n",
       "      <td>0.028367</td>\n",
       "      <td>0.066667</td>\n",
       "      <td>0.99448</td>\n",
       "      <td>0.734480</td>\n",
       "      <td>20.6960</td>\n",
       "      <td>10.3900</td>\n",
       "      <td>5.7863</td>\n",
       "      <td>3.39490</td>\n",
       "      <td>1</td>\n",
       "    </tr>\n",
       "    <tr>\n",
       "      <th>10166</th>\n",
       "      <td>0.050322</td>\n",
       "      <td>0.77767</td>\n",
       "      <td>-0.183350</td>\n",
       "      <td>0.65177</td>\n",
       "      <td>-34.598</td>\n",
       "      <td>0.285890</td>\n",
       "      <td>3.5422</td>\n",
       "      <td>0.095577</td>\n",
       "      <td>0.035115</td>\n",
       "      <td>2282.10</td>\n",
       "      <td>...</td>\n",
       "      <td>-3669.0000</td>\n",
       "      <td>0.033535</td>\n",
       "      <td>0.226340</td>\n",
       "      <td>0.97348</td>\n",
       "      <td>0.645760</td>\n",
       "      <td>25.9930</td>\n",
       "      <td>18.8420</td>\n",
       "      <td>6.7276</td>\n",
       "      <td>5.39270</td>\n",
       "      <td>1</td>\n",
       "    </tr>\n",
       "    <tr>\n",
       "      <th>10172</th>\n",
       "      <td>0.002072</td>\n",
       "      <td>0.94315</td>\n",
       "      <td>-0.134740</td>\n",
       "      <td>0.85607</td>\n",
       "      <td>-119.920</td>\n",
       "      <td>0.059818</td>\n",
       "      <td>1.7749</td>\n",
       "      <td>0.002213</td>\n",
       "      <td>0.011988</td>\n",
       "      <td>16179.00</td>\n",
       "      <td>...</td>\n",
       "      <td>-173.0000</td>\n",
       "      <td>0.031154</td>\n",
       "      <td>0.036720</td>\n",
       "      <td>0.96220</td>\n",
       "      <td>0.132800</td>\n",
       "      <td>4.1618</td>\n",
       "      <td>4.9734</td>\n",
       "      <td>1.8960</td>\n",
       "      <td>8.95620</td>\n",
       "      <td>1</td>\n",
       "    </tr>\n",
       "  </tbody>\n",
       "</table>\n",
       "<p>4088 rows × 41 columns</p>\n",
       "</div>"
      ],
      "text/plain": [
       "          Attr1    Attr2     Attr3    Attr4    Attr5     Attr8   Attr9  \\\n",
       "0      0.202350  0.46500  0.240380  1.51710  -14.547  0.918160  1.1519   \n",
       "5      0.287840  0.55225  0.316340  1.70330   38.803  0.807610  1.2920   \n",
       "9      0.009901  0.71174  0.065186  1.14850  -62.297  0.405000  1.1738   \n",
       "13     0.179490  0.42473  0.552350  2.45160   42.408  1.354400  1.1023   \n",
       "14     0.124600  0.20223  0.169850  3.15630   92.043  3.944800  1.2747   \n",
       "...         ...      ...       ...      ...      ...       ...     ...   \n",
       "10144  0.017809  0.68783 -0.120540  0.59797  -19.153  0.453740  3.0423   \n",
       "10147  0.030497  0.58615 -0.154100  0.71603  -64.241  0.706060  1.8680   \n",
       "10164  0.021711  0.67433 -0.053895  0.86170  -28.020  0.482940  2.2549   \n",
       "10166  0.050322  0.77767 -0.183350  0.65177  -34.598  0.285890  3.5422   \n",
       "10172  0.002072  0.94315 -0.134740  0.85607 -119.920  0.059818  1.7749   \n",
       "\n",
       "         Attr12    Attr13    Attr15  ...       Attr55    Attr56    Attr57  \\\n",
       "0      0.545610  0.178650    603.20  ...  242500.0000  0.131840  0.473950   \n",
       "5      0.639910  0.199180    683.17  ...    8040.8000  0.225990  0.645370   \n",
       "9      0.030651  0.047467   4662.40  ...       1.1485  0.203090  0.034347   \n",
       "13     0.588520  0.094009    638.02  ...    5133.0000  0.092802  0.312010   \n",
       "14     1.877800  0.283050    470.07  ...   15157.0000  0.215480  0.156190   \n",
       "...         ...       ...       ...  ...          ...       ...       ...   \n",
       "10144  0.063407  0.028503   2895.30  ...   -1502.0000  0.004722  0.057064   \n",
       "10147  0.076571  0.081292   1408.90  ...   -2026.6000  0.037036  0.073691   \n",
       "10164  0.055610  0.026651   4095.70  ...   -3597.8000  0.028367  0.066667   \n",
       "10166  0.095577  0.035115   2282.10  ...   -3669.0000  0.033535  0.226340   \n",
       "10172  0.002213  0.011988  16179.00  ...    -173.0000  0.031154  0.036720   \n",
       "\n",
       "        Attr58    Attr59   Attr60   Attr61   Attr63    Attr64  bankrupt  \n",
       "0      0.86816  0.000240   8.5487   5.1655   3.3879   5.34400         0  \n",
       "5      0.77401  0.229690   7.8151   3.1534   3.2933   6.33460         0  \n",
       "9      0.83056  0.720470   7.7605   4.1253   2.6732   2.36800         0  \n",
       "13     0.90720  0.076880   9.3788   4.9068   6.7927  38.49200         0  \n",
       "14     0.78452  0.154760   9.7697   3.1420   7.0431   0.73834         0  \n",
       "...        ...       ...      ...      ...      ...       ...       ...  \n",
       "10144  0.98606  0.271790  82.3330  23.7980  10.1470   3.70720         1  \n",
       "10147  0.98061  0.047546  14.7900   7.9381   3.4422   3.05500         1  \n",
       "10164  0.99448  0.734480  20.6960  10.3900   5.7863   3.39490         1  \n",
       "10166  0.97348  0.645760  25.9930  18.8420   6.7276   5.39270         1  \n",
       "10172  0.96220  0.132800   4.1618   4.9734   1.8960   8.95620         1  \n",
       "\n",
       "[4088 rows x 41 columns]"
      ]
     },
     "execution_count": 32,
     "metadata": {},
     "output_type": "execute_result"
    }
   ],
   "source": [
    "test_df"
   ]
  },
  {
   "cell_type": "code",
   "execution_count": 33,
   "id": "3d7025e3",
   "metadata": {},
   "outputs": [],
   "source": [
    "target = \"bankrupt\"\n",
    "final_x_test = test_df.drop(columns=target)\n",
    "final_y_test = test_df[target]"
   ]
  },
  {
   "cell_type": "code",
   "execution_count": 34,
   "id": "aa67bcb3",
   "metadata": {},
   "outputs": [
    {
     "data": {
      "text/plain": [
       "0        0\n",
       "5        0\n",
       "9        0\n",
       "13       0\n",
       "14       0\n",
       "        ..\n",
       "10144    1\n",
       "10147    1\n",
       "10164    1\n",
       "10166    1\n",
       "10172    1\n",
       "Name: bankrupt, Length: 4088, dtype: int32"
      ]
     },
     "execution_count": 34,
     "metadata": {},
     "output_type": "execute_result"
    }
   ],
   "source": [
    "final_y_test"
   ]
  },
  {
   "cell_type": "code",
   "execution_count": 35,
   "id": "c92c97cf",
   "metadata": {},
   "outputs": [
    {
     "name": "stdout",
     "output_type": "stream",
     "text": [
      "128/128 [==============================] - 2s 13ms/step\n"
     ]
    }
   ],
   "source": [
    "predictions = (model.predict(final_x_test) > 0.8).astype(\"int32\")"
   ]
  },
  {
   "cell_type": "code",
   "execution_count": 36,
   "id": "7109c548",
   "metadata": {},
   "outputs": [
    {
     "name": "stdout",
     "output_type": "stream",
     "text": [
      "[1]\n",
      "[1]\n",
      "[1]\n",
      "[1]\n",
      "[1]\n",
      "[1]\n",
      "[1]\n",
      "[1]\n",
      "[1]\n",
      "[1]\n",
      "[1]\n",
      "[1]\n",
      "[1]\n",
      "[1]\n",
      "[1]\n",
      "[1]\n",
      "[1]\n",
      "[1]\n",
      "[1]\n",
      "[1]\n",
      "[1]\n",
      "[1]\n",
      "[1]\n",
      "[1]\n",
      "[1]\n",
      "[1]\n",
      "[1]\n",
      "[1]\n",
      "[1]\n",
      "[1]\n",
      "[1]\n",
      "[1]\n",
      "[1]\n",
      "[1]\n",
      "[1]\n",
      "[1]\n",
      "[1]\n",
      "[1]\n",
      "[1]\n",
      "[1]\n",
      "[1]\n",
      "[1]\n",
      "[1]\n",
      "[1]\n",
      "[1]\n",
      "[1]\n",
      "[1]\n",
      "[1]\n",
      "[1]\n",
      "[1]\n",
      "[1]\n",
      "[1]\n",
      "[1]\n",
      "[1]\n",
      "[1]\n",
      "[1]\n",
      "[1]\n",
      "[1]\n",
      "[1]\n",
      "[1]\n",
      "[1]\n",
      "[1]\n",
      "[1]\n",
      "[1]\n",
      "[1]\n",
      "[1]\n",
      "[1]\n",
      "[1]\n",
      "[1]\n",
      "[1]\n",
      "[1]\n",
      "[1]\n",
      "[1]\n",
      "[1]\n",
      "[1]\n",
      "[1]\n",
      "[1]\n",
      "[1]\n",
      "[1]\n",
      "[1]\n",
      "[1]\n",
      "[1]\n",
      "[1]\n",
      "[1]\n",
      "[1]\n",
      "[1]\n",
      "[1]\n",
      "[1]\n",
      "[1]\n",
      "[1]\n",
      "[1]\n",
      "[1]\n",
      "[1]\n",
      "[1]\n",
      "[1]\n",
      "[1]\n",
      "[1]\n",
      "[1]\n",
      "[1]\n",
      "[1]\n",
      "[1]\n",
      "[1]\n",
      "[1]\n",
      "[1]\n",
      "[1]\n",
      "[1]\n",
      "[1]\n",
      "[1]\n",
      "[1]\n",
      "[1]\n",
      "[1]\n",
      "[1]\n",
      "[1]\n",
      "[1]\n",
      "[1]\n",
      "[1]\n",
      "[1]\n",
      "[1]\n",
      "[1]\n",
      "[1]\n",
      "[1]\n",
      "[1]\n",
      "[1]\n",
      "[1]\n",
      "[1]\n",
      "[1]\n",
      "[1]\n",
      "[1]\n",
      "[1]\n",
      "[1]\n",
      "[1]\n",
      "[1]\n",
      "[1]\n",
      "[1]\n",
      "[1]\n",
      "[1]\n",
      "[1]\n",
      "[1]\n",
      "[1]\n",
      "[1]\n"
     ]
    }
   ],
   "source": [
    "for i in predictions:\n",
    "    if i ==1:\n",
    "        print(i)\n",
    "   \n",
    "    "
   ]
  },
  {
   "cell_type": "code",
   "execution_count": 37,
   "id": "3ff659fb",
   "metadata": {},
   "outputs": [
    {
     "name": "stdout",
     "output_type": "stream",
     "text": [
      "              precision    recall  f1-score   support\n",
      "\n",
      "           0       0.98      0.97      0.97      4015\n",
      "           1       0.03      0.05      0.04        73\n",
      "\n",
      "    accuracy                           0.95      4088\n",
      "   macro avg       0.51      0.51      0.51      4088\n",
      "weighted avg       0.97      0.95      0.96      4088\n",
      "\n"
     ]
    }
   ],
   "source": [
    "print(classification_report(final_y_test,predictions))"
   ]
  },
  {
   "cell_type": "markdown",
   "id": "4ab80253",
   "metadata": {},
   "source": [
    "###  although the accuracy is high but the neural network model is not very good in terms of recall metric"
   ]
  },
  {
   "cell_type": "code",
   "execution_count": null,
   "id": "49a3b444",
   "metadata": {},
   "outputs": [],
   "source": []
  }
 ],
 "metadata": {
  "kernelspec": {
   "display_name": "tf-venv",
   "language": "python",
   "name": "tf-venv"
  },
  "language_info": {
   "codemirror_mode": {
    "name": "ipython",
    "version": 3
   },
   "file_extension": ".py",
   "mimetype": "text/x-python",
   "name": "python",
   "nbconvert_exporter": "python",
   "pygments_lexer": "ipython3",
   "version": "3.7.15"
  }
 },
 "nbformat": 4,
 "nbformat_minor": 5
}
