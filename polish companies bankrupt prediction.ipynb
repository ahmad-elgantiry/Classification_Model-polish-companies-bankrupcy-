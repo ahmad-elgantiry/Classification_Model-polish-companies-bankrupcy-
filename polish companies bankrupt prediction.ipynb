{
 "cells": [
  {
   "cell_type": "markdown",
   "id": "ef16e0b7",
   "metadata": {},
   "source": [
    "The dataset is about bankruptcy prediction of Polish companies. The data was collected from Emerging Markets Information Service ([EMIS](https://www.emis.com)), which is a database containing information on emerging markets around the world. The bankrupt companies were analyzed in the period 2000-2012, while the still operating companies were evaluated from 2007 to 2013.\n",
    "datasetLink:\"https://archive.ics.uci.edu/ml/datasets/Polish+companies+bankruptcy+data\""
   ]
  },
  {
   "cell_type": "code",
   "execution_count": 1,
   "id": "b44636e2",
   "metadata": {},
   "outputs": [],
   "source": [
    "#importing libraries \n",
    "import matplotlib.pyplot as plt\n",
    "import numpy as np\n",
    "import seaborn as sns\n",
    "import pandas as pd\n",
    "from imblearn.over_sampling import RandomOverSampler\n",
    "from imblearn.under_sampling import RandomUnderSampler\n",
    "from sklearn.impute import SimpleImputer\n",
    "from sklearn.metrics import ConfusionMatrixDisplay, confusion_matrix\n",
    "from sklearn.model_selection import train_test_split,GridSearchCV, cross_val_score\n",
    "from sklearn.pipeline import make_pipeline\n",
    "from sklearn.preprocessing import StandardScaler\n"
   ]
  },
  {
   "cell_type": "code",
   "execution_count": 2,
   "id": "f12f6588",
   "metadata": {},
   "outputs": [],
   "source": [
    "#the data was in arff file formate,so i used scipy library to read it \n",
    "from scipy.io import arff\n",
    "data = arff.loadarff('data (1)/3year.arff')\n",
    "df = pd.DataFrame(data[0])"
   ]
  },
  {
   "cell_type": "code",
   "execution_count": 3,
   "id": "5f6f7f8f",
   "metadata": {},
   "outputs": [
    {
     "data": {
      "text/plain": [
       "(10503, 65)"
      ]
     },
     "execution_count": 3,
     "metadata": {},
     "output_type": "execute_result"
    }
   ],
   "source": [
    "df.shape"
   ]
  },
  {
   "cell_type": "code",
   "execution_count": 4,
   "id": "57bbf772",
   "metadata": {},
   "outputs": [
    {
     "data": {
      "text/plain": [
       "Index(['Attr1', 'Attr2', 'Attr3', 'Attr4', 'Attr5', 'Attr6', 'Attr7', 'Attr8',\n",
       "       'Attr9', 'Attr10', 'Attr11', 'Attr12', 'Attr13', 'Attr14', 'Attr15',\n",
       "       'Attr16', 'Attr17', 'Attr18', 'Attr19', 'Attr20', 'Attr21', 'Attr22',\n",
       "       'Attr23', 'Attr24', 'Attr25', 'Attr26', 'Attr27', 'Attr28', 'Attr29',\n",
       "       'Attr30', 'Attr31', 'Attr32', 'Attr33', 'Attr34', 'Attr35', 'Attr36',\n",
       "       'Attr37', 'Attr38', 'Attr39', 'Attr40', 'Attr41', 'Attr42', 'Attr43',\n",
       "       'Attr44', 'Attr45', 'Attr46', 'Attr47', 'Attr48', 'Attr49', 'Attr50',\n",
       "       'Attr51', 'Attr52', 'Attr53', 'Attr54', 'Attr55', 'Attr56', 'Attr57',\n",
       "       'Attr58', 'Attr59', 'Attr60', 'Attr61', 'Attr62', 'Attr63', 'Attr64',\n",
       "       'class'],\n",
       "      dtype='object')"
      ]
     },
     "execution_count": 4,
     "metadata": {},
     "output_type": "execute_result"
    }
   ],
   "source": [
    "df.columns"
   ]
  },
  {
   "cell_type": "code",
   "execution_count": 5,
   "id": "c9650a98",
   "metadata": {},
   "outputs": [],
   "source": [
    "df=df.rename({\"class\":\"bankrupt\"},axis = 1 )\n"
   ]
  },
  {
   "cell_type": "code",
   "execution_count": 6,
   "id": "789695cb",
   "metadata": {},
   "outputs": [
    {
     "data": {
      "text/plain": [
       "'bankrupt'"
      ]
     },
     "execution_count": 6,
     "metadata": {},
     "output_type": "execute_result"
    }
   ],
   "source": [
    "df.columns[-1]"
   ]
  },
  {
   "cell_type": "code",
   "execution_count": 7,
   "id": "daa1e6dd",
   "metadata": {
    "scrolled": true
   },
   "outputs": [
    {
     "data": {
      "text/html": [
       "<div>\n",
       "<style scoped>\n",
       "    .dataframe tbody tr th:only-of-type {\n",
       "        vertical-align: middle;\n",
       "    }\n",
       "\n",
       "    .dataframe tbody tr th {\n",
       "        vertical-align: top;\n",
       "    }\n",
       "\n",
       "    .dataframe thead th {\n",
       "        text-align: right;\n",
       "    }\n",
       "</style>\n",
       "<table border=\"1\" class=\"dataframe\">\n",
       "  <thead>\n",
       "    <tr style=\"text-align: right;\">\n",
       "      <th></th>\n",
       "      <th>Attr1</th>\n",
       "      <th>Attr2</th>\n",
       "      <th>Attr3</th>\n",
       "      <th>Attr4</th>\n",
       "      <th>Attr5</th>\n",
       "      <th>Attr6</th>\n",
       "      <th>Attr7</th>\n",
       "      <th>Attr8</th>\n",
       "      <th>Attr9</th>\n",
       "      <th>Attr10</th>\n",
       "      <th>...</th>\n",
       "      <th>Attr56</th>\n",
       "      <th>Attr57</th>\n",
       "      <th>Attr58</th>\n",
       "      <th>Attr59</th>\n",
       "      <th>Attr60</th>\n",
       "      <th>Attr61</th>\n",
       "      <th>Attr62</th>\n",
       "      <th>Attr63</th>\n",
       "      <th>Attr64</th>\n",
       "      <th>bankrupt</th>\n",
       "    </tr>\n",
       "  </thead>\n",
       "  <tbody>\n",
       "    <tr>\n",
       "      <th>0</th>\n",
       "      <td>0.174190</td>\n",
       "      <td>0.41299</td>\n",
       "      <td>0.14371</td>\n",
       "      <td>1.3480</td>\n",
       "      <td>-28.9820</td>\n",
       "      <td>0.60383</td>\n",
       "      <td>0.219460</td>\n",
       "      <td>1.1225</td>\n",
       "      <td>1.1961</td>\n",
       "      <td>0.46359</td>\n",
       "      <td>...</td>\n",
       "      <td>0.163960</td>\n",
       "      <td>0.375740</td>\n",
       "      <td>0.83604</td>\n",
       "      <td>0.000007</td>\n",
       "      <td>9.7145</td>\n",
       "      <td>6.2813</td>\n",
       "      <td>84.291</td>\n",
       "      <td>4.3303</td>\n",
       "      <td>4.0341</td>\n",
       "      <td>b'0'</td>\n",
       "    </tr>\n",
       "    <tr>\n",
       "      <th>1</th>\n",
       "      <td>0.146240</td>\n",
       "      <td>0.46038</td>\n",
       "      <td>0.28230</td>\n",
       "      <td>1.6294</td>\n",
       "      <td>2.5952</td>\n",
       "      <td>0.00000</td>\n",
       "      <td>0.171850</td>\n",
       "      <td>1.1721</td>\n",
       "      <td>1.6018</td>\n",
       "      <td>0.53962</td>\n",
       "      <td>...</td>\n",
       "      <td>0.027516</td>\n",
       "      <td>0.271000</td>\n",
       "      <td>0.90108</td>\n",
       "      <td>0.000000</td>\n",
       "      <td>5.9882</td>\n",
       "      <td>4.1103</td>\n",
       "      <td>102.190</td>\n",
       "      <td>3.5716</td>\n",
       "      <td>5.9500</td>\n",
       "      <td>b'0'</td>\n",
       "    </tr>\n",
       "    <tr>\n",
       "      <th>2</th>\n",
       "      <td>0.000595</td>\n",
       "      <td>0.22612</td>\n",
       "      <td>0.48839</td>\n",
       "      <td>3.1599</td>\n",
       "      <td>84.8740</td>\n",
       "      <td>0.19114</td>\n",
       "      <td>0.004572</td>\n",
       "      <td>2.9881</td>\n",
       "      <td>1.0077</td>\n",
       "      <td>0.67566</td>\n",
       "      <td>...</td>\n",
       "      <td>0.007639</td>\n",
       "      <td>0.000881</td>\n",
       "      <td>0.99236</td>\n",
       "      <td>0.000000</td>\n",
       "      <td>6.7742</td>\n",
       "      <td>3.7922</td>\n",
       "      <td>64.846</td>\n",
       "      <td>5.6287</td>\n",
       "      <td>4.4581</td>\n",
       "      <td>b'0'</td>\n",
       "    </tr>\n",
       "  </tbody>\n",
       "</table>\n",
       "<p>3 rows × 65 columns</p>\n",
       "</div>"
      ],
      "text/plain": [
       "      Attr1    Attr2    Attr3   Attr4    Attr5    Attr6     Attr7   Attr8  \\\n",
       "0  0.174190  0.41299  0.14371  1.3480 -28.9820  0.60383  0.219460  1.1225   \n",
       "1  0.146240  0.46038  0.28230  1.6294   2.5952  0.00000  0.171850  1.1721   \n",
       "2  0.000595  0.22612  0.48839  3.1599  84.8740  0.19114  0.004572  2.9881   \n",
       "\n",
       "    Attr9   Attr10  ...    Attr56    Attr57   Attr58    Attr59  Attr60  \\\n",
       "0  1.1961  0.46359  ...  0.163960  0.375740  0.83604  0.000007  9.7145   \n",
       "1  1.6018  0.53962  ...  0.027516  0.271000  0.90108  0.000000  5.9882   \n",
       "2  1.0077  0.67566  ...  0.007639  0.000881  0.99236  0.000000  6.7742   \n",
       "\n",
       "   Attr61   Attr62  Attr63  Attr64  bankrupt  \n",
       "0  6.2813   84.291  4.3303  4.0341      b'0'  \n",
       "1  4.1103  102.190  3.5716  5.9500      b'0'  \n",
       "2  3.7922   64.846  5.6287  4.4581      b'0'  \n",
       "\n",
       "[3 rows x 65 columns]"
      ]
     },
     "execution_count": 7,
     "metadata": {},
     "output_type": "execute_result"
    }
   ],
   "source": [
    "df.head(3)"
   ]
  },
  {
   "cell_type": "code",
   "execution_count": 8,
   "id": "e0f460c0",
   "metadata": {
    "scrolled": true
   },
   "outputs": [
    {
     "data": {
      "text/html": [
       "<div>\n",
       "<style scoped>\n",
       "    .dataframe tbody tr th:only-of-type {\n",
       "        vertical-align: middle;\n",
       "    }\n",
       "\n",
       "    .dataframe tbody tr th {\n",
       "        vertical-align: top;\n",
       "    }\n",
       "\n",
       "    .dataframe thead th {\n",
       "        text-align: right;\n",
       "    }\n",
       "</style>\n",
       "<table border=\"1\" class=\"dataframe\">\n",
       "  <thead>\n",
       "    <tr style=\"text-align: right;\">\n",
       "      <th></th>\n",
       "      <th>Attr1</th>\n",
       "      <th>Attr2</th>\n",
       "      <th>Attr3</th>\n",
       "      <th>Attr4</th>\n",
       "      <th>Attr5</th>\n",
       "      <th>Attr6</th>\n",
       "      <th>Attr7</th>\n",
       "      <th>Attr8</th>\n",
       "      <th>Attr9</th>\n",
       "      <th>Attr10</th>\n",
       "      <th>...</th>\n",
       "      <th>Attr56</th>\n",
       "      <th>Attr57</th>\n",
       "      <th>Attr58</th>\n",
       "      <th>Attr59</th>\n",
       "      <th>Attr60</th>\n",
       "      <th>Attr61</th>\n",
       "      <th>Attr62</th>\n",
       "      <th>Attr63</th>\n",
       "      <th>Attr64</th>\n",
       "      <th>bankrupt</th>\n",
       "    </tr>\n",
       "    <tr>\n",
       "      <th>company_id</th>\n",
       "      <th></th>\n",
       "      <th></th>\n",
       "      <th></th>\n",
       "      <th></th>\n",
       "      <th></th>\n",
       "      <th></th>\n",
       "      <th></th>\n",
       "      <th></th>\n",
       "      <th></th>\n",
       "      <th></th>\n",
       "      <th></th>\n",
       "      <th></th>\n",
       "      <th></th>\n",
       "      <th></th>\n",
       "      <th></th>\n",
       "      <th></th>\n",
       "      <th></th>\n",
       "      <th></th>\n",
       "      <th></th>\n",
       "      <th></th>\n",
       "      <th></th>\n",
       "    </tr>\n",
       "  </thead>\n",
       "  <tbody>\n",
       "    <tr>\n",
       "      <th>0</th>\n",
       "      <td>0.17419</td>\n",
       "      <td>0.41299</td>\n",
       "      <td>0.14371</td>\n",
       "      <td>1.3480</td>\n",
       "      <td>-28.9820</td>\n",
       "      <td>0.60383</td>\n",
       "      <td>0.21946</td>\n",
       "      <td>1.1225</td>\n",
       "      <td>1.1961</td>\n",
       "      <td>0.46359</td>\n",
       "      <td>...</td>\n",
       "      <td>0.163960</td>\n",
       "      <td>0.37574</td>\n",
       "      <td>0.83604</td>\n",
       "      <td>0.000007</td>\n",
       "      <td>9.7145</td>\n",
       "      <td>6.2813</td>\n",
       "      <td>84.291</td>\n",
       "      <td>4.3303</td>\n",
       "      <td>4.0341</td>\n",
       "      <td>b'0'</td>\n",
       "    </tr>\n",
       "    <tr>\n",
       "      <th>1</th>\n",
       "      <td>0.14624</td>\n",
       "      <td>0.46038</td>\n",
       "      <td>0.28230</td>\n",
       "      <td>1.6294</td>\n",
       "      <td>2.5952</td>\n",
       "      <td>0.00000</td>\n",
       "      <td>0.17185</td>\n",
       "      <td>1.1721</td>\n",
       "      <td>1.6018</td>\n",
       "      <td>0.53962</td>\n",
       "      <td>...</td>\n",
       "      <td>0.027516</td>\n",
       "      <td>0.27100</td>\n",
       "      <td>0.90108</td>\n",
       "      <td>0.000000</td>\n",
       "      <td>5.9882</td>\n",
       "      <td>4.1103</td>\n",
       "      <td>102.190</td>\n",
       "      <td>3.5716</td>\n",
       "      <td>5.9500</td>\n",
       "      <td>b'0'</td>\n",
       "    </tr>\n",
       "  </tbody>\n",
       "</table>\n",
       "<p>2 rows × 65 columns</p>\n",
       "</div>"
      ],
      "text/plain": [
       "              Attr1    Attr2    Attr3   Attr4    Attr5    Attr6    Attr7  \\\n",
       "company_id                                                                 \n",
       "0           0.17419  0.41299  0.14371  1.3480 -28.9820  0.60383  0.21946   \n",
       "1           0.14624  0.46038  0.28230  1.6294   2.5952  0.00000  0.17185   \n",
       "\n",
       "             Attr8   Attr9   Attr10  ...    Attr56   Attr57   Attr58  \\\n",
       "company_id                           ...                               \n",
       "0           1.1225  1.1961  0.46359  ...  0.163960  0.37574  0.83604   \n",
       "1           1.1721  1.6018  0.53962  ...  0.027516  0.27100  0.90108   \n",
       "\n",
       "              Attr59  Attr60  Attr61   Attr62  Attr63  Attr64  bankrupt  \n",
       "company_id                                                               \n",
       "0           0.000007  9.7145  6.2813   84.291  4.3303  4.0341      b'0'  \n",
       "1           0.000000  5.9882  4.1103  102.190  3.5716  5.9500      b'0'  \n",
       "\n",
       "[2 rows x 65 columns]"
      ]
     },
     "execution_count": 8,
     "metadata": {},
     "output_type": "execute_result"
    }
   ],
   "source": [
    "# setting the index name as company_id \n",
    "df.index.name = \"company_id\"\n",
    "df.head(2)"
   ]
  },
  {
   "cell_type": "code",
   "execution_count": 9,
   "id": "b39d0e76",
   "metadata": {},
   "outputs": [
    {
     "data": {
      "text/plain": [
       "b'0'    10008\n",
       "b'1'      495\n",
       "Name: bankrupt, dtype: int64"
      ]
     },
     "execution_count": 9,
     "metadata": {},
     "output_type": "execute_result"
    }
   ],
   "source": [
    "df[\"bankrupt\"].value_counts()"
   ]
  },
  {
   "cell_type": "code",
   "execution_count": 10,
   "id": "0b1c432e",
   "metadata": {},
   "outputs": [
    {
     "data": {
      "text/plain": [
       "<AxesSubplot:title={'center':'data_balance'}, xlabel='class', ylabel='frequency'>"
      ]
     },
     "execution_count": 10,
     "metadata": {},
     "output_type": "execute_result"
    },
    {
     "data": {
      "image/png": "[encoded data removed]",
      "text/plain": [
       "<Figure size 640x480 with 1 Axes>"
      ]
     },
     "metadata": {},
     "output_type": "display_data"
    }
   ],
   "source": [
    "#visualizing the data class imbalance\n",
    "(df[\"bankrupt\"].value_counts(normalize=True)\n",
    " .plot(kind=\"bar\",xlabel=\"class\",ylabel=\"frequency\",title=\"data_balance\"))"
   ]
  },
  {
   "cell_type": "code",
   "execution_count": 11,
   "id": "bacccc00",
   "metadata": {},
   "outputs": [],
   "source": [
    "# encoding the labels to [0] and [1]\n",
    "from sklearn.preprocessing import LabelEncoder\n",
    "le = LabelEncoder()\n",
    "df[\"bankrupt\"] = le.fit_transform(df.bankrupt)"
   ]
  },
  {
   "cell_type": "code",
   "execution_count": 12,
   "id": "bef1b8e5",
   "metadata": {
    "scrolled": true
   },
   "outputs": [
    {
     "data": {
      "text/html": [
       "<div>\n",
       "<style scoped>\n",
       "    .dataframe tbody tr th:only-of-type {\n",
       "        vertical-align: middle;\n",
       "    }\n",
       "\n",
       "    .dataframe tbody tr th {\n",
       "        vertical-align: top;\n",
       "    }\n",
       "\n",
       "    .dataframe thead th {\n",
       "        text-align: right;\n",
       "    }\n",
       "</style>\n",
       "<table border=\"1\" class=\"dataframe\">\n",
       "  <thead>\n",
       "    <tr style=\"text-align: right;\">\n",
       "      <th></th>\n",
       "      <th>Attr1</th>\n",
       "      <th>Attr2</th>\n",
       "      <th>Attr3</th>\n",
       "      <th>Attr4</th>\n",
       "      <th>Attr5</th>\n",
       "      <th>Attr6</th>\n",
       "      <th>Attr7</th>\n",
       "      <th>Attr8</th>\n",
       "      <th>Attr9</th>\n",
       "      <th>Attr10</th>\n",
       "      <th>...</th>\n",
       "      <th>Attr56</th>\n",
       "      <th>Attr57</th>\n",
       "      <th>Attr58</th>\n",
       "      <th>Attr59</th>\n",
       "      <th>Attr60</th>\n",
       "      <th>Attr61</th>\n",
       "      <th>Attr62</th>\n",
       "      <th>Attr63</th>\n",
       "      <th>Attr64</th>\n",
       "      <th>bankrupt</th>\n",
       "    </tr>\n",
       "    <tr>\n",
       "      <th>company_id</th>\n",
       "      <th></th>\n",
       "      <th></th>\n",
       "      <th></th>\n",
       "      <th></th>\n",
       "      <th></th>\n",
       "      <th></th>\n",
       "      <th></th>\n",
       "      <th></th>\n",
       "      <th></th>\n",
       "      <th></th>\n",
       "      <th></th>\n",
       "      <th></th>\n",
       "      <th></th>\n",
       "      <th></th>\n",
       "      <th></th>\n",
       "      <th></th>\n",
       "      <th></th>\n",
       "      <th></th>\n",
       "      <th></th>\n",
       "      <th></th>\n",
       "      <th></th>\n",
       "    </tr>\n",
       "  </thead>\n",
       "  <tbody>\n",
       "    <tr>\n",
       "      <th>0</th>\n",
       "      <td>0.17419</td>\n",
       "      <td>0.41299</td>\n",
       "      <td>0.14371</td>\n",
       "      <td>1.3480</td>\n",
       "      <td>-28.9820</td>\n",
       "      <td>0.60383</td>\n",
       "      <td>0.21946</td>\n",
       "      <td>1.1225</td>\n",
       "      <td>1.1961</td>\n",
       "      <td>0.46359</td>\n",
       "      <td>...</td>\n",
       "      <td>0.163960</td>\n",
       "      <td>0.37574</td>\n",
       "      <td>0.83604</td>\n",
       "      <td>0.000007</td>\n",
       "      <td>9.7145</td>\n",
       "      <td>6.2813</td>\n",
       "      <td>84.291</td>\n",
       "      <td>4.3303</td>\n",
       "      <td>4.0341</td>\n",
       "      <td>0</td>\n",
       "    </tr>\n",
       "    <tr>\n",
       "      <th>1</th>\n",
       "      <td>0.14624</td>\n",
       "      <td>0.46038</td>\n",
       "      <td>0.28230</td>\n",
       "      <td>1.6294</td>\n",
       "      <td>2.5952</td>\n",
       "      <td>0.00000</td>\n",
       "      <td>0.17185</td>\n",
       "      <td>1.1721</td>\n",
       "      <td>1.6018</td>\n",
       "      <td>0.53962</td>\n",
       "      <td>...</td>\n",
       "      <td>0.027516</td>\n",
       "      <td>0.27100</td>\n",
       "      <td>0.90108</td>\n",
       "      <td>0.000000</td>\n",
       "      <td>5.9882</td>\n",
       "      <td>4.1103</td>\n",
       "      <td>102.190</td>\n",
       "      <td>3.5716</td>\n",
       "      <td>5.9500</td>\n",
       "      <td>0</td>\n",
       "    </tr>\n",
       "  </tbody>\n",
       "</table>\n",
       "<p>2 rows × 65 columns</p>\n",
       "</div>"
      ],
      "text/plain": [
       "              Attr1    Attr2    Attr3   Attr4    Attr5    Attr6    Attr7  \\\n",
       "company_id                                                                 \n",
       "0           0.17419  0.41299  0.14371  1.3480 -28.9820  0.60383  0.21946   \n",
       "1           0.14624  0.46038  0.28230  1.6294   2.5952  0.00000  0.17185   \n",
       "\n",
       "             Attr8   Attr9   Attr10  ...    Attr56   Attr57   Attr58  \\\n",
       "company_id                           ...                               \n",
       "0           1.1225  1.1961  0.46359  ...  0.163960  0.37574  0.83604   \n",
       "1           1.1721  1.6018  0.53962  ...  0.027516  0.27100  0.90108   \n",
       "\n",
       "              Attr59  Attr60  Attr61   Attr62  Attr63  Attr64  bankrupt  \n",
       "company_id                                                               \n",
       "0           0.000007  9.7145  6.2813   84.291  4.3303  4.0341         0  \n",
       "1           0.000000  5.9882  4.1103  102.190  3.5716  5.9500         0  \n",
       "\n",
       "[2 rows x 65 columns]"
      ]
     },
     "execution_count": 12,
     "metadata": {},
     "output_type": "execute_result"
    }
   ],
   "source": [
    "df.head(2)\n",
    "#noticing that (0) means (not_bankrupted) , and (1) means (bankrupted)"
   ]
  },
  {
   "cell_type": "markdown",
   "id": "d725b599",
   "metadata": {},
   "source": [
    "## checking corrolated features and deleting it "
   ]
  },
  {
   "cell_type": "code",
   "execution_count": 13,
   "id": "993bc07d",
   "metadata": {},
   "outputs": [
    {
     "name": "stdout",
     "output_type": "stream",
     "text": [
      "['Attr3', 'Attr7', 'Attr10', 'Attr11', 'Attr14', 'Attr17', 'Attr23', 'Attr25', 'Attr26', 'Attr38', 'Attr46', 'Attr49', 'Attr50', 'Attr51', 'Attr52', 'Attr54', 'Attr58', 'Attr62']\n"
     ]
    }
   ],
   "source": [
    "#find the corrolated features (corrolation more than .98)\n",
    "corr_matrix=df.corr().abs()\n",
    "upper_tri = corr_matrix.where(np.triu(np.ones(corr_matrix.shape),k=1).astype(bool))\n",
    "to_drop = [column for column in upper_tri.columns if any(upper_tri[column] > 0.99)]\n",
    "print(to_drop)"
   ]
  },
  {
   "cell_type": "code",
   "execution_count": 14,
   "id": "a9240915",
   "metadata": {},
   "outputs": [],
   "source": [
    "# another function to find the corrolation (this is for my reference )\n",
    "def correlation(dataset, threshold):\n",
    "    col_corr = list() # Set of all the names of deleted columns\n",
    "    corr_matrix = dataset.corr()\n",
    "    for i in range(len(corr_matrix.columns)):\n",
    "        for j in range(i):\n",
    "            if (corr_matrix.iloc[i, j] >= threshold) and (corr_matrix.columns[j] not in col_corr):\n",
    "                colname = corr_matrix.columns[i] # getting the name of column\n",
    "                col_corr.append(colname)\n",
    "    return col_corr   \n",
    "col_corr=correlation(df,.99)"
   ]
  },
  {
   "cell_type": "code",
   "execution_count": 15,
   "id": "ab0b04af",
   "metadata": {},
   "outputs": [
    {
     "data": {
      "text/plain": [
       "['Attr7',\n",
       " 'Attr10',\n",
       " 'Attr14',\n",
       " 'Attr14',\n",
       " 'Attr17',\n",
       " 'Attr23',\n",
       " 'Attr25',\n",
       " 'Attr26',\n",
       " 'Attr38',\n",
       " 'Attr46',\n",
       " 'Attr49',\n",
       " 'Attr50',\n",
       " 'Attr51',\n",
       " 'Attr52',\n",
       " 'Attr54',\n",
       " 'Attr62']"
      ]
     },
     "execution_count": 15,
     "metadata": {},
     "output_type": "execute_result"
    }
   ],
   "source": [
    "col_corr"
   ]
  },
  {
   "cell_type": "code",
   "execution_count": 16,
   "id": "295ef785",
   "metadata": {},
   "outputs": [
    {
     "data": {
      "text/plain": [
       "(10503, 50)"
      ]
     },
     "execution_count": 16,
     "metadata": {},
     "output_type": "execute_result"
    }
   ],
   "source": [
    "df = df.drop(columns=col_corr)\n",
    "df.shape"
   ]
  },
  {
   "cell_type": "markdown",
   "id": "af708416",
   "metadata": {},
   "source": [
    "## checking features normality and removing outliers "
   ]
  },
  {
   "cell_type": "code",
   "execution_count": 17,
   "id": "dd2be707",
   "metadata": {},
   "outputs": [
    {
     "data": {
      "image/png": "[encoded data removed]",
      "text/plain": [
       "<Figure size 1500x500 with 1 Axes>"
      ]
     },
     "metadata": {},
     "output_type": "display_data"
    },
    {
     "data": {
      "image/png": "[encoded data removed]",
      "text/plain": [
       "<Figure size 1500x500 with 1 Axes>"
      ]
     },
     "metadata": {},
     "output_type": "display_data"
    },
    {
     "data": {
      "image/png": "[encoded data removed]",
      "text/plain": [
       "<Figure size 1500x500 with 1 Axes>"
      ]
     },
     "metadata": {},
     "output_type": "display_data"
    }
   ],
   "source": [
    "# Create boxplot for all data \n",
    " \n",
    "j=0    \n",
    "while j<=len(df.columns):\n",
    "    features_group=list(df.columns[j:j+20])\n",
    "    j+=20\n",
    "    plt.figure(figsize=(15,5))\n",
    "    sns.boxplot(data=df[features_group])\n",
    "    plt.xlabel(\"10_features\")\n",
    "    plt.ylabel(\"features_values\")\n",
    "    plt.title(\"all_boxplots\")\n",
    "    plt.show();"
   ]
  },
  {
   "cell_type": "markdown",
   "id": "8312d856",
   "metadata": {},
   "source": [
    "boxblots shows that there is many features with many outliers (this observation needs more invistigation )"
   ]
  },
  {
   "cell_type": "code",
   "execution_count": 18,
   "id": "e82ba910",
   "metadata": {},
   "outputs": [],
   "source": [
    "df_std=df.describe().T[\"std\"].sort_values()"
   ]
  },
  {
   "cell_type": "code",
   "execution_count": 19,
   "id": "7458db86",
   "metadata": {},
   "outputs": [
    {
     "data": {
      "text/plain": [
       "Attr20      1083.699904\n",
       "Attr45      1720.342176\n",
       "Attr37      2469.447679\n",
       "Attr44      2766.505503\n",
       "Attr41      2845.290346\n",
       "Attr43      3303.309554\n",
       "Attr47     31264.160236\n",
       "Attr27     34691.229230\n",
       "Attr60     37159.672255\n",
       "Attr55     59891.957972\n",
       "Attr32     68412.702913\n",
       "Attr15    109198.119626\n",
       "Attr5     118580.569222\n",
       "Name: std, dtype: float64"
      ]
     },
     "execution_count": 19,
     "metadata": {},
     "output_type": "execute_result"
    }
   ],
   "source": [
    "unusual_std=df_std[df_std>1000]\n",
    "unusual_std"
   ]
  },
  {
   "cell_type": "code",
   "execution_count": 20,
   "id": "975598af",
   "metadata": {},
   "outputs": [
    {
     "data": {
      "text/plain": [
       "(pandas.core.series.Series,\n",
       " Index(['Attr20', 'Attr45', 'Attr37', 'Attr44', 'Attr41', 'Attr43', 'Attr47',\n",
       "        'Attr27', 'Attr60', 'Attr55', 'Attr32', 'Attr15', 'Attr5'],\n",
       "       dtype='object'))"
      ]
     },
     "execution_count": 20,
     "metadata": {},
     "output_type": "execute_result"
    }
   ],
   "source": [
    "# as shown in the previous boxplots , \n",
    "# many features has unusual standard variation , which may indicate outliers in the data \n",
    "type(unusual_std),unusual_std.index"
   ]
  },
  {
   "cell_type": "code",
   "execution_count": 21,
   "id": "33ad64db",
   "metadata": {},
   "outputs": [
    {
     "data": {
      "text/plain": [
       "(10503, 50)"
      ]
     },
     "execution_count": 21,
     "metadata": {},
     "output_type": "execute_result"
    }
   ],
   "source": [
    "df.shape"
   ]
  },
  {
   "cell_type": "code",
   "execution_count": 22,
   "id": "ab70d88e",
   "metadata": {
    "scrolled": true
   },
   "outputs": [
    {
     "data": {
      "text/plain": [
       "Attr32      0.000363\n",
       "Attr59      0.000432\n",
       "Attr64      0.000604\n",
       "Attr39      0.000626\n",
       "Attr9       0.001275\n",
       "Attr13      0.001432\n",
       "Attr20      0.001622\n",
       "Attr56      0.001850\n",
       "Attr42      0.001909\n",
       "Attr44      0.002022\n",
       "Attr4       0.002071\n",
       "Attr63      0.002172\n",
       "Attr43      0.002225\n",
       "Attr45      0.002242\n",
       "Attr41      0.002262\n",
       "Attr21      0.002301\n",
       "Attr5       0.002381\n",
       "Attr40      0.002770\n",
       "Attr60      0.003075\n",
       "Attr58      0.003273\n",
       "Attr34      0.003351\n",
       "Attr47      0.003356\n",
       "Attr19      0.003574\n",
       "Attr37      0.003650\n",
       "Attr31      0.004028\n",
       "Attr28      0.004215\n",
       "Attr53      0.004418\n",
       "Attr15      0.004495\n",
       "Attr8       0.004709\n",
       "Attr16      0.005263\n",
       "Attr27      0.005265\n",
       "Attr61      0.005393\n",
       "Attr30      0.008102\n",
       "Attr57      0.009320\n",
       "Attr12      0.011179\n",
       "Attr55      0.019179\n",
       "Attr36      0.020230\n",
       "Attr33      0.022519\n",
       "Attr18      0.023594\n",
       "Attr48      0.025347\n",
       "Attr11      0.026957\n",
       "Attr1       0.027089\n",
       "Attr29      0.031104\n",
       "Attr6       0.033081\n",
       "Attr24      0.033602\n",
       "Attr3       0.034292\n",
       "Attr2       0.035560\n",
       "Attr22      0.040349\n",
       "Attr35      0.044667\n",
       "bankrupt    1.000000\n",
       "Name: bankrupt, dtype: float64"
      ]
     },
     "execution_count": 22,
     "metadata": {},
     "output_type": "execute_result"
    }
   ],
   "source": [
    "#checking the corrolation between the features and the target \n",
    "pd.DataFrame(df.corr())[\"bankrupt\"].abs().sort_values()"
   ]
  },
  {
   "cell_type": "markdown",
   "id": "2008e735",
   "metadata": {},
   "source": [
    "## Split the data "
   ]
  },
  {
   "cell_type": "code",
   "execution_count": 23,
   "id": "30215438",
   "metadata": {},
   "outputs": [],
   "source": [
    "target = \"bankrupt\"\n",
    "X = df.drop(columns=target)\n",
    "y = df[target]"
   ]
  },
  {
   "cell_type": "code",
   "execution_count": 24,
   "id": "c25ef429",
   "metadata": {},
   "outputs": [],
   "source": [
    "X_train, X_test, y_train, y_test = train_test_split(X,y,test_size=.2,random_state=42)"
   ]
  },
  {
   "cell_type": "markdown",
   "id": "b031a950",
   "metadata": {},
   "source": [
    "## oversampling"
   ]
  },
  {
   "cell_type": "code",
   "execution_count": 25,
   "id": "46fd32d8",
   "metadata": {},
   "outputs": [
    {
     "data": {
      "text/plain": [
       "0    10008\n",
       "1      495\n",
       "Name: bankrupt, dtype: int64"
      ]
     },
     "execution_count": 25,
     "metadata": {},
     "output_type": "execute_result"
    }
   ],
   "source": [
    "#checking again for data balance \n",
    "df[\"bankrupt\"].value_counts()\n"
   ]
  },
  {
   "cell_type": "code",
   "execution_count": 26,
   "id": "308ca9d9",
   "metadata": {},
   "outputs": [
    {
     "name": "stdout",
     "output_type": "stream",
     "text": [
      "(16028, 49)\n"
     ]
    },
    {
     "data": {
      "text/html": [
       "<div>\n",
       "<style scoped>\n",
       "    .dataframe tbody tr th:only-of-type {\n",
       "        vertical-align: middle;\n",
       "    }\n",
       "\n",
       "    .dataframe tbody tr th {\n",
       "        vertical-align: top;\n",
       "    }\n",
       "\n",
       "    .dataframe thead th {\n",
       "        text-align: right;\n",
       "    }\n",
       "</style>\n",
       "<table border=\"1\" class=\"dataframe\">\n",
       "  <thead>\n",
       "    <tr style=\"text-align: right;\">\n",
       "      <th></th>\n",
       "      <th>Attr1</th>\n",
       "      <th>Attr2</th>\n",
       "      <th>Attr3</th>\n",
       "      <th>Attr4</th>\n",
       "      <th>Attr5</th>\n",
       "      <th>Attr6</th>\n",
       "      <th>Attr8</th>\n",
       "      <th>Attr9</th>\n",
       "      <th>Attr11</th>\n",
       "      <th>Attr12</th>\n",
       "      <th>...</th>\n",
       "      <th>Attr53</th>\n",
       "      <th>Attr55</th>\n",
       "      <th>Attr56</th>\n",
       "      <th>Attr57</th>\n",
       "      <th>Attr58</th>\n",
       "      <th>Attr59</th>\n",
       "      <th>Attr60</th>\n",
       "      <th>Attr61</th>\n",
       "      <th>Attr63</th>\n",
       "      <th>Attr64</th>\n",
       "    </tr>\n",
       "  </thead>\n",
       "  <tbody>\n",
       "    <tr>\n",
       "      <th>0</th>\n",
       "      <td>0.013739</td>\n",
       "      <td>0.48424</td>\n",
       "      <td>0.335830</td>\n",
       "      <td>3.28400</td>\n",
       "      <td>28.116</td>\n",
       "      <td>0.00000</td>\n",
       "      <td>1.0651</td>\n",
       "      <td>1.36290</td>\n",
       "      <td>0.020933</td>\n",
       "      <td>0.11702</td>\n",
       "      <td>...</td>\n",
       "      <td>0.99734</td>\n",
       "      <td>5550.80</td>\n",
       "      <td>0.014543</td>\n",
       "      <td>0.026638</td>\n",
       "      <td>0.98749</td>\n",
       "      <td>0.000000</td>\n",
       "      <td>5.8807</td>\n",
       "      <td>5.7658</td>\n",
       "      <td>9.2689</td>\n",
       "      <td>2.6354</td>\n",
       "    </tr>\n",
       "    <tr>\n",
       "      <th>1</th>\n",
       "      <td>0.055586</td>\n",
       "      <td>0.28747</td>\n",
       "      <td>0.340460</td>\n",
       "      <td>2.21220</td>\n",
       "      <td>41.783</td>\n",
       "      <td>0.15219</td>\n",
       "      <td>2.1786</td>\n",
       "      <td>0.92951</td>\n",
       "      <td>0.065999</td>\n",
       "      <td>0.23498</td>\n",
       "      <td>...</td>\n",
       "      <td>1.65390</td>\n",
       "      <td>5034.80</td>\n",
       "      <td>-0.075836</td>\n",
       "      <td>0.088758</td>\n",
       "      <td>1.07580</td>\n",
       "      <td>0.010533</td>\n",
       "      <td>11.7840</td>\n",
       "      <td>5.4632</td>\n",
       "      <td>5.8354</td>\n",
       "      <td>4.3283</td>\n",
       "    </tr>\n",
       "    <tr>\n",
       "      <th>2</th>\n",
       "      <td>0.125190</td>\n",
       "      <td>0.21204</td>\n",
       "      <td>-0.043561</td>\n",
       "      <td>0.76704</td>\n",
       "      <td>-26.932</td>\n",
       "      <td>0.42740</td>\n",
       "      <td>3.7142</td>\n",
       "      <td>1.17620</td>\n",
       "      <td>0.155220</td>\n",
       "      <td>0.83009</td>\n",
       "      <td>...</td>\n",
       "      <td>0.91945</td>\n",
       "      <td>-5127.20</td>\n",
       "      <td>0.149790</td>\n",
       "      <td>0.158960</td>\n",
       "      <td>0.85021</td>\n",
       "      <td>0.031808</td>\n",
       "      <td>68.9750</td>\n",
       "      <td>10.7120</td>\n",
       "      <td>5.7501</td>\n",
       "      <td>1.2553</td>\n",
       "    </tr>\n",
       "    <tr>\n",
       "      <th>3</th>\n",
       "      <td>0.271490</td>\n",
       "      <td>0.34761</td>\n",
       "      <td>0.419280</td>\n",
       "      <td>2.24250</td>\n",
       "      <td>300.000</td>\n",
       "      <td>0.12908</td>\n",
       "      <td>1.8768</td>\n",
       "      <td>8.68160</td>\n",
       "      <td>0.316520</td>\n",
       "      <td>0.89850</td>\n",
       "      <td>...</td>\n",
       "      <td>2.68190</td>\n",
       "      <td>1322.00</td>\n",
       "      <td>0.038724</td>\n",
       "      <td>0.416140</td>\n",
       "      <td>0.98078</td>\n",
       "      <td>0.000000</td>\n",
       "      <td>147.9600</td>\n",
       "      <td>149.5800</td>\n",
       "      <td>25.7270</td>\n",
       "      <td>35.6880</td>\n",
       "    </tr>\n",
       "    <tr>\n",
       "      <th>4</th>\n",
       "      <td>0.485420</td>\n",
       "      <td>0.38138</td>\n",
       "      <td>0.618620</td>\n",
       "      <td>2.62200</td>\n",
       "      <td>372.120</td>\n",
       "      <td>0.00000</td>\n",
       "      <td>1.6220</td>\n",
       "      <td>2.96690</td>\n",
       "      <td>0.642140</td>\n",
       "      <td>1.56390</td>\n",
       "      <td>...</td>\n",
       "      <td>NaN</td>\n",
       "      <td>490.72</td>\n",
       "      <td>0.200640</td>\n",
       "      <td>0.784690</td>\n",
       "      <td>0.81596</td>\n",
       "      <td>0.000000</td>\n",
       "      <td>NaN</td>\n",
       "      <td>4.2876</td>\n",
       "      <td>7.7793</td>\n",
       "      <td>NaN</td>\n",
       "    </tr>\n",
       "  </tbody>\n",
       "</table>\n",
       "<p>5 rows × 49 columns</p>\n",
       "</div>"
      ],
      "text/plain": [
       "      Attr1    Attr2     Attr3    Attr4    Attr5    Attr6   Attr8    Attr9  \\\n",
       "0  0.013739  0.48424  0.335830  3.28400   28.116  0.00000  1.0651  1.36290   \n",
       "1  0.055586  0.28747  0.340460  2.21220   41.783  0.15219  2.1786  0.92951   \n",
       "2  0.125190  0.21204 -0.043561  0.76704  -26.932  0.42740  3.7142  1.17620   \n",
       "3  0.271490  0.34761  0.419280  2.24250  300.000  0.12908  1.8768  8.68160   \n",
       "4  0.485420  0.38138  0.618620  2.62200  372.120  0.00000  1.6220  2.96690   \n",
       "\n",
       "     Attr11   Attr12  ...   Attr53   Attr55    Attr56    Attr57   Attr58  \\\n",
       "0  0.020933  0.11702  ...  0.99734  5550.80  0.014543  0.026638  0.98749   \n",
       "1  0.065999  0.23498  ...  1.65390  5034.80 -0.075836  0.088758  1.07580   \n",
       "2  0.155220  0.83009  ...  0.91945 -5127.20  0.149790  0.158960  0.85021   \n",
       "3  0.316520  0.89850  ...  2.68190  1322.00  0.038724  0.416140  0.98078   \n",
       "4  0.642140  1.56390  ...      NaN   490.72  0.200640  0.784690  0.81596   \n",
       "\n",
       "     Attr59    Attr60    Attr61   Attr63   Attr64  \n",
       "0  0.000000    5.8807    5.7658   9.2689   2.6354  \n",
       "1  0.010533   11.7840    5.4632   5.8354   4.3283  \n",
       "2  0.031808   68.9750   10.7120   5.7501   1.2553  \n",
       "3  0.000000  147.9600  149.5800  25.7270  35.6880  \n",
       "4  0.000000       NaN    4.2876   7.7793      NaN  \n",
       "\n",
       "[5 rows x 49 columns]"
      ]
     },
     "execution_count": 26,
     "metadata": {},
     "output_type": "execute_result"
    }
   ],
   "source": [
    "over_sampler = RandomOverSampler(random_state=42)\n",
    "X_train_over, y_train_over = over_sampler.fit_resample(X_train,y_train)\n",
    "print(X_train_over.shape)\n",
    "X_train_over.head()"
   ]
  },
  {
   "cell_type": "code",
   "execution_count": 27,
   "id": "0aae7eec",
   "metadata": {},
   "outputs": [
    {
     "data": {
      "text/plain": [
       "0.5"
      ]
     },
     "execution_count": 27,
     "metadata": {},
     "output_type": "execute_result"
    }
   ],
   "source": [
    "# deciding a baseline for the result ( this is based on the distribution \n",
    "#of the positive and negatibe labels in the target features)\n",
    "acc_baseline = y_train_over.value_counts(normalize=True).max()\n",
    "acc_baseline"
   ]
  },
  {
   "cell_type": "markdown",
   "id": "a1e7eeb4",
   "metadata": {},
   "source": [
    "## Decision Tree Model"
   ]
  },
  {
   "cell_type": "markdown",
   "id": "a369cf08",
   "metadata": {},
   "source": [
    "First model ( Decision Tree , No over_sampling )"
   ]
  },
  {
   "cell_type": "code",
   "execution_count": 28,
   "id": "87074159",
   "metadata": {},
   "outputs": [],
   "source": [
    "from sklearn.tree import DecisionTreeClassifier"
   ]
  },
  {
   "cell_type": "code",
   "execution_count": 29,
   "id": "d137be7a",
   "metadata": {},
   "outputs": [
    {
     "data": {
      "text/plain": [
       "Pipeline(steps=[('simpleimputer', SimpleImputer(strategy='median')),\n",
       "                ('standardscaler', StandardScaler()),\n",
       "                ('decisiontreeclassifier',\n",
       "                 DecisionTreeClassifier(random_state=42))])"
      ]
     },
     "execution_count": 29,
     "metadata": {},
     "output_type": "execute_result"
    }
   ],
   "source": [
    "model_reg = make_pipeline(SimpleImputer(strategy=\"median\"),StandardScaler(),DecisionTreeClassifier(random_state=42))\n",
    "model_reg.fit(X_train,y_train)"
   ]
  },
  {
   "cell_type": "markdown",
   "id": "59040b3a",
   "metadata": {},
   "source": [
    "Second model (Decision Tree , and Over_sampling )"
   ]
  },
  {
   "cell_type": "code",
   "execution_count": 30,
   "id": "1c0a3250",
   "metadata": {},
   "outputs": [
    {
     "data": {
      "text/plain": [
       "Pipeline(steps=[('simpleimputer', SimpleImputer(strategy='median')),\n",
       "                ('decisiontreeclassifier',\n",
       "                 DecisionTreeClassifier(random_state=42))])"
      ]
     },
     "execution_count": 30,
     "metadata": {},
     "output_type": "execute_result"
    }
   ],
   "source": [
    "DT_model_over = make_pipeline(SimpleImputer(strategy=\"median\"),DecisionTreeClassifier(random_state=42))\n",
    "DT_model_over.fit(X_train_over,y_train_over)"
   ]
  },
  {
   "cell_type": "code",
   "execution_count": 31,
   "id": "936d3662",
   "metadata": {},
   "outputs": [
    {
     "data": {
      "text/plain": [
       "39"
      ]
     },
     "execution_count": 31,
     "metadata": {},
     "output_type": "execute_result"
    }
   ],
   "source": [
    "depth = DT_model_over.named_steps[\"decisiontreeclassifier\"].get_depth()\n",
    "depth"
   ]
  },
  {
   "cell_type": "code",
   "execution_count": 32,
   "id": "72953e43",
   "metadata": {},
   "outputs": [
    {
     "name": "stdout",
     "output_type": "stream",
     "text": [
      "Training Accuracy: 1.0\n",
      "Test Accuracy: 0.9243\n",
      "Training Accuracy: 1.0\n",
      "Test Accuracy: 0.9372\n"
     ]
    }
   ],
   "source": [
    "for m in [model_reg, DT_model_over]:\n",
    "    acc_train = m.score(X_train,y_train)\n",
    "    acc_test = m.score(X_test,y_test)\n",
    "    print(\"Training Accuracy:\", round(acc_train, 4))\n",
    "    print(\"Test Accuracy:\", round(acc_test, 4))"
   ]
  },
  {
   "cell_type": "markdown",
   "id": "6bc3d645",
   "metadata": {},
   "source": [
    "#### but accuracy alone is not enough to judge the model , next i will calculate f1_score , recall , precesion"
   ]
  },
  {
   "cell_type": "code",
   "execution_count": 33,
   "id": "43f984e4",
   "metadata": {},
   "outputs": [],
   "source": [
    "from sklearn.metrics import classification_report"
   ]
  },
  {
   "cell_type": "code",
   "execution_count": 34,
   "id": "6f3ecae6",
   "metadata": {},
   "outputs": [
    {
     "name": "stdout",
     "output_type": "stream",
     "text": [
      "              precision    recall  f1-score   support\n",
      "\n",
      "           0       0.97      0.97      0.97      1994\n",
      "           1       0.38      0.37      0.38       107\n",
      "\n",
      "    accuracy                           0.94      2101\n",
      "   macro avg       0.67      0.67      0.67      2101\n",
      "weighted avg       0.94      0.94      0.94      2101\n",
      "\n"
     ]
    }
   ],
   "source": [
    "print(classification_report(y_test,DT_model_over.predict(X_test)))"
   ]
  },
  {
   "cell_type": "code",
   "execution_count": 35,
   "id": "8121f0d6",
   "metadata": {},
   "outputs": [
    {
     "data": {
      "text/plain": [
       "<sklearn.metrics._plot.confusion_matrix.ConfusionMatrixDisplay at 0x125388c6a00>"
      ]
     },
     "execution_count": 35,
     "metadata": {},
     "output_type": "execute_result"
    },
    {
     "data": {
      "image/png": "[encoded data removed]",
      "text/plain": [
       "<Figure size 640x480 with 2 Axes>"
      ]
     },
     "metadata": {},
     "output_type": "display_data"
    }
   ],
   "source": [
    "ConfusionMatrixDisplay.from_estimator(DT_model_over,X_test,y_test)"
   ]
  },
  {
   "cell_type": "code",
   "execution_count": 36,
   "id": "cdebc963",
   "metadata": {},
   "outputs": [],
   "source": [
    "##although the model accuracy is high , but the recall is low , and the f1-score is low "
   ]
  },
  {
   "cell_type": "markdown",
   "id": "e96cef68",
   "metadata": {},
   "source": [
    "Visualizing Decision Tree Results\n"
   ]
  },
  {
   "cell_type": "code",
   "execution_count": 37,
   "id": "228a75d3",
   "metadata": {},
   "outputs": [],
   "source": [
    "importances = DT_model_over.named_steps[\"decisiontreeclassifier\"].feature_importances_\n",
    "feat_imp = pd.Series(importances,index=X_train_over.columns).sort_values(ascending=True)[-15:]"
   ]
  },
  {
   "cell_type": "code",
   "execution_count": 38,
   "id": "3f55e6db",
   "metadata": {},
   "outputs": [
    {
     "data": {
      "text/plain": [
       "Attr40    0.020014\n",
       "Attr9     0.020386\n",
       "Attr48    0.020887\n",
       "Attr13    0.022702\n",
       "Attr53    0.025229\n",
       "Attr41    0.025942\n",
       "Attr39    0.026053\n",
       "Attr58    0.031640\n",
       "Attr64    0.038383\n",
       "Attr21    0.038442\n",
       "Attr5     0.040851\n",
       "Attr24    0.061123\n",
       "Attr27    0.084470\n",
       "Attr34    0.138254\n",
       "Attr16    0.144893\n",
       "dtype: float64"
      ]
     },
     "execution_count": 38,
     "metadata": {},
     "output_type": "execute_result"
    }
   ],
   "source": [
    "feat_imp"
   ]
  },
  {
   "cell_type": "code",
   "execution_count": 39,
   "id": "e59cb94d",
   "metadata": {
    "scrolled": true
   },
   "outputs": [
    {
     "data": {
      "image/png": "[encoded data removed]",
      "text/plain": [
       "<Figure size 640x480 with 1 Axes>"
      ]
     },
     "metadata": {},
     "output_type": "display_data"
    }
   ],
   "source": [
    "feat_imp.plot(kind=\"barh\")\n",
    "plt.xlabel(\"Gini Importance\")\n",
    "plt.ylabel(\"Features\")\n",
    "plt.title(\"Decission Tress model_over Feature Importance\");"
   ]
  },
  {
   "cell_type": "markdown",
   "id": "5e25c681",
   "metadata": {},
   "source": [
    "the most important features in this model is\n",
    "(attr 34 : operating expenses / total liabilities\n",
    "attr 8 : book value of equity / total liabilities\n",
    "attr 33 :operating expenses / short-term liabilities)"
   ]
  },
  {
   "cell_type": "code",
   "execution_count": 40,
   "id": "a3eabfc8",
   "metadata": {},
   "outputs": [],
   "source": [
    "import pickle\n",
    "with open (\"model-1.pkl\",\"wb\")as f:\n",
    "    pickle.dump(DT_model_over,f)"
   ]
  },
  {
   "cell_type": "code",
   "execution_count": 41,
   "id": "f3d3c534",
   "metadata": {},
   "outputs": [],
   "source": [
    "with open(\"model-1.pkl\", \"rb\") as f:\n",
    "    loaded_model = pickle.load(f)"
   ]
  },
  {
   "cell_type": "markdown",
   "id": "67d57457",
   "metadata": {},
   "source": [
    "## Random Forest Model"
   ]
  },
  {
   "cell_type": "code",
   "execution_count": 42,
   "id": "874e5490",
   "metadata": {},
   "outputs": [],
   "source": [
    "from sklearn.ensemble import RandomForestClassifier"
   ]
  },
  {
   "cell_type": "code",
   "execution_count": 43,
   "id": "a0e2e94e",
   "metadata": {},
   "outputs": [
    {
     "name": "stdout",
     "output_type": "stream",
     "text": [
      "Pipeline(steps=[('simpleimputer', SimpleImputer()),\n",
      "                ('standardscaler', StandardScaler()),\n",
      "                ('randomforestclassifier',\n",
      "                 RandomForestClassifier(random_state=42))])\n"
     ]
    }
   ],
   "source": [
    "clf = make_pipeline(SimpleImputer(),StandardScaler(),RandomForestClassifier(random_state=42))\n",
    "print(clf)"
   ]
  },
  {
   "cell_type": "markdown",
   "id": "c010b660",
   "metadata": {},
   "source": [
    "Doing cross_validation to check the possible results of that model "
   ]
  },
  {
   "cell_type": "code",
   "execution_count": 44,
   "id": "00b2d05a",
   "metadata": {},
   "outputs": [
    {
     "name": "stdout",
     "output_type": "stream",
     "text": [
      "[0.99563319 0.99781659 0.99750468 0.99625585 0.9975039 ]\n"
     ]
    }
   ],
   "source": [
    "cv_acc_scores = cross_val_score(clf,X_train_over,y_train_over,cv=5,n_jobs=-1)\n",
    "print(cv_acc_scores)"
   ]
  },
  {
   "cell_type": "markdown",
   "id": "3f877301",
   "metadata": {},
   "source": [
    "Deciding the ranges of the hyperparameters "
   ]
  },
  {
   "cell_type": "code",
   "execution_count": 45,
   "id": "9845849a",
   "metadata": {},
   "outputs": [
    {
     "data": {
      "text/plain": [
       "{'simpleimputer__strategy': ['mean', 'median'],\n",
       " 'randomforestclassifier__n_estimators': range(25, 100, 25),\n",
       " 'randomforestclassifier__max_depth': range(10, 50, 10)}"
      ]
     },
     "execution_count": 45,
     "metadata": {},
     "output_type": "execute_result"
    }
   ],
   "source": [
    "params = {\"simpleimputer__strategy\":[\"mean\",\"median\"],\n",
    "          \"randomforestclassifier__n_estimators\":range(25,100,25),\n",
    "          \"randomforestclassifier__max_depth\":range(10,50,10)}\n",
    "params"
   ]
  },
  {
   "cell_type": "code",
   "execution_count": 46,
   "id": "7d0ce6f9",
   "metadata": {},
   "outputs": [
    {
     "data": {
      "text/plain": [
       "GridSearchCV(cv=3,\n",
       "             estimator=Pipeline(steps=[('simpleimputer', SimpleImputer()),\n",
       "                                       ('standardscaler', StandardScaler()),\n",
       "                                       ('randomforestclassifier',\n",
       "                                        RandomForestClassifier(random_state=42))]),\n",
       "             n_jobs=-1,\n",
       "             param_grid={'randomforestclassifier__max_depth': range(10, 50, 10),\n",
       "                         'randomforestclassifier__n_estimators': range(25, 100, 25),\n",
       "                         'simpleimputer__strategy': ['mean', 'median']},\n",
       "             verbose=1)"
      ]
     },
     "execution_count": 46,
     "metadata": {},
     "output_type": "execute_result"
    }
   ],
   "source": [
    "RF_model = GridSearchCV(clf,param_grid=params,cv=3,n_jobs=-1,verbose=1)\n",
    "RF_model"
   ]
  },
  {
   "cell_type": "code",
   "execution_count": 47,
   "id": "86ed52e2",
   "metadata": {},
   "outputs": [
    {
     "name": "stdout",
     "output_type": "stream",
     "text": [
      "Fitting 3 folds for each of 24 candidates, totalling 72 fits\n"
     ]
    },
    {
     "data": {
      "text/plain": [
       "GridSearchCV(cv=3,\n",
       "             estimator=Pipeline(steps=[('simpleimputer', SimpleImputer()),\n",
       "                                       ('standardscaler', StandardScaler()),\n",
       "                                       ('randomforestclassifier',\n",
       "                                        RandomForestClassifier(random_state=42))]),\n",
       "             n_jobs=-1,\n",
       "             param_grid={'randomforestclassifier__max_depth': range(10, 50, 10),\n",
       "                         'randomforestclassifier__n_estimators': range(25, 100, 25),\n",
       "                         'simpleimputer__strategy': ['mean', 'median']},\n",
       "             verbose=1)"
      ]
     },
     "execution_count": 47,
     "metadata": {},
     "output_type": "execute_result"
    }
   ],
   "source": [
    "RF_model.fit(X_train_over,y_train_over)"
   ]
  },
  {
   "cell_type": "code",
   "execution_count": 48,
   "id": "fd4e9985",
   "metadata": {},
   "outputs": [
    {
     "data": {
      "text/html": [
       "<div>\n",
       "<style scoped>\n",
       "    .dataframe tbody tr th:only-of-type {\n",
       "        vertical-align: middle;\n",
       "    }\n",
       "\n",
       "    .dataframe tbody tr th {\n",
       "        vertical-align: top;\n",
       "    }\n",
       "\n",
       "    .dataframe thead th {\n",
       "        text-align: right;\n",
       "    }\n",
       "</style>\n",
       "<table border=\"1\" class=\"dataframe\">\n",
       "  <thead>\n",
       "    <tr style=\"text-align: right;\">\n",
       "      <th></th>\n",
       "      <th>mean_fit_time</th>\n",
       "      <th>std_fit_time</th>\n",
       "      <th>mean_score_time</th>\n",
       "      <th>std_score_time</th>\n",
       "      <th>param_randomforestclassifier__max_depth</th>\n",
       "      <th>param_randomforestclassifier__n_estimators</th>\n",
       "      <th>param_simpleimputer__strategy</th>\n",
       "      <th>params</th>\n",
       "      <th>split0_test_score</th>\n",
       "      <th>split1_test_score</th>\n",
       "      <th>split2_test_score</th>\n",
       "      <th>mean_test_score</th>\n",
       "      <th>std_test_score</th>\n",
       "      <th>rank_test_score</th>\n",
       "    </tr>\n",
       "  </thead>\n",
       "  <tbody>\n",
       "    <tr>\n",
       "      <th>0</th>\n",
       "      <td>1.237756</td>\n",
       "      <td>0.020501</td>\n",
       "      <td>0.039336</td>\n",
       "      <td>0.004190</td>\n",
       "      <td>10</td>\n",
       "      <td>25</td>\n",
       "      <td>mean</td>\n",
       "      <td>{'randomforestclassifier__max_depth': 10, 'ran...</td>\n",
       "      <td>0.974920</td>\n",
       "      <td>0.971552</td>\n",
       "      <td>0.971921</td>\n",
       "      <td>0.972798</td>\n",
       "      <td>0.001509</td>\n",
       "      <td>21</td>\n",
       "    </tr>\n",
       "    <tr>\n",
       "      <th>1</th>\n",
       "      <td>1.270424</td>\n",
       "      <td>0.015839</td>\n",
       "      <td>0.038004</td>\n",
       "      <td>0.007258</td>\n",
       "      <td>10</td>\n",
       "      <td>25</td>\n",
       "      <td>median</td>\n",
       "      <td>{'randomforestclassifier__max_depth': 10, 'ran...</td>\n",
       "      <td>0.973797</td>\n",
       "      <td>0.962942</td>\n",
       "      <td>0.963310</td>\n",
       "      <td>0.966683</td>\n",
       "      <td>0.005033</td>\n",
       "      <td>24</td>\n",
       "    </tr>\n",
       "  </tbody>\n",
       "</table>\n",
       "</div>"
      ],
      "text/plain": [
       "   mean_fit_time  std_fit_time  mean_score_time  std_score_time  \\\n",
       "0       1.237756      0.020501         0.039336        0.004190   \n",
       "1       1.270424      0.015839         0.038004        0.007258   \n",
       "\n",
       "  param_randomforestclassifier__max_depth  \\\n",
       "0                                      10   \n",
       "1                                      10   \n",
       "\n",
       "  param_randomforestclassifier__n_estimators param_simpleimputer__strategy  \\\n",
       "0                                         25                          mean   \n",
       "1                                         25                        median   \n",
       "\n",
       "                                              params  split0_test_score  \\\n",
       "0  {'randomforestclassifier__max_depth': 10, 'ran...           0.974920   \n",
       "1  {'randomforestclassifier__max_depth': 10, 'ran...           0.973797   \n",
       "\n",
       "   split1_test_score  split2_test_score  mean_test_score  std_test_score  \\\n",
       "0           0.971552           0.971921         0.972798        0.001509   \n",
       "1           0.962942           0.963310         0.966683        0.005033   \n",
       "\n",
       "   rank_test_score  \n",
       "0               21  \n",
       "1               24  "
      ]
     },
     "execution_count": 48,
     "metadata": {},
     "output_type": "execute_result"
    }
   ],
   "source": [
    "cv_results = pd.DataFrame(RF_model.cv_results_)\n",
    "cv_results.head(2)\n"
   ]
  },
  {
   "cell_type": "code",
   "execution_count": 49,
   "id": "d1e19aeb",
   "metadata": {
    "scrolled": true
   },
   "outputs": [
    {
     "data": {
      "text/plain": [
       "({'randomforestclassifier__max_depth': 40,\n",
       "  'randomforestclassifier__n_estimators': 75,\n",
       "  'simpleimputer__strategy': 'median'},\n",
       " 0.9973171871023082)"
      ]
     },
     "execution_count": 49,
     "metadata": {},
     "output_type": "execute_result"
    }
   ],
   "source": [
    "RF_model.best_params_,RF_model.best_score_"
   ]
  },
  {
   "cell_type": "markdown",
   "id": "4d185723",
   "metadata": {},
   "source": [
    "so the best model depth is 40 and n_estimators = 75 , and the imputer strategy should be the median "
   ]
  },
  {
   "cell_type": "code",
   "execution_count": 50,
   "id": "2c5f4b78",
   "metadata": {},
   "outputs": [
    {
     "name": "stdout",
     "output_type": "stream",
     "text": [
      "Training Accuracy: 0.9999\n",
      "Test Accuracy: 0.9562\n"
     ]
    }
   ],
   "source": [
    "acc_train = RF_model.score(X_train,y_train)\n",
    "acc_test = RF_model.score(X_test,y_test)\n",
    "print(\"Training Accuracy:\", round(acc_train, 4))\n",
    "print(\"Test Accuracy:\", round(acc_test, 4))"
   ]
  },
  {
   "cell_type": "code",
   "execution_count": 51,
   "id": "162195f2",
   "metadata": {
    "scrolled": true
   },
   "outputs": [
    {
     "name": "stdout",
     "output_type": "stream",
     "text": [
      "              precision    recall  f1-score   support\n",
      "\n",
      "           0       0.96      1.00      0.98      1994\n",
      "           1       0.78      0.20      0.31       107\n",
      "\n",
      "    accuracy                           0.96      2101\n",
      "   macro avg       0.87      0.60      0.65      2101\n",
      "weighted avg       0.95      0.96      0.94      2101\n",
      "\n"
     ]
    }
   ],
   "source": [
    "print(classification_report(y_test,RF_model.predict(X_test)))"
   ]
  },
  {
   "cell_type": "code",
   "execution_count": 52,
   "id": "854f1b30",
   "metadata": {
    "scrolled": true
   },
   "outputs": [
    {
     "data": {
      "text/plain": [
       "<sklearn.metrics._plot.confusion_matrix.ConfusionMatrixDisplay at 0x12538afaa60>"
      ]
     },
     "execution_count": 52,
     "metadata": {},
     "output_type": "execute_result"
    },
    {
     "data": {
      "image/png": "[encoded data removed]",
      "text/plain": [
       "<Figure size 640x480 with 2 Axes>"
      ]
     },
     "metadata": {},
     "output_type": "display_data"
    }
   ],
   "source": [
    "ConfusionMatrixDisplay.from_estimator(RF_model,X_test,y_test)"
   ]
  },
  {
   "cell_type": "markdown",
   "id": "34e2894a",
   "metadata": {},
   "source": [
    "very bad recall"
   ]
  },
  {
   "cell_type": "markdown",
   "id": "30d2c6e7",
   "metadata": {},
   "source": [
    "## Gradient Boosting Classifier Model"
   ]
  },
  {
   "cell_type": "code",
   "execution_count": 53,
   "id": "624d7fac",
   "metadata": {},
   "outputs": [],
   "source": [
    "from sklearn.ensemble import GradientBoostingClassifier"
   ]
  },
  {
   "cell_type": "code",
   "execution_count": 54,
   "id": "492be488",
   "metadata": {},
   "outputs": [],
   "source": [
    "clf = make_pipeline(SimpleImputer(),StandardScaler(),GradientBoostingClassifier())"
   ]
  },
  {
   "cell_type": "code",
   "execution_count": 55,
   "id": "36accff4",
   "metadata": {},
   "outputs": [
    {
     "data": {
      "text/plain": [
       "{'simpleimputer__strategy': ['mean', 'median'],\n",
       " 'gradientboostingclassifier__max_depth': range(2, 5),\n",
       " 'gradientboostingclassifier__n_estimators': range(20, 31, 5)}"
      ]
     },
     "execution_count": 55,
     "metadata": {},
     "output_type": "execute_result"
    }
   ],
   "source": [
    "params = {\"simpleimputer__strategy\":[\"mean\",\"median\"],\"gradientboostingclassifier__max_depth\":range(2,5),\"gradientboostingclassifier__n_estimators\":range(20,31,5)}\n",
    "params"
   ]
  },
  {
   "cell_type": "code",
   "execution_count": 56,
   "id": "f2777fb8",
   "metadata": {},
   "outputs": [],
   "source": [
    "GBC_model = GridSearchCV(clf,param_grid=params,cv=5,n_jobs=-1,verbose=1)"
   ]
  },
  {
   "cell_type": "code",
   "execution_count": 57,
   "id": "9d0c21c6",
   "metadata": {},
   "outputs": [
    {
     "name": "stdout",
     "output_type": "stream",
     "text": [
      "Fitting 5 folds for each of 18 candidates, totalling 90 fits\n"
     ]
    },
    {
     "data": {
      "text/plain": [
       "GridSearchCV(cv=5,\n",
       "             estimator=Pipeline(steps=[('simpleimputer', SimpleImputer()),\n",
       "                                       ('standardscaler', StandardScaler()),\n",
       "                                       ('gradientboostingclassifier',\n",
       "                                        GradientBoostingClassifier())]),\n",
       "             n_jobs=-1,\n",
       "             param_grid={'gradientboostingclassifier__max_depth': range(2, 5),\n",
       "                         'gradientboostingclassifier__n_estimators': range(20, 31, 5),\n",
       "                         'simpleimputer__strategy': ['mean', 'median']},\n",
       "             verbose=1)"
      ]
     },
     "execution_count": 57,
     "metadata": {},
     "output_type": "execute_result"
    }
   ],
   "source": [
    "GBC_model.fit(X_train_over,y_train_over)"
   ]
  },
  {
   "cell_type": "code",
   "execution_count": 58,
   "id": "486d348f",
   "metadata": {},
   "outputs": [
    {
     "data": {
      "text/html": [
       "<div>\n",
       "<style scoped>\n",
       "    .dataframe tbody tr th:only-of-type {\n",
       "        vertical-align: middle;\n",
       "    }\n",
       "\n",
       "    .dataframe tbody tr th {\n",
       "        vertical-align: top;\n",
       "    }\n",
       "\n",
       "    .dataframe thead th {\n",
       "        text-align: right;\n",
       "    }\n",
       "</style>\n",
       "<table border=\"1\" class=\"dataframe\">\n",
       "  <thead>\n",
       "    <tr style=\"text-align: right;\">\n",
       "      <th></th>\n",
       "      <th>mean_fit_time</th>\n",
       "      <th>std_fit_time</th>\n",
       "      <th>mean_score_time</th>\n",
       "      <th>std_score_time</th>\n",
       "      <th>param_gradientboostingclassifier__max_depth</th>\n",
       "      <th>param_gradientboostingclassifier__n_estimators</th>\n",
       "      <th>param_simpleimputer__strategy</th>\n",
       "      <th>params</th>\n",
       "      <th>split0_test_score</th>\n",
       "      <th>split1_test_score</th>\n",
       "      <th>split2_test_score</th>\n",
       "      <th>split3_test_score</th>\n",
       "      <th>split4_test_score</th>\n",
       "      <th>mean_test_score</th>\n",
       "      <th>std_test_score</th>\n",
       "      <th>rank_test_score</th>\n",
       "    </tr>\n",
       "  </thead>\n",
       "  <tbody>\n",
       "    <tr>\n",
       "      <th>16</th>\n",
       "      <td>8.652441</td>\n",
       "      <td>0.522854</td>\n",
       "      <td>0.011200</td>\n",
       "      <td>1.939620e-03</td>\n",
       "      <td>4</td>\n",
       "      <td>30</td>\n",
       "      <td>mean</td>\n",
       "      <td>{'gradientboostingclassifier__max_depth': 4, '...</td>\n",
       "      <td>0.898939</td>\n",
       "      <td>0.902994</td>\n",
       "      <td>0.898939</td>\n",
       "      <td>0.898284</td>\n",
       "      <td>0.896724</td>\n",
       "      <td>0.899176</td>\n",
       "      <td>0.002074</td>\n",
       "      <td>1</td>\n",
       "    </tr>\n",
       "    <tr>\n",
       "      <th>17</th>\n",
       "      <td>7.989998</td>\n",
       "      <td>0.146574</td>\n",
       "      <td>0.010601</td>\n",
       "      <td>1.624643e-03</td>\n",
       "      <td>4</td>\n",
       "      <td>30</td>\n",
       "      <td>median</td>\n",
       "      <td>{'gradientboostingclassifier__max_depth': 4, '...</td>\n",
       "      <td>0.890206</td>\n",
       "      <td>0.900811</td>\n",
       "      <td>0.885527</td>\n",
       "      <td>0.883931</td>\n",
       "      <td>0.899844</td>\n",
       "      <td>0.892064</td>\n",
       "      <td>0.007062</td>\n",
       "      <td>2</td>\n",
       "    </tr>\n",
       "    <tr>\n",
       "      <th>14</th>\n",
       "      <td>6.545883</td>\n",
       "      <td>0.660017</td>\n",
       "      <td>0.010201</td>\n",
       "      <td>1.166057e-03</td>\n",
       "      <td>4</td>\n",
       "      <td>25</td>\n",
       "      <td>mean</td>\n",
       "      <td>{'gradientboostingclassifier__max_depth': 4, '...</td>\n",
       "      <td>0.889894</td>\n",
       "      <td>0.891142</td>\n",
       "      <td>0.890830</td>\n",
       "      <td>0.880499</td>\n",
       "      <td>0.891732</td>\n",
       "      <td>0.888819</td>\n",
       "      <td>0.004202</td>\n",
       "      <td>3</td>\n",
       "    </tr>\n",
       "    <tr>\n",
       "      <th>15</th>\n",
       "      <td>6.169655</td>\n",
       "      <td>0.165965</td>\n",
       "      <td>0.009000</td>\n",
       "      <td>4.623108e-07</td>\n",
       "      <td>4</td>\n",
       "      <td>25</td>\n",
       "      <td>median</td>\n",
       "      <td>{'gradientboostingclassifier__max_depth': 4, '...</td>\n",
       "      <td>0.879913</td>\n",
       "      <td>0.889894</td>\n",
       "      <td>0.873051</td>\n",
       "      <td>0.873947</td>\n",
       "      <td>0.887051</td>\n",
       "      <td>0.880771</td>\n",
       "      <td>0.006776</td>\n",
       "      <td>4</td>\n",
       "    </tr>\n",
       "    <tr>\n",
       "      <th>12</th>\n",
       "      <td>5.642416</td>\n",
       "      <td>0.170509</td>\n",
       "      <td>0.009400</td>\n",
       "      <td>1.199746e-03</td>\n",
       "      <td>4</td>\n",
       "      <td>20</td>\n",
       "      <td>mean</td>\n",
       "      <td>{'gradientboostingclassifier__max_depth': 4, '...</td>\n",
       "      <td>0.872427</td>\n",
       "      <td>0.882408</td>\n",
       "      <td>0.879913</td>\n",
       "      <td>0.873947</td>\n",
       "      <td>0.881435</td>\n",
       "      <td>0.878026</td>\n",
       "      <td>0.004059</td>\n",
       "      <td>5</td>\n",
       "    </tr>\n",
       "  </tbody>\n",
       "</table>\n",
       "</div>"
      ],
      "text/plain": [
       "    mean_fit_time  std_fit_time  mean_score_time  std_score_time  \\\n",
       "16       8.652441      0.522854         0.011200    1.939620e-03   \n",
       "17       7.989998      0.146574         0.010601    1.624643e-03   \n",
       "14       6.545883      0.660017         0.010201    1.166057e-03   \n",
       "15       6.169655      0.165965         0.009000    4.623108e-07   \n",
       "12       5.642416      0.170509         0.009400    1.199746e-03   \n",
       "\n",
       "   param_gradientboostingclassifier__max_depth  \\\n",
       "16                                           4   \n",
       "17                                           4   \n",
       "14                                           4   \n",
       "15                                           4   \n",
       "12                                           4   \n",
       "\n",
       "   param_gradientboostingclassifier__n_estimators  \\\n",
       "16                                             30   \n",
       "17                                             30   \n",
       "14                                             25   \n",
       "15                                             25   \n",
       "12                                             20   \n",
       "\n",
       "   param_simpleimputer__strategy  \\\n",
       "16                          mean   \n",
       "17                        median   \n",
       "14                          mean   \n",
       "15                        median   \n",
       "12                          mean   \n",
       "\n",
       "                                               params  split0_test_score  \\\n",
       "16  {'gradientboostingclassifier__max_depth': 4, '...           0.898939   \n",
       "17  {'gradientboostingclassifier__max_depth': 4, '...           0.890206   \n",
       "14  {'gradientboostingclassifier__max_depth': 4, '...           0.889894   \n",
       "15  {'gradientboostingclassifier__max_depth': 4, '...           0.879913   \n",
       "12  {'gradientboostingclassifier__max_depth': 4, '...           0.872427   \n",
       "\n",
       "    split1_test_score  split2_test_score  split3_test_score  \\\n",
       "16           0.902994           0.898939           0.898284   \n",
       "17           0.900811           0.885527           0.883931   \n",
       "14           0.891142           0.890830           0.880499   \n",
       "15           0.889894           0.873051           0.873947   \n",
       "12           0.882408           0.879913           0.873947   \n",
       "\n",
       "    split4_test_score  mean_test_score  std_test_score  rank_test_score  \n",
       "16           0.896724         0.899176        0.002074                1  \n",
       "17           0.899844         0.892064        0.007062                2  \n",
       "14           0.891732         0.888819        0.004202                3  \n",
       "15           0.887051         0.880771        0.006776                4  \n",
       "12           0.881435         0.878026        0.004059                5  "
      ]
     },
     "execution_count": 58,
     "metadata": {},
     "output_type": "execute_result"
    }
   ],
   "source": [
    "results = pd.DataFrame(GBC_model.cv_results_)\n",
    "results.sort_values(\"rank_test_score\").head(5)"
   ]
  },
  {
   "cell_type": "code",
   "execution_count": 59,
   "id": "5a99a3a0",
   "metadata": {},
   "outputs": [
    {
     "data": {
      "text/plain": [
       "{'gradientboostingclassifier__max_depth': 4,\n",
       " 'gradientboostingclassifier__n_estimators': 30,\n",
       " 'simpleimputer__strategy': 'mean'}"
      ]
     },
     "execution_count": 59,
     "metadata": {},
     "output_type": "execute_result"
    }
   ],
   "source": [
    "GBC_model.best_params_"
   ]
  },
  {
   "cell_type": "code",
   "execution_count": 60,
   "id": "43dadff1",
   "metadata": {},
   "outputs": [
    {
     "name": "stdout",
     "output_type": "stream",
     "text": [
      "              precision    recall  f1-score   support\n",
      "\n",
      "           0       0.99      0.87      0.93      1994\n",
      "           1       0.25      0.79      0.38       107\n",
      "\n",
      "    accuracy                           0.87      2101\n",
      "   macro avg       0.62      0.83      0.65      2101\n",
      "weighted avg       0.95      0.87      0.90      2101\n",
      "\n"
     ]
    }
   ],
   "source": [
    "print(classification_report(y_test,GBC_model.predict(X_test)))"
   ]
  },
  {
   "cell_type": "markdown",
   "id": "34094520",
   "metadata": {},
   "source": [
    "improving the model recall , very good!"
   ]
  },
  {
   "cell_type": "code",
   "execution_count": 61,
   "id": "f2db731a",
   "metadata": {},
   "outputs": [
    {
     "data": {
      "text/plain": [
       "<sklearn.metrics._plot.confusion_matrix.ConfusionMatrixDisplay at 0x12532828d90>"
      ]
     },
     "execution_count": 61,
     "metadata": {},
     "output_type": "execute_result"
    },
    {
     "data": {
      "image/png": "[encoded data removed]",
      "text/plain": [
       "<Figure size 640x480 with 2 Axes>"
      ]
     },
     "metadata": {},
     "output_type": "display_data"
    }
   ],
   "source": [
    "ConfusionMatrixDisplay.from_estimator(GBC_model,X_test,y_test)"
   ]
  },
  {
   "cell_type": "markdown",
   "id": "53fa4627",
   "metadata": {},
   "source": [
    "better performance on the positive labels , but the precesion is low "
   ]
  },
  {
   "cell_type": "code",
   "execution_count": null,
   "id": "412302c5",
   "metadata": {},
   "outputs": [],
   "source": []
  },
  {
   "cell_type": "code",
   "execution_count": null,
   "id": "201dee37",
   "metadata": {},
   "outputs": [],
   "source": []
  },
  {
   "cell_type": "markdown",
   "id": "2e23f686",
   "metadata": {},
   "source": [
    "## Logistic Regression Model"
   ]
  },
  {
   "cell_type": "code",
   "execution_count": 62,
   "id": "72a9406b",
   "metadata": {},
   "outputs": [],
   "source": [
    "from sklearn.linear_model import LogisticRegression"
   ]
  },
  {
   "cell_type": "code",
   "execution_count": 63,
   "id": "85687e86",
   "metadata": {
    "scrolled": true
   },
   "outputs": [
    {
     "name": "stdout",
     "output_type": "stream",
     "text": [
      "Pipeline(steps=[('simpleimputer', SimpleImputer()),\n",
      "                ('standardscaler', StandardScaler()),\n",
      "                ('logisticregression',\n",
      "                 LogisticRegression(max_iter=500, random_state=42))])\n"
     ]
    }
   ],
   "source": [
    "clf = make_pipeline(SimpleImputer(),StandardScaler(),LogisticRegression(random_state=42,max_iter=500))\n",
    "print(clf)"
   ]
  },
  {
   "cell_type": "code",
   "execution_count": 64,
   "id": "a45a06da",
   "metadata": {},
   "outputs": [
    {
     "data": {
      "text/plain": [
       "sklearn.linear_model._logistic.LogisticRegression"
      ]
     },
     "execution_count": 64,
     "metadata": {},
     "output_type": "execute_result"
    }
   ],
   "source": [
    "LogisticRegression"
   ]
  },
  {
   "cell_type": "code",
   "execution_count": 65,
   "id": "e8ef4df4",
   "metadata": {},
   "outputs": [
    {
     "data": {
      "text/html": [
       "<div>\n",
       "<style scoped>\n",
       "    .dataframe tbody tr th:only-of-type {\n",
       "        vertical-align: middle;\n",
       "    }\n",
       "\n",
       "    .dataframe tbody tr th {\n",
       "        vertical-align: top;\n",
       "    }\n",
       "\n",
       "    .dataframe thead th {\n",
       "        text-align: right;\n",
       "    }\n",
       "</style>\n",
       "<table border=\"1\" class=\"dataframe\">\n",
       "  <thead>\n",
       "    <tr style=\"text-align: right;\">\n",
       "      <th></th>\n",
       "      <th>memory</th>\n",
       "      <th>steps</th>\n",
       "      <th>verbose</th>\n",
       "      <th>simpleimputer</th>\n",
       "      <th>standardscaler</th>\n",
       "      <th>logisticregression</th>\n",
       "      <th>simpleimputer__add_indicator</th>\n",
       "      <th>simpleimputer__copy</th>\n",
       "      <th>simpleimputer__fill_value</th>\n",
       "      <th>simpleimputer__missing_values</th>\n",
       "      <th>...</th>\n",
       "      <th>logisticregression__l1_ratio</th>\n",
       "      <th>logisticregression__max_iter</th>\n",
       "      <th>logisticregression__multi_class</th>\n",
       "      <th>logisticregression__n_jobs</th>\n",
       "      <th>logisticregression__penalty</th>\n",
       "      <th>logisticregression__random_state</th>\n",
       "      <th>logisticregression__solver</th>\n",
       "      <th>logisticregression__tol</th>\n",
       "      <th>logisticregression__verbose</th>\n",
       "      <th>logisticregression__warm_start</th>\n",
       "    </tr>\n",
       "  </thead>\n",
       "  <tbody>\n",
       "    <tr>\n",
       "      <th>0</th>\n",
       "      <td>None</td>\n",
       "      <td>(simpleimputer, SimpleImputer())</td>\n",
       "      <td>False</td>\n",
       "      <td>SimpleImputer()</td>\n",
       "      <td>StandardScaler()</td>\n",
       "      <td>LogisticRegression(max_iter=500, random_state=42)</td>\n",
       "      <td>False</td>\n",
       "      <td>True</td>\n",
       "      <td>None</td>\n",
       "      <td>NaN</td>\n",
       "      <td>...</td>\n",
       "      <td>None</td>\n",
       "      <td>500</td>\n",
       "      <td>auto</td>\n",
       "      <td>None</td>\n",
       "      <td>l2</td>\n",
       "      <td>42</td>\n",
       "      <td>lbfgs</td>\n",
       "      <td>0.0001</td>\n",
       "      <td>0</td>\n",
       "      <td>False</td>\n",
       "    </tr>\n",
       "    <tr>\n",
       "      <th>1</th>\n",
       "      <td>None</td>\n",
       "      <td>(standardscaler, StandardScaler())</td>\n",
       "      <td>False</td>\n",
       "      <td>SimpleImputer()</td>\n",
       "      <td>StandardScaler()</td>\n",
       "      <td>LogisticRegression(max_iter=500, random_state=42)</td>\n",
       "      <td>False</td>\n",
       "      <td>True</td>\n",
       "      <td>None</td>\n",
       "      <td>NaN</td>\n",
       "      <td>...</td>\n",
       "      <td>None</td>\n",
       "      <td>500</td>\n",
       "      <td>auto</td>\n",
       "      <td>None</td>\n",
       "      <td>l2</td>\n",
       "      <td>42</td>\n",
       "      <td>lbfgs</td>\n",
       "      <td>0.0001</td>\n",
       "      <td>0</td>\n",
       "      <td>False</td>\n",
       "    </tr>\n",
       "    <tr>\n",
       "      <th>2</th>\n",
       "      <td>None</td>\n",
       "      <td>(logisticregression, LogisticRegression(max_it...</td>\n",
       "      <td>False</td>\n",
       "      <td>SimpleImputer()</td>\n",
       "      <td>StandardScaler()</td>\n",
       "      <td>LogisticRegression(max_iter=500, random_state=42)</td>\n",
       "      <td>False</td>\n",
       "      <td>True</td>\n",
       "      <td>None</td>\n",
       "      <td>NaN</td>\n",
       "      <td>...</td>\n",
       "      <td>None</td>\n",
       "      <td>500</td>\n",
       "      <td>auto</td>\n",
       "      <td>None</td>\n",
       "      <td>l2</td>\n",
       "      <td>42</td>\n",
       "      <td>lbfgs</td>\n",
       "      <td>0.0001</td>\n",
       "      <td>0</td>\n",
       "      <td>False</td>\n",
       "    </tr>\n",
       "  </tbody>\n",
       "</table>\n",
       "<p>3 rows × 30 columns</p>\n",
       "</div>"
      ],
      "text/plain": [
       "  memory                                              steps  verbose  \\\n",
       "0   None                   (simpleimputer, SimpleImputer())    False   \n",
       "1   None                 (standardscaler, StandardScaler())    False   \n",
       "2   None  (logisticregression, LogisticRegression(max_it...    False   \n",
       "\n",
       "     simpleimputer    standardscaler  \\\n",
       "0  SimpleImputer()  StandardScaler()   \n",
       "1  SimpleImputer()  StandardScaler()   \n",
       "2  SimpleImputer()  StandardScaler()   \n",
       "\n",
       "                                  logisticregression  \\\n",
       "0  LogisticRegression(max_iter=500, random_state=42)   \n",
       "1  LogisticRegression(max_iter=500, random_state=42)   \n",
       "2  LogisticRegression(max_iter=500, random_state=42)   \n",
       "\n",
       "   simpleimputer__add_indicator  simpleimputer__copy  \\\n",
       "0                         False                 True   \n",
       "1                         False                 True   \n",
       "2                         False                 True   \n",
       "\n",
       "  simpleimputer__fill_value  simpleimputer__missing_values  ...  \\\n",
       "0                      None                            NaN  ...   \n",
       "1                      None                            NaN  ...   \n",
       "2                      None                            NaN  ...   \n",
       "\n",
       "  logisticregression__l1_ratio  logisticregression__max_iter  \\\n",
       "0                         None                           500   \n",
       "1                         None                           500   \n",
       "2                         None                           500   \n",
       "\n",
       "   logisticregression__multi_class  logisticregression__n_jobs  \\\n",
       "0                             auto                        None   \n",
       "1                             auto                        None   \n",
       "2                             auto                        None   \n",
       "\n",
       "   logisticregression__penalty  logisticregression__random_state  \\\n",
       "0                           l2                                42   \n",
       "1                           l2                                42   \n",
       "2                           l2                                42   \n",
       "\n",
       "  logisticregression__solver  logisticregression__tol  \\\n",
       "0                      lbfgs                   0.0001   \n",
       "1                      lbfgs                   0.0001   \n",
       "2                      lbfgs                   0.0001   \n",
       "\n",
       "   logisticregression__verbose  logisticregression__warm_start  \n",
       "0                            0                           False  \n",
       "1                            0                           False  \n",
       "2                            0                           False  \n",
       "\n",
       "[3 rows x 30 columns]"
      ]
     },
     "execution_count": 65,
     "metadata": {},
     "output_type": "execute_result"
    }
   ],
   "source": [
    "pd.DataFrame(clf.get_params())"
   ]
  },
  {
   "cell_type": "code",
   "execution_count": 66,
   "id": "a86ee808",
   "metadata": {},
   "outputs": [
    {
     "data": {
      "text/plain": [
       "dict_keys(['memory', 'steps', 'verbose', 'simpleimputer', 'standardscaler', 'logisticregression', 'simpleimputer__add_indicator', 'simpleimputer__copy', 'simpleimputer__fill_value', 'simpleimputer__missing_values', 'simpleimputer__strategy', 'simpleimputer__verbose', 'standardscaler__copy', 'standardscaler__with_mean', 'standardscaler__with_std', 'logisticregression__C', 'logisticregression__class_weight', 'logisticregression__dual', 'logisticregression__fit_intercept', 'logisticregression__intercept_scaling', 'logisticregression__l1_ratio', 'logisticregression__max_iter', 'logisticregression__multi_class', 'logisticregression__n_jobs', 'logisticregression__penalty', 'logisticregression__random_state', 'logisticregression__solver', 'logisticregression__tol', 'logisticregression__verbose', 'logisticregression__warm_start'])"
      ]
     },
     "execution_count": 66,
     "metadata": {},
     "output_type": "execute_result"
    }
   ],
   "source": [
    "clf.get_params().keys()"
   ]
  },
  {
   "cell_type": "code",
   "execution_count": 67,
   "id": "36d9604a",
   "metadata": {},
   "outputs": [
    {
     "data": {
      "text/plain": [
       "{'simpleimputer__strategy': ['mean', 'median'],\n",
       " 'logisticregression__penalty': ['l1', 'l2'],\n",
       " 'logisticregression__multi_class': ['ovr', 'multinomial'],\n",
       " 'logisticregression__C': [0.1, 0.3, 0.6, 0.9],\n",
       " 'logisticregression__solver': ['lbfgs', 'saga']}"
      ]
     },
     "execution_count": 67,
     "metadata": {},
     "output_type": "execute_result"
    }
   ],
   "source": [
    "params = {\"simpleimputer__strategy\":[\"mean\",\"median\"],\n",
    "          \"logisticregression__penalty\":['l1', 'l2'],\n",
    "          \"logisticregression__multi_class\":['ovr', 'multinomial'],\n",
    "          'logisticregression__C':[.1,.3,.6,.9],\n",
    "          'logisticregression__solver':[ 'lbfgs',  'saga']}\n",
    "params"
   ]
  },
  {
   "cell_type": "code",
   "execution_count": 68,
   "id": "ad74e649",
   "metadata": {},
   "outputs": [],
   "source": [
    "LR_model = GridSearchCV(clf,param_grid=params,cv=5,n_jobs=-1,verbose=1)"
   ]
  },
  {
   "cell_type": "code",
   "execution_count": 69,
   "id": "9c28d463",
   "metadata": {},
   "outputs": [
    {
     "name": "stdout",
     "output_type": "stream",
     "text": [
      "Fitting 5 folds for each of 64 candidates, totalling 320 fits\n"
     ]
    },
    {
     "name": "stderr",
     "output_type": "stream",
     "text": [
      "C:\\Users\\User\\anaconda3\\lib\\site-packages\\sklearn\\model_selection\\_validation.py:372: FitFailedWarning: \n",
      "80 fits failed out of a total of 320.\n",
      "The score on these train-test partitions for these parameters will be set to nan.\n",
      "If these failures are not expected, you can try to debug them by setting error_score='raise'.\n",
      "\n",
      "Below are more details about the failures:\n",
      "--------------------------------------------------------------------------------\n",
      "80 fits failed with the following error:\n",
      "Traceback (most recent call last):\n",
      "  File \"C:\\Users\\User\\anaconda3\\lib\\site-packages\\sklearn\\model_selection\\_validation.py\", line 680, in _fit_and_score\n",
      "    estimator.fit(X_train, y_train, **fit_params)\n",
      "  File \"C:\\Users\\User\\anaconda3\\lib\\site-packages\\sklearn\\pipeline.py\", line 394, in fit\n",
      "    self._final_estimator.fit(Xt, y, **fit_params_last_step)\n",
      "  File \"C:\\Users\\User\\anaconda3\\lib\\site-packages\\sklearn\\linear_model\\_logistic.py\", line 1461, in fit\n",
      "    solver = _check_solver(self.solver, self.penalty, self.dual)\n",
      "  File \"C:\\Users\\User\\anaconda3\\lib\\site-packages\\sklearn\\linear_model\\_logistic.py\", line 447, in _check_solver\n",
      "    raise ValueError(\n",
      "ValueError: Solver lbfgs supports only 'l2' or 'none' penalties, got l1 penalty.\n",
      "\n",
      "  warnings.warn(some_fits_failed_message, FitFailedWarning)\n",
      "C:\\Users\\User\\anaconda3\\lib\\site-packages\\sklearn\\model_selection\\_search.py:969: UserWarning: One or more of the test scores are non-finite: [       nan        nan 0.66558522 0.66546053 0.67045242 0.67045246\n",
      " 0.66789355 0.6685798         nan        nan 0.66882991 0.66839323\n",
      " 0.67126338 0.67170016 0.67163772 0.67107605        nan        nan\n",
      " 0.66964047 0.6700149  0.67581788 0.67600499 0.66795597 0.66995244\n",
      "        nan        nan 0.67032759 0.66989076 0.67906182 0.67719016\n",
      " 0.67157533 0.6725733         nan        nan 0.66932863 0.66982769\n",
      " 0.67912422 0.67719016 0.66801837 0.67020215        nan        nan\n",
      " 0.67057716 0.67057685 0.67856276 0.67775151 0.67113851 0.67194924\n",
      "        nan        nan 0.66870472 0.67051412 0.67831293 0.67906167\n",
      " 0.66795599 0.67013976        nan        nan 0.67095137 0.67120076\n",
      " 0.68043436 0.6807464  0.67107613 0.67169973]\n",
      "  warnings.warn(\n"
     ]
    },
    {
     "data": {
      "text/plain": [
       "GridSearchCV(cv=5,\n",
       "             estimator=Pipeline(steps=[('simpleimputer', SimpleImputer()),\n",
       "                                       ('standardscaler', StandardScaler()),\n",
       "                                       ('logisticregression',\n",
       "                                        LogisticRegression(max_iter=500,\n",
       "                                                           random_state=42))]),\n",
       "             n_jobs=-1,\n",
       "             param_grid={'logisticregression__C': [0.1, 0.3, 0.6, 0.9],\n",
       "                         'logisticregression__multi_class': ['ovr',\n",
       "                                                             'multinomial'],\n",
       "                         'logisticregression__penalty': ['l1', 'l2'],\n",
       "                         'logisticregression__solver': ['lbfgs', 'saga'],\n",
       "                         'simpleimputer__strategy': ['mean', 'median']},\n",
       "             verbose=1)"
      ]
     },
     "execution_count": 69,
     "metadata": {},
     "output_type": "execute_result"
    }
   ],
   "source": [
    "LR_model.fit(X_train_over,y_train_over)"
   ]
  },
  {
   "cell_type": "code",
   "execution_count": 70,
   "id": "e2a245b3",
   "metadata": {},
   "outputs": [
    {
     "data": {
      "text/plain": [
       "{'logisticregression__C': 0.9,\n",
       " 'logisticregression__multi_class': 'multinomial',\n",
       " 'logisticregression__penalty': 'l2',\n",
       " 'logisticregression__solver': 'lbfgs',\n",
       " 'simpleimputer__strategy': 'median'}"
      ]
     },
     "execution_count": 70,
     "metadata": {},
     "output_type": "execute_result"
    }
   ],
   "source": [
    "LR_model.best_params_"
   ]
  },
  {
   "cell_type": "code",
   "execution_count": 71,
   "id": "42f4d851",
   "metadata": {
    "scrolled": true
   },
   "outputs": [
    {
     "name": "stdout",
     "output_type": "stream",
     "text": [
      "              precision    recall  f1-score   support\n",
      "\n",
      "           0       0.98      0.64      0.77      1994\n",
      "           1       0.10      0.76      0.18       107\n",
      "\n",
      "    accuracy                           0.64      2101\n",
      "   macro avg       0.54      0.70      0.47      2101\n",
      "weighted avg       0.94      0.64      0.74      2101\n",
      "\n"
     ]
    }
   ],
   "source": [
    "print(classification_report(y_test,LR_model.predict(X_test)))"
   ]
  },
  {
   "cell_type": "code",
   "execution_count": 72,
   "id": "03e20f6a",
   "metadata": {},
   "outputs": [
    {
     "data": {
      "text/plain": [
       "<sklearn.metrics._plot.confusion_matrix.ConfusionMatrixDisplay at 0x125314fe4c0>"
      ]
     },
     "execution_count": 72,
     "metadata": {},
     "output_type": "execute_result"
    },
    {
     "data": {
      "image/png": "[encoded data removed]",
      "text/plain": [
       "<Figure size 640x480 with 2 Axes>"
      ]
     },
     "metadata": {},
     "output_type": "display_data"
    }
   ],
   "source": [
    "ConfusionMatrixDisplay.from_estimator(LR_model,X_test,y_test)"
   ]
  },
  {
   "cell_type": "markdown",
   "id": "eb89efe1",
   "metadata": {},
   "source": [
    "The model has a very good recall but a bad precession "
   ]
  },
  {
   "cell_type": "markdown",
   "id": "6e9d441f",
   "metadata": {},
   "source": [
    "## A Function to control the threshhold probabilitly of deciding the label prediction"
   ]
  },
  {
   "cell_type": "code",
   "execution_count": 73,
   "id": "54d56fe2",
   "metadata": {},
   "outputs": [],
   "source": [
    "import ipywidgets as widgets\n",
    "from ipywidgets import interact"
   ]
  },
  {
   "cell_type": "code",
   "execution_count": 74,
   "id": "7e1b4153",
   "metadata": {},
   "outputs": [
    {
     "data": {
      "application/vnd.jupyter.widget-view+json": {
       "model_id": "e1391fb1bb024387a9c95de9b657b15a",
       "version_major": 2,
       "version_minor": 0
      },
      "text/plain": [
       "interactive(children=(FloatSlider(value=0.5, description='threshold', max=1.0, step=0.05), Output()), _dom_cla…"
      ]
     },
     "metadata": {},
     "output_type": "display_data"
    }
   ],
   "source": [
    "def make_cnf_matrix(threshold):\n",
    "    y_pred_proba=LR_model.predict_proba(X_test)[:,-1]\n",
    "    y_pred=y_pred_proba>threshold\n",
    "    conf_matrix=confusion_matrix(y_test,y_pred)\n",
    "    tn,fp,fn,tp=conf_matrix.ravel()\n",
    "    print(f\"false positive {fp}\")\n",
    "    print(f\"false negative {fn}\")\n",
    "    ConfusionMatrixDisplay.from_predictions(y_test,y_pred,colorbar=False)\n",
    "    \n",
    "   \n",
    "\n",
    "\n",
    "thresh_widget = widgets.FloatSlider(min=0,max=1,value=.5,step=.05)\n",
    "\n",
    "interact(make_cnf_matrix, threshold=thresh_widget);"
   ]
  },
  {
   "cell_type": "markdown",
   "id": "0e306487",
   "metadata": {},
   "source": [
    "# Test logisticregression model, and gradient boosting model on new dataset "
   ]
  },
  {
   "cell_type": "code",
   "execution_count": 75,
   "id": "cbe9d5eb",
   "metadata": {},
   "outputs": [],
   "source": [
    "test_data = arff.loadarff('data (1)/2year.arff')\n",
    "test_df = pd.DataFrame(test_data[0])"
   ]
  },
  {
   "cell_type": "code",
   "execution_count": 76,
   "id": "0e37f8a7",
   "metadata": {},
   "outputs": [
    {
     "data": {
      "text/plain": [
       "(10173, 65)"
      ]
     },
     "execution_count": 76,
     "metadata": {},
     "output_type": "execute_result"
    }
   ],
   "source": [
    "test_df.shape"
   ]
  },
  {
   "cell_type": "code",
   "execution_count": 77,
   "id": "3e5943d1",
   "metadata": {},
   "outputs": [],
   "source": [
    "test_df=test_df.rename({\"class\":\"bankrupt\"},axis = 1 )"
   ]
  },
  {
   "cell_type": "code",
   "execution_count": 78,
   "id": "98afb41d",
   "metadata": {},
   "outputs": [],
   "source": [
    "test_df[\"bankrupt\"] = le.fit_transform(test_df.bankrupt)"
   ]
  },
  {
   "cell_type": "code",
   "execution_count": 79,
   "id": "889fc208",
   "metadata": {},
   "outputs": [
    {
     "data": {
      "text/plain": [
       "(10173, 50)"
      ]
     },
     "execution_count": 79,
     "metadata": {},
     "output_type": "execute_result"
    }
   ],
   "source": [
    "test_df = test_df.drop(columns=col_corr)\n",
    "test_df.shape"
   ]
  },
  {
   "cell_type": "code",
   "execution_count": 80,
   "id": "7005fa4f",
   "metadata": {},
   "outputs": [],
   "source": [
    "target = \"bankrupt\"\n",
    "final_x_test = test_df.drop(columns=target)\n",
    "final_y_test = test_df[target]"
   ]
  },
  {
   "cell_type": "markdown",
   "id": "2f8ab602",
   "metadata": {},
   "source": [
    "###  Testing Logistic regresion "
   ]
  },
  {
   "cell_type": "code",
   "execution_count": 81,
   "id": "fcdaf155",
   "metadata": {},
   "outputs": [
    {
     "data": {
      "application/vnd.jupyter.widget-view+json": {
       "model_id": "147dba3ce4d345dba37501c1e67fa825",
       "version_major": 2,
       "version_minor": 0
      },
      "text/plain": [
       "interactive(children=(FloatSlider(value=0.5, description='threshold', max=1.0, step=0.05), Output()), _dom_cla…"
      ]
     },
     "metadata": {},
     "output_type": "display_data"
    }
   ],
   "source": [
    "def make_cnf_matrix(threshold):\n",
    "    y_pred_proba=LR_model.predict_proba(final_x_test)[:,-1]\n",
    "    y_pred=y_pred_proba>threshold\n",
    "    conf_matrix=confusion_matrix(final_y_test,y_pred)\n",
    "    tn,fp,fn,tp=conf_matrix.ravel()\n",
    "    print(f\"false positive {fp}\")\n",
    "    print(f\"false negative {fn}\")\n",
    "    ConfusionMatrixDisplay.from_predictions(final_y_test,y_pred,colorbar=False)\n",
    "    print(classification_report(final_y_test,y_pred))\n",
    "    \n",
    "   \n",
    "\n",
    "\n",
    "thresh_widget = widgets.FloatSlider(min=0,max=1,value=.5,step=.05)\n",
    "\n",
    "interact(make_cnf_matrix, threshold=thresh_widget);\n"
   ]
  },
  {
   "cell_type": "code",
   "execution_count": 82,
   "id": "eaeee7e7",
   "metadata": {},
   "outputs": [
    {
     "data": {
      "application/vnd.jupyter.widget-view+json": {
       "model_id": "6a470d85a61540638cd2ec4578004b18",
       "version_major": 2,
       "version_minor": 0
      },
      "text/plain": [
       "interactive(children=(FloatSlider(value=0.5, description='threshold', max=1.0, step=0.05), Output()), _dom_cla…"
      ]
     },
     "metadata": {},
     "output_type": "display_data"
    }
   ],
   "source": [
    "def make_cnf_matrix(threshold):\n",
    "    y_pred_proba=GBC_model.predict_proba(final_x_test)[:,-1]\n",
    "    y_pred=y_pred_proba>threshold\n",
    "    conf_matrix=confusion_matrix(final_y_test,y_pred)\n",
    "    tn,fp,fn,tp=conf_matrix.ravel()\n",
    "    print(f\"false positive {fp}\")\n",
    "    print(f\"false negative {fn}\")\n",
    "    ConfusionMatrixDisplay.from_predictions(final_y_test,y_pred,colorbar=False)\n",
    "    print(classification_report(final_y_test,y_pred))\n",
    "    \n",
    "   \n",
    "\n",
    "\n",
    "thresh_widget = widgets.FloatSlider(min=0,max=1,value=.5,step=.05)\n",
    "\n",
    "interact(make_cnf_matrix, threshold=thresh_widget);"
   ]
  },
  {
   "cell_type": "code",
   "execution_count": null,
   "id": "3c4a00bf",
   "metadata": {},
   "outputs": [],
   "source": []
  }
 ],
 "metadata": {
  "kernelspec": {
   "display_name": "Python 3 (ipykernel)",
   "language": "python",
   "name": "python3"
  },
  "language_info": {
   "codemirror_mode": {
    "name": "ipython",
    "version": 3
   },
   "file_extension": ".py",
   "mimetype": "text/x-python",
   "name": "python",
   "nbconvert_exporter": "python",
   "pygments_lexer": "ipython3",
   "version": "3.9.7"
  }
 },
 "nbformat": 4,
 "nbformat_minor": 5
}
