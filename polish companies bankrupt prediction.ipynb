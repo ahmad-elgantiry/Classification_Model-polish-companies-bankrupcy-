{
 "cells": [
  {
   "cell_type": "markdown",
   "id": "ef16e0b7",
   "metadata": {},
   "source": [
    "The dataset is about bankruptcy prediction of Polish companies. The data was collected from Emerging Markets Information Service ([EMIS](https://www.emis.com)), which is a database containing information on emerging markets around the world. The bankrupt companies were analyzed in the period 2000-2012, while the still operating companies were evaluated from 2007 to 2013.\n",
    "datasetLink:\"https://archive.ics.uci.edu/ml/datasets/Polish+companies+bankruptcy+data\""
   ]
  },
  {
   "cell_type": "code",
   "execution_count": 1,
   "id": "b44636e2",
   "metadata": {},
   "outputs": [],
   "source": [
    "#importing libraries \n",
    "import matplotlib.pyplot as plt\n",
    "import numpy as np\n",
    "import seaborn as sns\n",
    "import pandas as pd\n",
    "from imblearn.over_sampling import RandomOverSampler\n",
    "from imblearn.under_sampling import RandomUnderSampler\n",
    "from sklearn.impute import SimpleImputer\n",
    "from sklearn.metrics import ConfusionMatrixDisplay, confusion_matrix\n",
    "from sklearn.model_selection import train_test_split,GridSearchCV, cross_val_score\n",
    "from sklearn.pipeline import make_pipeline\n",
    "from sklearn.preprocessing import StandardScaler\n"
   ]
  },
  {
   "cell_type": "code",
   "execution_count": 118,
   "id": "f12f6588",
   "metadata": {},
   "outputs": [],
   "source": [
    "#the data was in arff file formate,so i used scipy library to read it \n",
    "from scipy.io import arff\n",
    "data = arff.loadarff('../data (1)/3year.arff')\n",
    "df = pd.DataFrame(data[0])"
   ]
  },
  {
   "cell_type": "code",
   "execution_count": 119,
   "id": "5f6f7f8f",
   "metadata": {},
   "outputs": [
    {
     "data": {
      "text/plain": [
       "(10503, 65)"
      ]
     },
     "execution_count": 119,
     "metadata": {},
     "output_type": "execute_result"
    }
   ],
   "source": [
    "df.shape"
   ]
  },
  {
   "cell_type": "code",
   "execution_count": 120,
   "id": "57bbf772",
   "metadata": {},
   "outputs": [
    {
     "data": {
      "text/plain": [
       "Index(['Attr1', 'Attr2', 'Attr3', 'Attr4', 'Attr5', 'Attr6', 'Attr7', 'Attr8',\n",
       "       'Attr9', 'Attr10', 'Attr11', 'Attr12', 'Attr13', 'Attr14', 'Attr15',\n",
       "       'Attr16', 'Attr17', 'Attr18', 'Attr19', 'Attr20', 'Attr21', 'Attr22',\n",
       "       'Attr23', 'Attr24', 'Attr25', 'Attr26', 'Attr27', 'Attr28', 'Attr29',\n",
       "       'Attr30', 'Attr31', 'Attr32', 'Attr33', 'Attr34', 'Attr35', 'Attr36',\n",
       "       'Attr37', 'Attr38', 'Attr39', 'Attr40', 'Attr41', 'Attr42', 'Attr43',\n",
       "       'Attr44', 'Attr45', 'Attr46', 'Attr47', 'Attr48', 'Attr49', 'Attr50',\n",
       "       'Attr51', 'Attr52', 'Attr53', 'Attr54', 'Attr55', 'Attr56', 'Attr57',\n",
       "       'Attr58', 'Attr59', 'Attr60', 'Attr61', 'Attr62', 'Attr63', 'Attr64',\n",
       "       'class'],\n",
       "      dtype='object')"
      ]
     },
     "execution_count": 120,
     "metadata": {},
     "output_type": "execute_result"
    }
   ],
   "source": [
    "df.columns"
   ]
  },
  {
   "cell_type": "code",
   "execution_count": 121,
   "id": "c9650a98",
   "metadata": {},
   "outputs": [],
   "source": [
    "df=df.rename({\"class\":\"bankrupt\"},axis = 1 )\n"
   ]
  },
  {
   "cell_type": "code",
   "execution_count": 122,
   "id": "789695cb",
   "metadata": {},
   "outputs": [
    {
     "data": {
      "text/plain": [
       "'bankrupt'"
      ]
     },
     "execution_count": 122,
     "metadata": {},
     "output_type": "execute_result"
    }
   ],
   "source": [
    "df.columns[-1]"
   ]
  },
  {
   "cell_type": "code",
   "execution_count": 123,
   "id": "daa1e6dd",
   "metadata": {
    "scrolled": true
   },
   "outputs": [
    {
     "data": {
      "text/html": [
       "<div>\n",
       "<style scoped>\n",
       "    .dataframe tbody tr th:only-of-type {\n",
       "        vertical-align: middle;\n",
       "    }\n",
       "\n",
       "    .dataframe tbody tr th {\n",
       "        vertical-align: top;\n",
       "    }\n",
       "\n",
       "    .dataframe thead th {\n",
       "        text-align: right;\n",
       "    }\n",
       "</style>\n",
       "<table border=\"1\" class=\"dataframe\">\n",
       "  <thead>\n",
       "    <tr style=\"text-align: right;\">\n",
       "      <th></th>\n",
       "      <th>Attr1</th>\n",
       "      <th>Attr2</th>\n",
       "      <th>Attr3</th>\n",
       "      <th>Attr4</th>\n",
       "      <th>Attr5</th>\n",
       "      <th>Attr6</th>\n",
       "      <th>Attr7</th>\n",
       "      <th>Attr8</th>\n",
       "      <th>Attr9</th>\n",
       "      <th>Attr10</th>\n",
       "      <th>...</th>\n",
       "      <th>Attr56</th>\n",
       "      <th>Attr57</th>\n",
       "      <th>Attr58</th>\n",
       "      <th>Attr59</th>\n",
       "      <th>Attr60</th>\n",
       "      <th>Attr61</th>\n",
       "      <th>Attr62</th>\n",
       "      <th>Attr63</th>\n",
       "      <th>Attr64</th>\n",
       "      <th>bankrupt</th>\n",
       "    </tr>\n",
       "  </thead>\n",
       "  <tbody>\n",
       "    <tr>\n",
       "      <th>0</th>\n",
       "      <td>0.174190</td>\n",
       "      <td>0.41299</td>\n",
       "      <td>0.14371</td>\n",
       "      <td>1.3480</td>\n",
       "      <td>-28.9820</td>\n",
       "      <td>0.60383</td>\n",
       "      <td>0.219460</td>\n",
       "      <td>1.1225</td>\n",
       "      <td>1.1961</td>\n",
       "      <td>0.46359</td>\n",
       "      <td>...</td>\n",
       "      <td>0.163960</td>\n",
       "      <td>0.375740</td>\n",
       "      <td>0.83604</td>\n",
       "      <td>0.000007</td>\n",
       "      <td>9.7145</td>\n",
       "      <td>6.2813</td>\n",
       "      <td>84.291</td>\n",
       "      <td>4.3303</td>\n",
       "      <td>4.0341</td>\n",
       "      <td>b'0'</td>\n",
       "    </tr>\n",
       "    <tr>\n",
       "      <th>1</th>\n",
       "      <td>0.146240</td>\n",
       "      <td>0.46038</td>\n",
       "      <td>0.28230</td>\n",
       "      <td>1.6294</td>\n",
       "      <td>2.5952</td>\n",
       "      <td>0.00000</td>\n",
       "      <td>0.171850</td>\n",
       "      <td>1.1721</td>\n",
       "      <td>1.6018</td>\n",
       "      <td>0.53962</td>\n",
       "      <td>...</td>\n",
       "      <td>0.027516</td>\n",
       "      <td>0.271000</td>\n",
       "      <td>0.90108</td>\n",
       "      <td>0.000000</td>\n",
       "      <td>5.9882</td>\n",
       "      <td>4.1103</td>\n",
       "      <td>102.190</td>\n",
       "      <td>3.5716</td>\n",
       "      <td>5.9500</td>\n",
       "      <td>b'0'</td>\n",
       "    </tr>\n",
       "    <tr>\n",
       "      <th>2</th>\n",
       "      <td>0.000595</td>\n",
       "      <td>0.22612</td>\n",
       "      <td>0.48839</td>\n",
       "      <td>3.1599</td>\n",
       "      <td>84.8740</td>\n",
       "      <td>0.19114</td>\n",
       "      <td>0.004572</td>\n",
       "      <td>2.9881</td>\n",
       "      <td>1.0077</td>\n",
       "      <td>0.67566</td>\n",
       "      <td>...</td>\n",
       "      <td>0.007639</td>\n",
       "      <td>0.000881</td>\n",
       "      <td>0.99236</td>\n",
       "      <td>0.000000</td>\n",
       "      <td>6.7742</td>\n",
       "      <td>3.7922</td>\n",
       "      <td>64.846</td>\n",
       "      <td>5.6287</td>\n",
       "      <td>4.4581</td>\n",
       "      <td>b'0'</td>\n",
       "    </tr>\n",
       "  </tbody>\n",
       "</table>\n",
       "<p>3 rows × 65 columns</p>\n",
       "</div>"
      ],
      "text/plain": [
       "      Attr1    Attr2    Attr3   Attr4    Attr5    Attr6     Attr7   Attr8  \\\n",
       "0  0.174190  0.41299  0.14371  1.3480 -28.9820  0.60383  0.219460  1.1225   \n",
       "1  0.146240  0.46038  0.28230  1.6294   2.5952  0.00000  0.171850  1.1721   \n",
       "2  0.000595  0.22612  0.48839  3.1599  84.8740  0.19114  0.004572  2.9881   \n",
       "\n",
       "    Attr9   Attr10  ...    Attr56    Attr57   Attr58    Attr59  Attr60  \\\n",
       "0  1.1961  0.46359  ...  0.163960  0.375740  0.83604  0.000007  9.7145   \n",
       "1  1.6018  0.53962  ...  0.027516  0.271000  0.90108  0.000000  5.9882   \n",
       "2  1.0077  0.67566  ...  0.007639  0.000881  0.99236  0.000000  6.7742   \n",
       "\n",
       "   Attr61   Attr62  Attr63  Attr64  bankrupt  \n",
       "0  6.2813   84.291  4.3303  4.0341      b'0'  \n",
       "1  4.1103  102.190  3.5716  5.9500      b'0'  \n",
       "2  3.7922   64.846  5.6287  4.4581      b'0'  \n",
       "\n",
       "[3 rows x 65 columns]"
      ]
     },
     "execution_count": 123,
     "metadata": {},
     "output_type": "execute_result"
    }
   ],
   "source": [
    "df.head(3)"
   ]
  },
  {
   "cell_type": "code",
   "execution_count": 124,
   "id": "e0f460c0",
   "metadata": {
    "scrolled": true
   },
   "outputs": [
    {
     "data": {
      "text/html": [
       "<div>\n",
       "<style scoped>\n",
       "    .dataframe tbody tr th:only-of-type {\n",
       "        vertical-align: middle;\n",
       "    }\n",
       "\n",
       "    .dataframe tbody tr th {\n",
       "        vertical-align: top;\n",
       "    }\n",
       "\n",
       "    .dataframe thead th {\n",
       "        text-align: right;\n",
       "    }\n",
       "</style>\n",
       "<table border=\"1\" class=\"dataframe\">\n",
       "  <thead>\n",
       "    <tr style=\"text-align: right;\">\n",
       "      <th></th>\n",
       "      <th>Attr1</th>\n",
       "      <th>Attr2</th>\n",
       "      <th>Attr3</th>\n",
       "      <th>Attr4</th>\n",
       "      <th>Attr5</th>\n",
       "      <th>Attr6</th>\n",
       "      <th>Attr7</th>\n",
       "      <th>Attr8</th>\n",
       "      <th>Attr9</th>\n",
       "      <th>Attr10</th>\n",
       "      <th>...</th>\n",
       "      <th>Attr56</th>\n",
       "      <th>Attr57</th>\n",
       "      <th>Attr58</th>\n",
       "      <th>Attr59</th>\n",
       "      <th>Attr60</th>\n",
       "      <th>Attr61</th>\n",
       "      <th>Attr62</th>\n",
       "      <th>Attr63</th>\n",
       "      <th>Attr64</th>\n",
       "      <th>bankrupt</th>\n",
       "    </tr>\n",
       "    <tr>\n",
       "      <th>company_id</th>\n",
       "      <th></th>\n",
       "      <th></th>\n",
       "      <th></th>\n",
       "      <th></th>\n",
       "      <th></th>\n",
       "      <th></th>\n",
       "      <th></th>\n",
       "      <th></th>\n",
       "      <th></th>\n",
       "      <th></th>\n",
       "      <th></th>\n",
       "      <th></th>\n",
       "      <th></th>\n",
       "      <th></th>\n",
       "      <th></th>\n",
       "      <th></th>\n",
       "      <th></th>\n",
       "      <th></th>\n",
       "      <th></th>\n",
       "      <th></th>\n",
       "      <th></th>\n",
       "    </tr>\n",
       "  </thead>\n",
       "  <tbody>\n",
       "    <tr>\n",
       "      <th>0</th>\n",
       "      <td>0.17419</td>\n",
       "      <td>0.41299</td>\n",
       "      <td>0.14371</td>\n",
       "      <td>1.3480</td>\n",
       "      <td>-28.9820</td>\n",
       "      <td>0.60383</td>\n",
       "      <td>0.21946</td>\n",
       "      <td>1.1225</td>\n",
       "      <td>1.1961</td>\n",
       "      <td>0.46359</td>\n",
       "      <td>...</td>\n",
       "      <td>0.163960</td>\n",
       "      <td>0.37574</td>\n",
       "      <td>0.83604</td>\n",
       "      <td>0.000007</td>\n",
       "      <td>9.7145</td>\n",
       "      <td>6.2813</td>\n",
       "      <td>84.291</td>\n",
       "      <td>4.3303</td>\n",
       "      <td>4.0341</td>\n",
       "      <td>b'0'</td>\n",
       "    </tr>\n",
       "    <tr>\n",
       "      <th>1</th>\n",
       "      <td>0.14624</td>\n",
       "      <td>0.46038</td>\n",
       "      <td>0.28230</td>\n",
       "      <td>1.6294</td>\n",
       "      <td>2.5952</td>\n",
       "      <td>0.00000</td>\n",
       "      <td>0.17185</td>\n",
       "      <td>1.1721</td>\n",
       "      <td>1.6018</td>\n",
       "      <td>0.53962</td>\n",
       "      <td>...</td>\n",
       "      <td>0.027516</td>\n",
       "      <td>0.27100</td>\n",
       "      <td>0.90108</td>\n",
       "      <td>0.000000</td>\n",
       "      <td>5.9882</td>\n",
       "      <td>4.1103</td>\n",
       "      <td>102.190</td>\n",
       "      <td>3.5716</td>\n",
       "      <td>5.9500</td>\n",
       "      <td>b'0'</td>\n",
       "    </tr>\n",
       "  </tbody>\n",
       "</table>\n",
       "<p>2 rows × 65 columns</p>\n",
       "</div>"
      ],
      "text/plain": [
       "              Attr1    Attr2    Attr3   Attr4    Attr5    Attr6    Attr7  \\\n",
       "company_id                                                                 \n",
       "0           0.17419  0.41299  0.14371  1.3480 -28.9820  0.60383  0.21946   \n",
       "1           0.14624  0.46038  0.28230  1.6294   2.5952  0.00000  0.17185   \n",
       "\n",
       "             Attr8   Attr9   Attr10  ...    Attr56   Attr57   Attr58  \\\n",
       "company_id                           ...                               \n",
       "0           1.1225  1.1961  0.46359  ...  0.163960  0.37574  0.83604   \n",
       "1           1.1721  1.6018  0.53962  ...  0.027516  0.27100  0.90108   \n",
       "\n",
       "              Attr59  Attr60  Attr61   Attr62  Attr63  Attr64  bankrupt  \n",
       "company_id                                                               \n",
       "0           0.000007  9.7145  6.2813   84.291  4.3303  4.0341      b'0'  \n",
       "1           0.000000  5.9882  4.1103  102.190  3.5716  5.9500      b'0'  \n",
       "\n",
       "[2 rows x 65 columns]"
      ]
     },
     "execution_count": 124,
     "metadata": {},
     "output_type": "execute_result"
    }
   ],
   "source": [
    "# setting the index name as company_id \n",
    "df.index.name = \"company_id\"\n",
    "df.head(2)"
   ]
  },
  {
   "cell_type": "code",
   "execution_count": 125,
   "id": "b39d0e76",
   "metadata": {},
   "outputs": [
    {
     "data": {
      "text/plain": [
       "b'0'    10008\n",
       "b'1'      495\n",
       "Name: bankrupt, dtype: int64"
      ]
     },
     "execution_count": 125,
     "metadata": {},
     "output_type": "execute_result"
    }
   ],
   "source": [
    "df[\"bankrupt\"].value_counts()"
   ]
  },
  {
   "cell_type": "code",
   "execution_count": 126,
   "id": "0b1c432e",
   "metadata": {},
   "outputs": [
    {
     "data": {
      "text/plain": [
       "<AxesSubplot:title={'center':'data_balance'}, xlabel='class', ylabel='frequency'>"
      ]
     },
     "execution_count": 126,
     "metadata": {},
     "output_type": "execute_result"
    },
    {
     "data": {
      "image/png": "[encoded data removed]",
      "text/plain": [
       "<Figure size 640x480 with 1 Axes>"
      ]
     },
     "metadata": {},
     "output_type": "display_data"
    }
   ],
   "source": [
    "#visualizing the data class imbalance\n",
    "(df[\"bankrupt\"].value_counts(normalize=True)\n",
    " .plot(kind=\"bar\",xlabel=\"class\",ylabel=\"frequency\",title=\"data_balance\"))"
   ]
  },
  {
   "cell_type": "code",
   "execution_count": 127,
   "id": "bacccc00",
   "metadata": {},
   "outputs": [],
   "source": [
    "# encoding the labels to [0] and [1]\n",
    "from sklearn.preprocessing import LabelEncoder\n",
    "le = LabelEncoder()\n",
    "df[\"bankrupt\"] = le.fit_transform(df.bankrupt)"
   ]
  },
  {
   "cell_type": "code",
   "execution_count": 128,
   "id": "bef1b8e5",
   "metadata": {
    "scrolled": true
   },
   "outputs": [
    {
     "data": {
      "text/html": [
       "<div>\n",
       "<style scoped>\n",
       "    .dataframe tbody tr th:only-of-type {\n",
       "        vertical-align: middle;\n",
       "    }\n",
       "\n",
       "    .dataframe tbody tr th {\n",
       "        vertical-align: top;\n",
       "    }\n",
       "\n",
       "    .dataframe thead th {\n",
       "        text-align: right;\n",
       "    }\n",
       "</style>\n",
       "<table border=\"1\" class=\"dataframe\">\n",
       "  <thead>\n",
       "    <tr style=\"text-align: right;\">\n",
       "      <th></th>\n",
       "      <th>Attr1</th>\n",
       "      <th>Attr2</th>\n",
       "      <th>Attr3</th>\n",
       "      <th>Attr4</th>\n",
       "      <th>Attr5</th>\n",
       "      <th>Attr6</th>\n",
       "      <th>Attr7</th>\n",
       "      <th>Attr8</th>\n",
       "      <th>Attr9</th>\n",
       "      <th>Attr10</th>\n",
       "      <th>...</th>\n",
       "      <th>Attr56</th>\n",
       "      <th>Attr57</th>\n",
       "      <th>Attr58</th>\n",
       "      <th>Attr59</th>\n",
       "      <th>Attr60</th>\n",
       "      <th>Attr61</th>\n",
       "      <th>Attr62</th>\n",
       "      <th>Attr63</th>\n",
       "      <th>Attr64</th>\n",
       "      <th>bankrupt</th>\n",
       "    </tr>\n",
       "    <tr>\n",
       "      <th>company_id</th>\n",
       "      <th></th>\n",
       "      <th></th>\n",
       "      <th></th>\n",
       "      <th></th>\n",
       "      <th></th>\n",
       "      <th></th>\n",
       "      <th></th>\n",
       "      <th></th>\n",
       "      <th></th>\n",
       "      <th></th>\n",
       "      <th></th>\n",
       "      <th></th>\n",
       "      <th></th>\n",
       "      <th></th>\n",
       "      <th></th>\n",
       "      <th></th>\n",
       "      <th></th>\n",
       "      <th></th>\n",
       "      <th></th>\n",
       "      <th></th>\n",
       "      <th></th>\n",
       "    </tr>\n",
       "  </thead>\n",
       "  <tbody>\n",
       "    <tr>\n",
       "      <th>0</th>\n",
       "      <td>0.17419</td>\n",
       "      <td>0.41299</td>\n",
       "      <td>0.14371</td>\n",
       "      <td>1.3480</td>\n",
       "      <td>-28.9820</td>\n",
       "      <td>0.60383</td>\n",
       "      <td>0.21946</td>\n",
       "      <td>1.1225</td>\n",
       "      <td>1.1961</td>\n",
       "      <td>0.46359</td>\n",
       "      <td>...</td>\n",
       "      <td>0.163960</td>\n",
       "      <td>0.37574</td>\n",
       "      <td>0.83604</td>\n",
       "      <td>0.000007</td>\n",
       "      <td>9.7145</td>\n",
       "      <td>6.2813</td>\n",
       "      <td>84.291</td>\n",
       "      <td>4.3303</td>\n",
       "      <td>4.0341</td>\n",
       "      <td>0</td>\n",
       "    </tr>\n",
       "    <tr>\n",
       "      <th>1</th>\n",
       "      <td>0.14624</td>\n",
       "      <td>0.46038</td>\n",
       "      <td>0.28230</td>\n",
       "      <td>1.6294</td>\n",
       "      <td>2.5952</td>\n",
       "      <td>0.00000</td>\n",
       "      <td>0.17185</td>\n",
       "      <td>1.1721</td>\n",
       "      <td>1.6018</td>\n",
       "      <td>0.53962</td>\n",
       "      <td>...</td>\n",
       "      <td>0.027516</td>\n",
       "      <td>0.27100</td>\n",
       "      <td>0.90108</td>\n",
       "      <td>0.000000</td>\n",
       "      <td>5.9882</td>\n",
       "      <td>4.1103</td>\n",
       "      <td>102.190</td>\n",
       "      <td>3.5716</td>\n",
       "      <td>5.9500</td>\n",
       "      <td>0</td>\n",
       "    </tr>\n",
       "  </tbody>\n",
       "</table>\n",
       "<p>2 rows × 65 columns</p>\n",
       "</div>"
      ],
      "text/plain": [
       "              Attr1    Attr2    Attr3   Attr4    Attr5    Attr6    Attr7  \\\n",
       "company_id                                                                 \n",
       "0           0.17419  0.41299  0.14371  1.3480 -28.9820  0.60383  0.21946   \n",
       "1           0.14624  0.46038  0.28230  1.6294   2.5952  0.00000  0.17185   \n",
       "\n",
       "             Attr8   Attr9   Attr10  ...    Attr56   Attr57   Attr58  \\\n",
       "company_id                           ...                               \n",
       "0           1.1225  1.1961  0.46359  ...  0.163960  0.37574  0.83604   \n",
       "1           1.1721  1.6018  0.53962  ...  0.027516  0.27100  0.90108   \n",
       "\n",
       "              Attr59  Attr60  Attr61   Attr62  Attr63  Attr64  bankrupt  \n",
       "company_id                                                               \n",
       "0           0.000007  9.7145  6.2813   84.291  4.3303  4.0341         0  \n",
       "1           0.000000  5.9882  4.1103  102.190  3.5716  5.9500         0  \n",
       "\n",
       "[2 rows x 65 columns]"
      ]
     },
     "execution_count": 128,
     "metadata": {},
     "output_type": "execute_result"
    }
   ],
   "source": [
    "df.head(2)\n",
    "#noticing that (0) means (not_bankrupted) , and (1) means (bankrupted)"
   ]
  },
  {
   "cell_type": "markdown",
   "id": "261ee82d",
   "metadata": {},
   "source": [
    "## checking corrolated features and deleting it "
   ]
  },
  {
   "cell_type": "code",
   "execution_count": 129,
   "id": "7dcbe243",
   "metadata": {},
   "outputs": [
    {
     "name": "stdout",
     "output_type": "stream",
     "text": [
      "['Attr3', 'Attr7', 'Attr10', 'Attr11', 'Attr14', 'Attr17', 'Attr23', 'Attr25', 'Attr26', 'Attr38', 'Attr46', 'Attr49', 'Attr50', 'Attr51', 'Attr52', 'Attr54', 'Attr58', 'Attr62']\n"
     ]
    }
   ],
   "source": [
    "#find the corrolated features (corrolation more than .98)\n",
    "corr_matrix=df.corr().abs()\n",
    "upper_tri = corr_matrix.where(np.triu(np.ones(corr_matrix.shape),k=1).astype(bool))\n",
    "to_drop = [column for column in upper_tri.columns if any(upper_tri[column] > 0.99)]\n",
    "print(to_drop)"
   ]
  },
  {
   "cell_type": "code",
   "execution_count": 130,
   "id": "89656569",
   "metadata": {},
   "outputs": [],
   "source": [
    "# another function to find the corrolation (this is for my reference )\n",
    "def correlation(dataset, threshold):\n",
    "    col_corr = list() # Set of all the names of deleted columns\n",
    "    corr_matrix = dataset.corr()\n",
    "    for i in range(len(corr_matrix.columns)):\n",
    "        for j in range(i):\n",
    "            if (corr_matrix.iloc[i, j] >= threshold) and (corr_matrix.columns[j] not in col_corr):\n",
    "                colname = corr_matrix.columns[i] # getting the name of column\n",
    "                col_corr.append(colname)\n",
    "    return col_corr   \n",
    "col_corr=correlation(df,.99)"
   ]
  },
  {
   "cell_type": "code",
   "execution_count": 131,
   "id": "c9217549",
   "metadata": {},
   "outputs": [
    {
     "data": {
      "text/plain": [
       "['Attr7',\n",
       " 'Attr10',\n",
       " 'Attr14',\n",
       " 'Attr14',\n",
       " 'Attr17',\n",
       " 'Attr23',\n",
       " 'Attr25',\n",
       " 'Attr26',\n",
       " 'Attr38',\n",
       " 'Attr46',\n",
       " 'Attr49',\n",
       " 'Attr50',\n",
       " 'Attr51',\n",
       " 'Attr52',\n",
       " 'Attr54',\n",
       " 'Attr62']"
      ]
     },
     "execution_count": 131,
     "metadata": {},
     "output_type": "execute_result"
    }
   ],
   "source": [
    "col_corr"
   ]
  },
  {
   "cell_type": "code",
   "execution_count": 132,
   "id": "b0245218",
   "metadata": {},
   "outputs": [
    {
     "data": {
      "text/plain": [
       "(10503, 50)"
      ]
     },
     "execution_count": 132,
     "metadata": {},
     "output_type": "execute_result"
    }
   ],
   "source": [
    "df = df.drop(columns=col_corr)\n",
    "df.shape"
   ]
  },
  {
   "cell_type": "markdown",
   "id": "b11ebc61",
   "metadata": {},
   "source": [
    "## checking features normality and removing outliers "
   ]
  },
  {
   "cell_type": "code",
   "execution_count": 133,
   "id": "dd2be707",
   "metadata": {},
   "outputs": [
    {
     "data": {
      "image/png": "[encoded data removed]",
      "text/plain": [
       "<Figure size 1500x500 with 1 Axes>"
      ]
     },
     "metadata": {},
     "output_type": "display_data"
    },
    {
     "data": {
      "image/png": "[encoded data removed]",
      "text/plain": [
       "<Figure size 1500x500 with 1 Axes>"
      ]
     },
     "metadata": {},
     "output_type": "display_data"
    },
    {
     "data": {
      "image/png": "[encoded data removed]",
      "text/plain": [
       "<Figure size 1500x500 with 1 Axes>"
      ]
     },
     "metadata": {},
     "output_type": "display_data"
    }
   ],
   "source": [
    "# Create boxplot for all data \n",
    " \n",
    "j=0    \n",
    "while j<=len(df.columns):\n",
    "    features_group=list(df.columns[j:j+20])\n",
    "    j+=20\n",
    "    plt.figure(figsize=(15,5))\n",
    "    sns.boxplot(data=df[features_group])\n",
    "    plt.xlabel(\"10_features\")\n",
    "    plt.ylabel(\"features_values\")\n",
    "    plt.title(\"all_boxplots\")\n",
    "    plt.show();"
   ]
  },
  {
   "cell_type": "markdown",
   "id": "d293b9b3",
   "metadata": {},
   "source": [
    "boxblots shows that there is many features with many outliers (this observation needs more invistigation )"
   ]
  },
  {
   "cell_type": "code",
   "execution_count": 134,
   "id": "e82ba910",
   "metadata": {},
   "outputs": [],
   "source": [
    "df_std=df.describe().T[\"std\"].sort_values()"
   ]
  },
  {
   "cell_type": "code",
   "execution_count": 135,
   "id": "d5dfbcc9",
   "metadata": {},
   "outputs": [
    {
     "data": {
      "text/plain": [
       "Attr42        10.787555\n",
       "Attr31        11.157003\n",
       "Attr19        11.210201\n",
       "Attr57        18.684047\n",
       "Attr63        31.419096\n",
       "Attr33        37.696764\n",
       "Attr40        37.819839\n",
       "Attr13        49.675550\n",
       "Attr56        55.978608\n",
       "Attr34        69.035263\n",
       "Attr30        71.755042\n",
       "Attr59        77.273270\n",
       "Attr61        83.704103\n",
       "Attr53        89.708042\n",
       "Attr28        94.713753\n",
       "Attr16       110.233475\n",
       "Attr12       111.459642\n",
       "Attr58       190.201224\n",
       "Attr21       305.897238\n",
       "Attr64       428.298315\n",
       "Attr4        523.691951\n",
       "Attr8        717.756745\n",
       "Attr20      1083.699904\n",
       "Attr45      1720.342176\n",
       "Attr37      2469.447679\n",
       "Attr44      2766.505503\n",
       "Attr41      2845.290346\n",
       "Attr43      3303.309554\n",
       "Attr47     31264.160236\n",
       "Attr27     34691.229230\n",
       "Attr60     37159.672255\n",
       "Attr55     59891.957972\n",
       "Attr32     68412.702913\n",
       "Attr15    109198.119626\n",
       "Attr5     118580.569222\n",
       "Name: std, dtype: float64"
      ]
     },
     "execution_count": 135,
     "metadata": {},
     "output_type": "execute_result"
    }
   ],
   "source": [
    "unusual_std=df_std[df_std>10]\n",
    "unusual_std"
   ]
  },
  {
   "cell_type": "markdown",
   "id": "9a2403be",
   "metadata": {},
   "source": [
    "#### as shown in the previous boxplots ,many features has unusual standard variation , which may indicate outliers in the data \n"
   ]
  },
  {
   "cell_type": "markdown",
   "id": "3b162805",
   "metadata": {},
   "source": [
    "## deleting outliers "
   ]
  },
  {
   "cell_type": "code",
   "execution_count": 137,
   "id": "13effbb1",
   "metadata": {},
   "outputs": [],
   "source": [
    "def find_outliers_IQR(df):\n",
    "\n",
    "    q1=df.quantile(0.1)\n",
    "\n",
    "    q3=df.quantile(0.9)\n",
    "\n",
    "    IQR=q3-q1\n",
    "\n",
    "    outliers = df[((df<(q1-1.5*IQR)) | (df>(q3+1.5*IQR)))]\n",
    "\n",
    "    return outliers"
   ]
  },
  {
   "cell_type": "code",
   "execution_count": 138,
   "id": "aa1bc759",
   "metadata": {},
   "outputs": [
    {
     "name": "stdout",
     "output_type": "stream",
     "text": [
      "(10321, 50)\n",
      "(10249, 50)\n",
      "(10244, 50)\n",
      "(9939, 50)\n",
      "(9311, 50)\n",
      "(9148, 50)\n",
      "(8983, 50)\n",
      "(8881, 50)\n",
      "(8861, 50)\n",
      "(8684, 50)\n",
      "(8512, 50)\n",
      "(8073, 50)\n",
      "(8015, 50)\n",
      "(8010, 50)\n",
      "(7965, 50)\n",
      "(7910, 50)\n",
      "(7837, 50)\n",
      "(7817, 50)\n",
      "(7788, 50)\n",
      "(7245, 50)\n",
      "(6918, 50)\n",
      "(6918, 50)\n",
      "(6854, 50)\n",
      "(6828, 50)\n",
      "(6778, 50)\n",
      "(6714, 50)\n",
      "(6671, 50)\n",
      "(6658, 50)\n",
      "(6645, 50)\n",
      "(6397, 50)\n",
      "(6358, 50)\n",
      "(6206, 50)\n",
      "(5832, 50)\n",
      "(5796, 50)\n",
      "(5781, 50)\n",
      "(5756, 50)\n",
      "(5506, 50)\n",
      "(5484, 50)\n",
      "(5466, 50)\n",
      "(5348, 50)\n",
      "(5086, 50)\n",
      "(5049, 50)\n",
      "(4869, 50)\n",
      "(4850, 50)\n",
      "(4707, 50)\n",
      "(4605, 50)\n",
      "(4495, 50)\n",
      "(4489, 50)\n",
      "(4388, 50)\n"
     ]
    }
   ],
   "source": [
    "for i in df.columns.to_list()[:-1]:\n",
    "    \n",
    "    index = find_outliers_IQR(df[i]).index\n",
    "    df.drop(index,axis=0,inplace=True)\n",
    "    print(df.shape)"
   ]
  },
  {
   "cell_type": "code",
   "execution_count": 139,
   "id": "c0012811",
   "metadata": {
    "scrolled": true
   },
   "outputs": [
    {
     "data": {
      "text/plain": [
       "Attr60      11.104553\n",
       "Attr37      16.507726\n",
       "Attr44      32.749002\n",
       "Attr20      38.086146\n",
       "Attr47      41.422172\n",
       "Attr43      50.929354\n",
       "Attr32      55.953987\n",
       "Attr5       82.566080\n",
       "Attr15    2388.202101\n",
       "Attr55    8061.382271\n",
       "Name: std, dtype: float64"
      ]
     },
     "execution_count": 139,
     "metadata": {},
     "output_type": "execute_result"
    }
   ],
   "source": [
    "df_std=df.describe().T[\"std\"].sort_values()\n",
    "unusual_std=df_std[df_std>10]\n",
    "unusual_std"
   ]
  },
  {
   "cell_type": "code",
   "execution_count": 146,
   "id": "94985c67",
   "metadata": {},
   "outputs": [
    {
     "data": {
      "text/plain": [
       "1"
      ]
     },
     "execution_count": 146,
     "metadata": {},
     "output_type": "execute_result"
    }
   ],
   "source": [
    "#checking the corrolation between the features and the target \n",
    "sum(pd.DataFrame(df.corr())[\"bankrupt\"].abs().sort_values()>.7)"
   ]
  },
  {
   "cell_type": "markdown",
   "id": "9eb47217",
   "metadata": {},
   "source": [
    "there is no corrolation between any feature and the target "
   ]
  },
  {
   "cell_type": "markdown",
   "id": "369c6087",
   "metadata": {},
   "source": [
    "## Split the data "
   ]
  },
  {
   "cell_type": "code",
   "execution_count": 27,
   "id": "ac8d0b5f",
   "metadata": {},
   "outputs": [],
   "source": [
    "target = \"bankrupt\"\n",
    "X = df.drop(columns=target)\n",
    "y = df[target]"
   ]
  },
  {
   "cell_type": "code",
   "execution_count": 28,
   "id": "7fac7261",
   "metadata": {},
   "outputs": [],
   "source": [
    "X_train, X_test, y_train, y_test = train_test_split(X,y,test_size=.2,random_state=42)"
   ]
  },
  {
   "cell_type": "markdown",
   "id": "342fe2b3",
   "metadata": {},
   "source": [
    "## oversampling"
   ]
  },
  {
   "cell_type": "code",
   "execution_count": 147,
   "id": "b9adeaa0",
   "metadata": {},
   "outputs": [
    {
     "data": {
      "text/plain": [
       "0    4222\n",
       "1     166\n",
       "Name: bankrupt, dtype: int64"
      ]
     },
     "execution_count": 147,
     "metadata": {},
     "output_type": "execute_result"
    }
   ],
   "source": [
    "#checking again for data balance \n",
    "df[\"bankrupt\"].value_counts()\n"
   ]
  },
  {
   "cell_type": "code",
   "execution_count": 30,
   "id": "d1d1a5db",
   "metadata": {},
   "outputs": [
    {
     "name": "stdout",
     "output_type": "stream",
     "text": [
      "(6748, 49)\n"
     ]
    },
    {
     "data": {
      "text/html": [
       "<div>\n",
       "<style scoped>\n",
       "    .dataframe tbody tr th:only-of-type {\n",
       "        vertical-align: middle;\n",
       "    }\n",
       "\n",
       "    .dataframe tbody tr th {\n",
       "        vertical-align: top;\n",
       "    }\n",
       "\n",
       "    .dataframe thead th {\n",
       "        text-align: right;\n",
       "    }\n",
       "</style>\n",
       "<table border=\"1\" class=\"dataframe\">\n",
       "  <thead>\n",
       "    <tr style=\"text-align: right;\">\n",
       "      <th></th>\n",
       "      <th>Attr1</th>\n",
       "      <th>Attr2</th>\n",
       "      <th>Attr3</th>\n",
       "      <th>Attr4</th>\n",
       "      <th>Attr5</th>\n",
       "      <th>Attr6</th>\n",
       "      <th>Attr8</th>\n",
       "      <th>Attr9</th>\n",
       "      <th>Attr11</th>\n",
       "      <th>Attr12</th>\n",
       "      <th>...</th>\n",
       "      <th>Attr53</th>\n",
       "      <th>Attr55</th>\n",
       "      <th>Attr56</th>\n",
       "      <th>Attr57</th>\n",
       "      <th>Attr58</th>\n",
       "      <th>Attr59</th>\n",
       "      <th>Attr60</th>\n",
       "      <th>Attr61</th>\n",
       "      <th>Attr63</th>\n",
       "      <th>Attr64</th>\n",
       "    </tr>\n",
       "  </thead>\n",
       "  <tbody>\n",
       "    <tr>\n",
       "      <th>0</th>\n",
       "      <td>0.003840</td>\n",
       "      <td>0.62783</td>\n",
       "      <td>0.113260</td>\n",
       "      <td>1.19970</td>\n",
       "      <td>-74.437</td>\n",
       "      <td>0.003840</td>\n",
       "      <td>0.58625</td>\n",
       "      <td>0.95419</td>\n",
       "      <td>0.008917</td>\n",
       "      <td>0.015724</td>\n",
       "      <td>...</td>\n",
       "      <td>1.15160</td>\n",
       "      <td>5983.0</td>\n",
       "      <td>-0.048013</td>\n",
       "      <td>0.010434</td>\n",
       "      <td>1.04800</td>\n",
       "      <td>0.16494</td>\n",
       "      <td>3.2544</td>\n",
       "      <td>3.2163</td>\n",
       "      <td>1.9175</td>\n",
       "      <td>3.4024</td>\n",
       "    </tr>\n",
       "    <tr>\n",
       "      <th>1</th>\n",
       "      <td>0.125370</td>\n",
       "      <td>0.41680</td>\n",
       "      <td>0.378550</td>\n",
       "      <td>2.13400</td>\n",
       "      <td>36.880</td>\n",
       "      <td>0.331850</td>\n",
       "      <td>1.39210</td>\n",
       "      <td>1.09200</td>\n",
       "      <td>0.158050</td>\n",
       "      <td>0.473460</td>\n",
       "      <td>...</td>\n",
       "      <td>2.01740</td>\n",
       "      <td>15551.0</td>\n",
       "      <td>0.084267</td>\n",
       "      <td>0.216070</td>\n",
       "      <td>0.91573</td>\n",
       "      <td>0.14299</td>\n",
       "      <td>9.8809</td>\n",
       "      <td>5.2547</td>\n",
       "      <td>5.8314</td>\n",
       "      <td>6.7683</td>\n",
       "    </tr>\n",
       "    <tr>\n",
       "      <th>2</th>\n",
       "      <td>0.128570</td>\n",
       "      <td>0.45265</td>\n",
       "      <td>0.157800</td>\n",
       "      <td>1.60700</td>\n",
       "      <td>43.529</td>\n",
       "      <td>0.339030</td>\n",
       "      <td>1.20060</td>\n",
       "      <td>1.15800</td>\n",
       "      <td>0.128610</td>\n",
       "      <td>0.494740</td>\n",
       "      <td>...</td>\n",
       "      <td>0.93337</td>\n",
       "      <td>3301.8</td>\n",
       "      <td>0.136470</td>\n",
       "      <td>0.236590</td>\n",
       "      <td>0.86353</td>\n",
       "      <td>0.35457</td>\n",
       "      <td>19.5390</td>\n",
       "      <td>2.9232</td>\n",
       "      <td>3.9779</td>\n",
       "      <td>1.7761</td>\n",
       "    </tr>\n",
       "    <tr>\n",
       "      <th>3</th>\n",
       "      <td>0.021756</td>\n",
       "      <td>0.83567</td>\n",
       "      <td>-0.017917</td>\n",
       "      <td>0.97856</td>\n",
       "      <td>-37.174</td>\n",
       "      <td>0.021756</td>\n",
       "      <td>0.18960</td>\n",
       "      <td>1.00820</td>\n",
       "      <td>0.025842</td>\n",
       "      <td>0.030923</td>\n",
       "      <td>...</td>\n",
       "      <td>0.87004</td>\n",
       "      <td>-134.0</td>\n",
       "      <td>0.008175</td>\n",
       "      <td>0.137310</td>\n",
       "      <td>0.99183</td>\n",
       "      <td>0.00000</td>\n",
       "      <td>10.4000</td>\n",
       "      <td>7.2420</td>\n",
       "      <td>3.7971</td>\n",
       "      <td>17.4240</td>\n",
       "    </tr>\n",
       "    <tr>\n",
       "      <th>4</th>\n",
       "      <td>0.313660</td>\n",
       "      <td>0.35685</td>\n",
       "      <td>0.291040</td>\n",
       "      <td>2.18010</td>\n",
       "      <td>41.610</td>\n",
       "      <td>0.630640</td>\n",
       "      <td>1.80230</td>\n",
       "      <td>1.33220</td>\n",
       "      <td>0.315490</td>\n",
       "      <td>1.279200</td>\n",
       "      <td>...</td>\n",
       "      <td>1.39110</td>\n",
       "      <td>23404.0</td>\n",
       "      <td>0.249350</td>\n",
       "      <td>0.487690</td>\n",
       "      <td>0.75065</td>\n",
       "      <td>0.17138</td>\n",
       "      <td>14.9220</td>\n",
       "      <td>6.7067</td>\n",
       "      <td>7.7155</td>\n",
       "      <td>4.1159</td>\n",
       "    </tr>\n",
       "  </tbody>\n",
       "</table>\n",
       "<p>5 rows × 49 columns</p>\n",
       "</div>"
      ],
      "text/plain": [
       "      Attr1    Attr2     Attr3    Attr4   Attr5     Attr6    Attr8    Attr9  \\\n",
       "0  0.003840  0.62783  0.113260  1.19970 -74.437  0.003840  0.58625  0.95419   \n",
       "1  0.125370  0.41680  0.378550  2.13400  36.880  0.331850  1.39210  1.09200   \n",
       "2  0.128570  0.45265  0.157800  1.60700  43.529  0.339030  1.20060  1.15800   \n",
       "3  0.021756  0.83567 -0.017917  0.97856 -37.174  0.021756  0.18960  1.00820   \n",
       "4  0.313660  0.35685  0.291040  2.18010  41.610  0.630640  1.80230  1.33220   \n",
       "\n",
       "     Attr11    Attr12  ...   Attr53   Attr55    Attr56    Attr57   Attr58  \\\n",
       "0  0.008917  0.015724  ...  1.15160   5983.0 -0.048013  0.010434  1.04800   \n",
       "1  0.158050  0.473460  ...  2.01740  15551.0  0.084267  0.216070  0.91573   \n",
       "2  0.128610  0.494740  ...  0.93337   3301.8  0.136470  0.236590  0.86353   \n",
       "3  0.025842  0.030923  ...  0.87004   -134.0  0.008175  0.137310  0.99183   \n",
       "4  0.315490  1.279200  ...  1.39110  23404.0  0.249350  0.487690  0.75065   \n",
       "\n",
       "    Attr59   Attr60  Attr61  Attr63   Attr64  \n",
       "0  0.16494   3.2544  3.2163  1.9175   3.4024  \n",
       "1  0.14299   9.8809  5.2547  5.8314   6.7683  \n",
       "2  0.35457  19.5390  2.9232  3.9779   1.7761  \n",
       "3  0.00000  10.4000  7.2420  3.7971  17.4240  \n",
       "4  0.17138  14.9220  6.7067  7.7155   4.1159  \n",
       "\n",
       "[5 rows x 49 columns]"
      ]
     },
     "execution_count": 30,
     "metadata": {},
     "output_type": "execute_result"
    }
   ],
   "source": [
    "over_sampler = RandomOverSampler(random_state=42)\n",
    "X_train_over, y_train_over = over_sampler.fit_resample(X_train,y_train)\n",
    "print(X_train_over.shape)\n",
    "X_train_over.head()"
   ]
  },
  {
   "cell_type": "code",
   "execution_count": null,
   "id": "783dec83",
   "metadata": {},
   "outputs": [],
   "source": []
  },
  {
   "cell_type": "code",
   "execution_count": 148,
   "id": "67355fd7",
   "metadata": {},
   "outputs": [
    {
     "data": {
      "text/plain": [
       "0.5"
      ]
     },
     "execution_count": 148,
     "metadata": {},
     "output_type": "execute_result"
    }
   ],
   "source": [
    "# deciding a baseline for the result ( this is based on the distribution \n",
    "#of the positive and negatibe labels in the target features)\n",
    "acc_baseline = y_train_over.value_counts(normalize=True).max()\n",
    "acc_baseline"
   ]
  },
  {
   "cell_type": "markdown",
   "id": "d8031e1d",
   "metadata": {},
   "source": [
    "## Decision Tree Model"
   ]
  },
  {
   "cell_type": "markdown",
   "id": "fc57e46e",
   "metadata": {},
   "source": [
    "First model ( Decision Tree , No over_sampling )"
   ]
  },
  {
   "cell_type": "code",
   "execution_count": 32,
   "id": "1a7d3a9e",
   "metadata": {},
   "outputs": [],
   "source": [
    "from sklearn.tree import DecisionTreeClassifier"
   ]
  },
  {
   "cell_type": "code",
   "execution_count": 33,
   "id": "b77343fb",
   "metadata": {},
   "outputs": [
    {
     "data": {
      "text/plain": [
       "Pipeline(steps=[('simpleimputer', SimpleImputer(strategy='median')),\n",
       "                ('standardscaler', StandardScaler()),\n",
       "                ('decisiontreeclassifier',\n",
       "                 DecisionTreeClassifier(random_state=42))])"
      ]
     },
     "execution_count": 33,
     "metadata": {},
     "output_type": "execute_result"
    }
   ],
   "source": [
    "model_reg = make_pipeline(SimpleImputer(strategy=\"median\"),StandardScaler(),DecisionTreeClassifier(random_state=42))\n",
    "model_reg.fit(X_train,y_train)"
   ]
  },
  {
   "cell_type": "markdown",
   "id": "dd53b516",
   "metadata": {},
   "source": [
    "Second model (Decision Tree , and Over_sampling )"
   ]
  },
  {
   "cell_type": "code",
   "execution_count": 34,
   "id": "762c85d4",
   "metadata": {},
   "outputs": [
    {
     "data": {
      "text/plain": [
       "Pipeline(steps=[('simpleimputer', SimpleImputer(strategy='median')),\n",
       "                ('decisiontreeclassifier',\n",
       "                 DecisionTreeClassifier(random_state=42))])"
      ]
     },
     "execution_count": 34,
     "metadata": {},
     "output_type": "execute_result"
    }
   ],
   "source": [
    "DT_model_over = make_pipeline(SimpleImputer(strategy=\"median\"),DecisionTreeClassifier(random_state=42))\n",
    "DT_model_over.fit(X_train_over,y_train_over)"
   ]
  },
  {
   "cell_type": "code",
   "execution_count": 35,
   "id": "51beeca9",
   "metadata": {},
   "outputs": [
    {
     "data": {
      "text/plain": [
       "28"
      ]
     },
     "execution_count": 35,
     "metadata": {},
     "output_type": "execute_result"
    }
   ],
   "source": [
    "depth = DT_model_over.named_steps[\"decisiontreeclassifier\"].get_depth()\n",
    "depth"
   ]
  },
  {
   "cell_type": "code",
   "execution_count": 36,
   "id": "79f21df2",
   "metadata": {},
   "outputs": [
    {
     "name": "stdout",
     "output_type": "stream",
     "text": [
      "Training Accuracy: 1.0\n",
      "Test Accuracy: 0.9544\n",
      "Training Accuracy: 1.0\n",
      "Test Accuracy: 0.967\n"
     ]
    }
   ],
   "source": [
    "for m in [model_reg, DT_model_over]:\n",
    "    acc_train = m.score(X_train,y_train)\n",
    "    acc_test = m.score(X_test,y_test)\n",
    "    print(\"Training Accuracy:\", round(acc_train, 4))\n",
    "    print(\"Test Accuracy:\", round(acc_test, 4))"
   ]
  },
  {
   "cell_type": "markdown",
   "id": "5a8c7d83",
   "metadata": {},
   "source": [
    "#### very good accuracy for both models, but accuracy alone is not enough to judge the model , next I will calculate f1_score , recall , precesion"
   ]
  },
  {
   "cell_type": "code",
   "execution_count": 37,
   "id": "0eddab1e",
   "metadata": {},
   "outputs": [],
   "source": [
    "from sklearn.metrics import classification_report"
   ]
  },
  {
   "cell_type": "code",
   "execution_count": 38,
   "id": "d0bdfa69",
   "metadata": {},
   "outputs": [
    {
     "name": "stdout",
     "output_type": "stream",
     "text": [
      "              precision    recall  f1-score   support\n",
      "\n",
      "           0       0.98      0.98      0.98       848\n",
      "           1       0.52      0.53      0.52        30\n",
      "\n",
      "    accuracy                           0.97       878\n",
      "   macro avg       0.75      0.76      0.75       878\n",
      "weighted avg       0.97      0.97      0.97       878\n",
      "\n"
     ]
    }
   ],
   "source": [
    "print(classification_report(y_test,DT_model_over.predict(X_test)))"
   ]
  },
  {
   "cell_type": "code",
   "execution_count": 39,
   "id": "db8d1451",
   "metadata": {},
   "outputs": [
    {
     "data": {
      "text/plain": [
       "<sklearn.metrics._plot.confusion_matrix.ConfusionMatrixDisplay at 0x1acae9ad100>"
      ]
     },
     "execution_count": 39,
     "metadata": {},
     "output_type": "execute_result"
    },
    {
     "data": {
      "image/png": "[encoded data removed]",
      "text/plain": [
       "<Figure size 640x480 with 2 Axes>"
      ]
     },
     "metadata": {},
     "output_type": "display_data"
    }
   ],
   "source": [
    "ConfusionMatrixDisplay.from_estimator(DT_model_over,X_test,y_test)"
   ]
  },
  {
   "cell_type": "markdown",
   "id": "8b3582ff",
   "metadata": {},
   "source": [
    "although the model accuracy is high , but the recall is not very good  "
   ]
  },
  {
   "cell_type": "markdown",
   "id": "691278cd",
   "metadata": {},
   "source": [
    "Visualizing Decision Tree Results\n"
   ]
  },
  {
   "cell_type": "code",
   "execution_count": 41,
   "id": "88589355",
   "metadata": {},
   "outputs": [],
   "source": [
    "importances = DT_model_over.named_steps[\"decisiontreeclassifier\"].feature_importances_\n",
    "feat_imp = pd.Series(importances,index=X_train_over.columns).sort_values(ascending=True)[-15:]"
   ]
  },
  {
   "cell_type": "code",
   "execution_count": 42,
   "id": "a54b82d9",
   "metadata": {},
   "outputs": [
    {
     "data": {
      "text/plain": [
       "Attr19    0.019746\n",
       "Attr58    0.020095\n",
       "Attr2     0.020905\n",
       "Attr37    0.021405\n",
       "Attr36    0.022150\n",
       "Attr21    0.022563\n",
       "Attr39    0.026057\n",
       "Attr5     0.028291\n",
       "Attr16    0.031618\n",
       "Attr42    0.048423\n",
       "Attr6     0.053572\n",
       "Attr29    0.059447\n",
       "Attr27    0.092224\n",
       "Attr34    0.114850\n",
       "Attr24    0.208915\n",
       "dtype: float64"
      ]
     },
     "execution_count": 42,
     "metadata": {},
     "output_type": "execute_result"
    }
   ],
   "source": [
    "feat_imp"
   ]
  },
  {
   "cell_type": "code",
   "execution_count": 43,
   "id": "808e684d",
   "metadata": {
    "scrolled": true
   },
   "outputs": [
    {
     "data": {
      "image/png": "[encoded data removed]",
      "text/plain": [
       "<Figure size 640x480 with 1 Axes>"
      ]
     },
     "metadata": {},
     "output_type": "display_data"
    }
   ],
   "source": [
    "feat_imp.plot(kind=\"barh\")\n",
    "plt.xlabel(\"Gini Importance\")\n",
    "plt.ylabel(\"Features\")\n",
    "plt.title(\"Decission Tress model_over Feature Importance\");"
   ]
  },
  {
   "cell_type": "code",
   "execution_count": 44,
   "id": "344fc646",
   "metadata": {},
   "outputs": [],
   "source": [
    "import pickle\n",
    "with open (\"model-1.pkl\",\"wb\")as f:\n",
    "    pickle.dump(DT_model_over,f)"
   ]
  },
  {
   "cell_type": "code",
   "execution_count": 45,
   "id": "10709e14",
   "metadata": {},
   "outputs": [],
   "source": [
    "with open(\"model-1.pkl\", \"rb\") as f:\n",
    "    loaded_model = pickle.load(f)"
   ]
  },
  {
   "cell_type": "markdown",
   "id": "a016c818",
   "metadata": {},
   "source": [
    "## Random Forest Model"
   ]
  },
  {
   "cell_type": "code",
   "execution_count": 46,
   "id": "0ddd31f8",
   "metadata": {},
   "outputs": [],
   "source": [
    "from sklearn.ensemble import RandomForestClassifier"
   ]
  },
  {
   "cell_type": "code",
   "execution_count": 47,
   "id": "e1035dd1",
   "metadata": {},
   "outputs": [
    {
     "name": "stdout",
     "output_type": "stream",
     "text": [
      "Pipeline(steps=[('simpleimputer', SimpleImputer()),\n",
      "                ('standardscaler', StandardScaler()),\n",
      "                ('randomforestclassifier',\n",
      "                 RandomForestClassifier(random_state=42))])\n"
     ]
    }
   ],
   "source": [
    "clf = make_pipeline(SimpleImputer(),StandardScaler(),RandomForestClassifier(random_state=42))\n",
    "print(clf)"
   ]
  },
  {
   "cell_type": "markdown",
   "id": "c303fd91",
   "metadata": {},
   "source": [
    "Doing cross_validation to check the possible results of that model "
   ]
  },
  {
   "cell_type": "code",
   "execution_count": 48,
   "id": "1c46ba5c",
   "metadata": {},
   "outputs": [
    {
     "name": "stdout",
     "output_type": "stream",
     "text": [
      "[0.99777778 0.99851852 0.99851852 0.99925871 1.        ]\n"
     ]
    }
   ],
   "source": [
    "cv_acc_scores = cross_val_score(clf,X_train_over,y_train_over,cv=5,n_jobs=-1)\n",
    "print(cv_acc_scores)"
   ]
  },
  {
   "cell_type": "markdown",
   "id": "67a21c3e",
   "metadata": {},
   "source": [
    "Deciding the ranges of the hyperparameters "
   ]
  },
  {
   "cell_type": "code",
   "execution_count": 49,
   "id": "738d9c56",
   "metadata": {},
   "outputs": [
    {
     "data": {
      "text/plain": [
       "{'simpleimputer__strategy': ['mean', 'median'],\n",
       " 'randomforestclassifier__n_estimators': range(25, 100, 25),\n",
       " 'randomforestclassifier__max_depth': range(10, 50, 10)}"
      ]
     },
     "execution_count": 49,
     "metadata": {},
     "output_type": "execute_result"
    }
   ],
   "source": [
    "params = {\"simpleimputer__strategy\":[\"mean\",\"median\"],\n",
    "          \"randomforestclassifier__n_estimators\":range(25,100,25),\n",
    "          \"randomforestclassifier__max_depth\":range(10,50,10)}\n",
    "params"
   ]
  },
  {
   "cell_type": "code",
   "execution_count": 50,
   "id": "ea3d2b7f",
   "metadata": {},
   "outputs": [
    {
     "data": {
      "text/plain": [
       "GridSearchCV(cv=3,\n",
       "             estimator=Pipeline(steps=[('simpleimputer', SimpleImputer()),\n",
       "                                       ('standardscaler', StandardScaler()),\n",
       "                                       ('randomforestclassifier',\n",
       "                                        RandomForestClassifier(random_state=42))]),\n",
       "             n_jobs=-1,\n",
       "             param_grid={'randomforestclassifier__max_depth': range(10, 50, 10),\n",
       "                         'randomforestclassifier__n_estimators': range(25, 100, 25),\n",
       "                         'simpleimputer__strategy': ['mean', 'median']},\n",
       "             verbose=1)"
      ]
     },
     "execution_count": 50,
     "metadata": {},
     "output_type": "execute_result"
    }
   ],
   "source": [
    "RF_model = GridSearchCV(clf,param_grid=params,cv=3,n_jobs=-1,verbose=1)\n",
    "RF_model"
   ]
  },
  {
   "cell_type": "code",
   "execution_count": 51,
   "id": "4f882ce6",
   "metadata": {},
   "outputs": [
    {
     "name": "stdout",
     "output_type": "stream",
     "text": [
      "Fitting 3 folds for each of 24 candidates, totalling 72 fits\n"
     ]
    },
    {
     "data": {
      "text/plain": [
       "GridSearchCV(cv=3,\n",
       "             estimator=Pipeline(steps=[('simpleimputer', SimpleImputer()),\n",
       "                                       ('standardscaler', StandardScaler()),\n",
       "                                       ('randomforestclassifier',\n",
       "                                        RandomForestClassifier(random_state=42))]),\n",
       "             n_jobs=-1,\n",
       "             param_grid={'randomforestclassifier__max_depth': range(10, 50, 10),\n",
       "                         'randomforestclassifier__n_estimators': range(25, 100, 25),\n",
       "                         'simpleimputer__strategy': ['mean', 'median']},\n",
       "             verbose=1)"
      ]
     },
     "execution_count": 51,
     "metadata": {},
     "output_type": "execute_result"
    }
   ],
   "source": [
    "RF_model.fit(X_train_over,y_train_over)"
   ]
  },
  {
   "cell_type": "code",
   "execution_count": 52,
   "id": "06da5c15",
   "metadata": {},
   "outputs": [
    {
     "data": {
      "text/html": [
       "<div>\n",
       "<style scoped>\n",
       "    .dataframe tbody tr th:only-of-type {\n",
       "        vertical-align: middle;\n",
       "    }\n",
       "\n",
       "    .dataframe tbody tr th {\n",
       "        vertical-align: top;\n",
       "    }\n",
       "\n",
       "    .dataframe thead th {\n",
       "        text-align: right;\n",
       "    }\n",
       "</style>\n",
       "<table border=\"1\" class=\"dataframe\">\n",
       "  <thead>\n",
       "    <tr style=\"text-align: right;\">\n",
       "      <th></th>\n",
       "      <th>mean_fit_time</th>\n",
       "      <th>std_fit_time</th>\n",
       "      <th>mean_score_time</th>\n",
       "      <th>std_score_time</th>\n",
       "      <th>param_randomforestclassifier__max_depth</th>\n",
       "      <th>param_randomforestclassifier__n_estimators</th>\n",
       "      <th>param_simpleimputer__strategy</th>\n",
       "      <th>params</th>\n",
       "      <th>split0_test_score</th>\n",
       "      <th>split1_test_score</th>\n",
       "      <th>split2_test_score</th>\n",
       "      <th>mean_test_score</th>\n",
       "      <th>std_test_score</th>\n",
       "      <th>rank_test_score</th>\n",
       "    </tr>\n",
       "  </thead>\n",
       "  <tbody>\n",
       "    <tr>\n",
       "      <th>0</th>\n",
       "      <td>0.394028</td>\n",
       "      <td>0.010232</td>\n",
       "      <td>0.014669</td>\n",
       "      <td>0.000471</td>\n",
       "      <td>10</td>\n",
       "      <td>25</td>\n",
       "      <td>mean</td>\n",
       "      <td>{'randomforestclassifier__max_depth': 10, 'ran...</td>\n",
       "      <td>0.986667</td>\n",
       "      <td>0.987995</td>\n",
       "      <td>0.984882</td>\n",
       "      <td>0.986515</td>\n",
       "      <td>0.001275</td>\n",
       "      <td>24</td>\n",
       "    </tr>\n",
       "    <tr>\n",
       "      <th>1</th>\n",
       "      <td>0.425362</td>\n",
       "      <td>0.003682</td>\n",
       "      <td>0.015002</td>\n",
       "      <td>0.000817</td>\n",
       "      <td>10</td>\n",
       "      <td>25</td>\n",
       "      <td>median</td>\n",
       "      <td>{'randomforestclassifier__max_depth': 10, 'ran...</td>\n",
       "      <td>0.986667</td>\n",
       "      <td>0.986216</td>\n",
       "      <td>0.987105</td>\n",
       "      <td>0.986663</td>\n",
       "      <td>0.000363</td>\n",
       "      <td>23</td>\n",
       "    </tr>\n",
       "  </tbody>\n",
       "</table>\n",
       "</div>"
      ],
      "text/plain": [
       "   mean_fit_time  std_fit_time  mean_score_time  std_score_time  \\\n",
       "0       0.394028      0.010232         0.014669        0.000471   \n",
       "1       0.425362      0.003682         0.015002        0.000817   \n",
       "\n",
       "  param_randomforestclassifier__max_depth  \\\n",
       "0                                      10   \n",
       "1                                      10   \n",
       "\n",
       "  param_randomforestclassifier__n_estimators param_simpleimputer__strategy  \\\n",
       "0                                         25                          mean   \n",
       "1                                         25                        median   \n",
       "\n",
       "                                              params  split0_test_score  \\\n",
       "0  {'randomforestclassifier__max_depth': 10, 'ran...           0.986667   \n",
       "1  {'randomforestclassifier__max_depth': 10, 'ran...           0.986667   \n",
       "\n",
       "   split1_test_score  split2_test_score  mean_test_score  std_test_score  \\\n",
       "0           0.987995           0.984882         0.986515        0.001275   \n",
       "1           0.986216           0.987105         0.986663        0.000363   \n",
       "\n",
       "   rank_test_score  \n",
       "0               24  \n",
       "1               23  "
      ]
     },
     "execution_count": 52,
     "metadata": {},
     "output_type": "execute_result"
    }
   ],
   "source": [
    "cv_results = pd.DataFrame(RF_model.cv_results_)\n",
    "cv_results.head(2)\n"
   ]
  },
  {
   "cell_type": "code",
   "execution_count": 53,
   "id": "8b5d2a47",
   "metadata": {
    "scrolled": true
   },
   "outputs": [
    {
     "data": {
      "text/plain": [
       "({'randomforestclassifier__max_depth': 20,\n",
       "  'randomforestclassifier__n_estimators': 50,\n",
       "  'simpleimputer__strategy': 'mean'},\n",
       " 0.9985181232811291)"
      ]
     },
     "execution_count": 53,
     "metadata": {},
     "output_type": "execute_result"
    }
   ],
   "source": [
    "RF_model.best_params_,RF_model.best_score_"
   ]
  },
  {
   "cell_type": "markdown",
   "id": "89f8ddeb",
   "metadata": {},
   "source": [
    "so the best model depth is 40 and n_estimators = 75 , and the imputer strategy should be the median "
   ]
  },
  {
   "cell_type": "code",
   "execution_count": 54,
   "id": "26d996e3",
   "metadata": {},
   "outputs": [
    {
     "name": "stdout",
     "output_type": "stream",
     "text": [
      "Training Accuracy: 1.0\n",
      "Test Accuracy: 0.9795\n"
     ]
    }
   ],
   "source": [
    "acc_train = RF_model.score(X_train,y_train)\n",
    "acc_test = RF_model.score(X_test,y_test)\n",
    "print(\"Training Accuracy:\", round(acc_train, 4))\n",
    "print(\"Test Accuracy:\", round(acc_test, 4))"
   ]
  },
  {
   "cell_type": "code",
   "execution_count": 55,
   "id": "3015f28b",
   "metadata": {
    "scrolled": true
   },
   "outputs": [
    {
     "name": "stdout",
     "output_type": "stream",
     "text": [
      "              precision    recall  f1-score   support\n",
      "\n",
      "           0       0.98      1.00      0.99       848\n",
      "           1       0.93      0.43      0.59        30\n",
      "\n",
      "    accuracy                           0.98       878\n",
      "   macro avg       0.95      0.72      0.79       878\n",
      "weighted avg       0.98      0.98      0.98       878\n",
      "\n"
     ]
    }
   ],
   "source": [
    "print(classification_report(y_test,RF_model.predict(X_test)))"
   ]
  },
  {
   "cell_type": "code",
   "execution_count": 56,
   "id": "5e1fbd9f",
   "metadata": {
    "scrolled": true
   },
   "outputs": [
    {
     "data": {
      "text/plain": [
       "<sklearn.metrics._plot.confusion_matrix.ConfusionMatrixDisplay at 0x1acaf5aea90>"
      ]
     },
     "execution_count": 56,
     "metadata": {},
     "output_type": "execute_result"
    },
    {
     "data": {
      "image/png": "[encoded data removed]",
      "text/plain": [
       "<Figure size 640x480 with 2 Axes>"
      ]
     },
     "metadata": {},
     "output_type": "display_data"
    }
   ],
   "source": [
    "ConfusionMatrixDisplay.from_estimator(RF_model,X_test,y_test)"
   ]
  },
  {
   "cell_type": "markdown",
   "id": "a69a60f2",
   "metadata": {},
   "source": [
    "A better model in terms of negative label precession"
   ]
  },
  {
   "cell_type": "markdown",
   "id": "a01c9663",
   "metadata": {},
   "source": [
    "## Gradient Boosting Classifier Model"
   ]
  },
  {
   "cell_type": "code",
   "execution_count": 57,
   "id": "15551c03",
   "metadata": {},
   "outputs": [],
   "source": [
    "from sklearn.ensemble import GradientBoostingClassifier"
   ]
  },
  {
   "cell_type": "code",
   "execution_count": 58,
   "id": "8487550e",
   "metadata": {},
   "outputs": [],
   "source": [
    "clf = make_pipeline(SimpleImputer(),StandardScaler(),GradientBoostingClassifier())"
   ]
  },
  {
   "cell_type": "code",
   "execution_count": 59,
   "id": "206c0d93",
   "metadata": {},
   "outputs": [
    {
     "data": {
      "text/plain": [
       "{'simpleimputer__strategy': ['mean', 'median'],\n",
       " 'gradientboostingclassifier__max_depth': range(2, 5),\n",
       " 'gradientboostingclassifier__n_estimators': range(20, 31, 5)}"
      ]
     },
     "execution_count": 59,
     "metadata": {},
     "output_type": "execute_result"
    }
   ],
   "source": [
    "params = {\"simpleimputer__strategy\":[\"mean\",\"median\"],\"gradientboostingclassifier__max_depth\":range(2,5),\"gradientboostingclassifier__n_estimators\":range(20,31,5)}\n",
    "params"
   ]
  },
  {
   "cell_type": "code",
   "execution_count": 60,
   "id": "f0981d29",
   "metadata": {},
   "outputs": [],
   "source": [
    "GBC_model = GridSearchCV(clf,param_grid=params,cv=5,n_jobs=-1,verbose=1)"
   ]
  },
  {
   "cell_type": "code",
   "execution_count": 61,
   "id": "17948159",
   "metadata": {},
   "outputs": [
    {
     "name": "stdout",
     "output_type": "stream",
     "text": [
      "Fitting 5 folds for each of 18 candidates, totalling 90 fits\n"
     ]
    },
    {
     "data": {
      "text/plain": [
       "GridSearchCV(cv=5,\n",
       "             estimator=Pipeline(steps=[('simpleimputer', SimpleImputer()),\n",
       "                                       ('standardscaler', StandardScaler()),\n",
       "                                       ('gradientboostingclassifier',\n",
       "                                        GradientBoostingClassifier())]),\n",
       "             n_jobs=-1,\n",
       "             param_grid={'gradientboostingclassifier__max_depth': range(2, 5),\n",
       "                         'gradientboostingclassifier__n_estimators': range(20, 31, 5),\n",
       "                         'simpleimputer__strategy': ['mean', 'median']},\n",
       "             verbose=1)"
      ]
     },
     "execution_count": 61,
     "metadata": {},
     "output_type": "execute_result"
    }
   ],
   "source": [
    "GBC_model.fit(X_train_over,y_train_over)"
   ]
  },
  {
   "cell_type": "code",
   "execution_count": 62,
   "id": "7d2df144",
   "metadata": {},
   "outputs": [
    {
     "data": {
      "text/html": [
       "<div>\n",
       "<style scoped>\n",
       "    .dataframe tbody tr th:only-of-type {\n",
       "        vertical-align: middle;\n",
       "    }\n",
       "\n",
       "    .dataframe tbody tr th {\n",
       "        vertical-align: top;\n",
       "    }\n",
       "\n",
       "    .dataframe thead th {\n",
       "        text-align: right;\n",
       "    }\n",
       "</style>\n",
       "<table border=\"1\" class=\"dataframe\">\n",
       "  <thead>\n",
       "    <tr style=\"text-align: right;\">\n",
       "      <th></th>\n",
       "      <th>mean_fit_time</th>\n",
       "      <th>std_fit_time</th>\n",
       "      <th>mean_score_time</th>\n",
       "      <th>std_score_time</th>\n",
       "      <th>param_gradientboostingclassifier__max_depth</th>\n",
       "      <th>param_gradientboostingclassifier__n_estimators</th>\n",
       "      <th>param_simpleimputer__strategy</th>\n",
       "      <th>params</th>\n",
       "      <th>split0_test_score</th>\n",
       "      <th>split1_test_score</th>\n",
       "      <th>split2_test_score</th>\n",
       "      <th>split3_test_score</th>\n",
       "      <th>split4_test_score</th>\n",
       "      <th>mean_test_score</th>\n",
       "      <th>std_test_score</th>\n",
       "      <th>rank_test_score</th>\n",
       "    </tr>\n",
       "  </thead>\n",
       "  <tbody>\n",
       "    <tr>\n",
       "      <th>16</th>\n",
       "      <td>3.014022</td>\n",
       "      <td>0.286876</td>\n",
       "      <td>0.005801</td>\n",
       "      <td>0.001600</td>\n",
       "      <td>4</td>\n",
       "      <td>30</td>\n",
       "      <td>mean</td>\n",
       "      <td>{'gradientboostingclassifier__max_depth': 4, '...</td>\n",
       "      <td>0.960741</td>\n",
       "      <td>0.954074</td>\n",
       "      <td>0.951111</td>\n",
       "      <td>0.951816</td>\n",
       "      <td>0.962936</td>\n",
       "      <td>0.956136</td>\n",
       "      <td>0.004808</td>\n",
       "      <td>1</td>\n",
       "    </tr>\n",
       "    <tr>\n",
       "      <th>17</th>\n",
       "      <td>2.700199</td>\n",
       "      <td>0.015403</td>\n",
       "      <td>0.005200</td>\n",
       "      <td>0.000399</td>\n",
       "      <td>4</td>\n",
       "      <td>30</td>\n",
       "      <td>median</td>\n",
       "      <td>{'gradientboostingclassifier__max_depth': 4, '...</td>\n",
       "      <td>0.955556</td>\n",
       "      <td>0.954074</td>\n",
       "      <td>0.946667</td>\n",
       "      <td>0.947368</td>\n",
       "      <td>0.951075</td>\n",
       "      <td>0.950948</td>\n",
       "      <td>0.003526</td>\n",
       "      <td>2</td>\n",
       "    </tr>\n",
       "    <tr>\n",
       "      <th>14</th>\n",
       "      <td>2.200962</td>\n",
       "      <td>0.012074</td>\n",
       "      <td>0.005200</td>\n",
       "      <td>0.000400</td>\n",
       "      <td>4</td>\n",
       "      <td>25</td>\n",
       "      <td>mean</td>\n",
       "      <td>{'gradientboostingclassifier__max_depth': 4, '...</td>\n",
       "      <td>0.955556</td>\n",
       "      <td>0.953333</td>\n",
       "      <td>0.941481</td>\n",
       "      <td>0.945886</td>\n",
       "      <td>0.955523</td>\n",
       "      <td>0.950356</td>\n",
       "      <td>0.005680</td>\n",
       "      <td>3</td>\n",
       "    </tr>\n",
       "    <tr>\n",
       "      <th>15</th>\n",
       "      <td>2.246172</td>\n",
       "      <td>0.009280</td>\n",
       "      <td>0.005000</td>\n",
       "      <td>0.000633</td>\n",
       "      <td>4</td>\n",
       "      <td>25</td>\n",
       "      <td>median</td>\n",
       "      <td>{'gradientboostingclassifier__max_depth': 4, '...</td>\n",
       "      <td>0.946667</td>\n",
       "      <td>0.945185</td>\n",
       "      <td>0.936296</td>\n",
       "      <td>0.938473</td>\n",
       "      <td>0.951075</td>\n",
       "      <td>0.943539</td>\n",
       "      <td>0.005430</td>\n",
       "      <td>4</td>\n",
       "    </tr>\n",
       "    <tr>\n",
       "      <th>12</th>\n",
       "      <td>1.765928</td>\n",
       "      <td>0.013674</td>\n",
       "      <td>0.004401</td>\n",
       "      <td>0.000490</td>\n",
       "      <td>4</td>\n",
       "      <td>20</td>\n",
       "      <td>mean</td>\n",
       "      <td>{'gradientboostingclassifier__max_depth': 4, '...</td>\n",
       "      <td>0.935556</td>\n",
       "      <td>0.938519</td>\n",
       "      <td>0.921481</td>\n",
       "      <td>0.925130</td>\n",
       "      <td>0.931060</td>\n",
       "      <td>0.930349</td>\n",
       "      <td>0.006328</td>\n",
       "      <td>5</td>\n",
       "    </tr>\n",
       "  </tbody>\n",
       "</table>\n",
       "</div>"
      ],
      "text/plain": [
       "    mean_fit_time  std_fit_time  mean_score_time  std_score_time  \\\n",
       "16       3.014022      0.286876         0.005801        0.001600   \n",
       "17       2.700199      0.015403         0.005200        0.000399   \n",
       "14       2.200962      0.012074         0.005200        0.000400   \n",
       "15       2.246172      0.009280         0.005000        0.000633   \n",
       "12       1.765928      0.013674         0.004401        0.000490   \n",
       "\n",
       "   param_gradientboostingclassifier__max_depth  \\\n",
       "16                                           4   \n",
       "17                                           4   \n",
       "14                                           4   \n",
       "15                                           4   \n",
       "12                                           4   \n",
       "\n",
       "   param_gradientboostingclassifier__n_estimators  \\\n",
       "16                                             30   \n",
       "17                                             30   \n",
       "14                                             25   \n",
       "15                                             25   \n",
       "12                                             20   \n",
       "\n",
       "   param_simpleimputer__strategy  \\\n",
       "16                          mean   \n",
       "17                        median   \n",
       "14                          mean   \n",
       "15                        median   \n",
       "12                          mean   \n",
       "\n",
       "                                               params  split0_test_score  \\\n",
       "16  {'gradientboostingclassifier__max_depth': 4, '...           0.960741   \n",
       "17  {'gradientboostingclassifier__max_depth': 4, '...           0.955556   \n",
       "14  {'gradientboostingclassifier__max_depth': 4, '...           0.955556   \n",
       "15  {'gradientboostingclassifier__max_depth': 4, '...           0.946667   \n",
       "12  {'gradientboostingclassifier__max_depth': 4, '...           0.935556   \n",
       "\n",
       "    split1_test_score  split2_test_score  split3_test_score  \\\n",
       "16           0.954074           0.951111           0.951816   \n",
       "17           0.954074           0.946667           0.947368   \n",
       "14           0.953333           0.941481           0.945886   \n",
       "15           0.945185           0.936296           0.938473   \n",
       "12           0.938519           0.921481           0.925130   \n",
       "\n",
       "    split4_test_score  mean_test_score  std_test_score  rank_test_score  \n",
       "16           0.962936         0.956136        0.004808                1  \n",
       "17           0.951075         0.950948        0.003526                2  \n",
       "14           0.955523         0.950356        0.005680                3  \n",
       "15           0.951075         0.943539        0.005430                4  \n",
       "12           0.931060         0.930349        0.006328                5  "
      ]
     },
     "execution_count": 62,
     "metadata": {},
     "output_type": "execute_result"
    }
   ],
   "source": [
    "results = pd.DataFrame(GBC_model.cv_results_)\n",
    "results.sort_values(\"rank_test_score\").head(5)"
   ]
  },
  {
   "cell_type": "code",
   "execution_count": 63,
   "id": "f1da5413",
   "metadata": {},
   "outputs": [
    {
     "data": {
      "text/plain": [
       "{'gradientboostingclassifier__max_depth': 4,\n",
       " 'gradientboostingclassifier__n_estimators': 30,\n",
       " 'simpleimputer__strategy': 'mean'}"
      ]
     },
     "execution_count": 63,
     "metadata": {},
     "output_type": "execute_result"
    }
   ],
   "source": [
    "GBC_model.best_params_"
   ]
  },
  {
   "cell_type": "code",
   "execution_count": 64,
   "id": "9655f6bf",
   "metadata": {},
   "outputs": [
    {
     "name": "stdout",
     "output_type": "stream",
     "text": [
      "              precision    recall  f1-score   support\n",
      "\n",
      "           0       0.99      0.92      0.96       848\n",
      "           1       0.26      0.77      0.39        30\n",
      "\n",
      "    accuracy                           0.92       878\n",
      "   macro avg       0.63      0.85      0.67       878\n",
      "weighted avg       0.97      0.92      0.94       878\n",
      "\n"
     ]
    }
   ],
   "source": [
    "print(classification_report(y_test,GBC_model.predict(X_test)))"
   ]
  },
  {
   "cell_type": "markdown",
   "id": "2dc768b6",
   "metadata": {},
   "source": [
    "improving the model recall , very good!"
   ]
  },
  {
   "cell_type": "code",
   "execution_count": 65,
   "id": "00925548",
   "metadata": {},
   "outputs": [
    {
     "data": {
      "text/plain": [
       "<sklearn.metrics._plot.confusion_matrix.ConfusionMatrixDisplay at 0x1acaf676070>"
      ]
     },
     "execution_count": 65,
     "metadata": {},
     "output_type": "execute_result"
    },
    {
     "data": {
      "image/png": "[encoded data removed]",
      "text/plain": [
       "<Figure size 640x480 with 2 Axes>"
      ]
     },
     "metadata": {},
     "output_type": "display_data"
    }
   ],
   "source": [
    "ConfusionMatrixDisplay.from_estimator(GBC_model,X_test,y_test)"
   ]
  },
  {
   "cell_type": "markdown",
   "id": "2c3b97ea",
   "metadata": {},
   "source": [
    "better performance on the positive labels , but the precesion is low "
   ]
  },
  {
   "cell_type": "markdown",
   "id": "6047e9f6",
   "metadata": {},
   "source": [
    "## Logistic Regression Model"
   ]
  },
  {
   "cell_type": "code",
   "execution_count": 66,
   "id": "828c1881",
   "metadata": {},
   "outputs": [],
   "source": [
    "from sklearn.linear_model import LogisticRegression"
   ]
  },
  {
   "cell_type": "code",
   "execution_count": 67,
   "id": "45c3872d",
   "metadata": {
    "scrolled": true
   },
   "outputs": [
    {
     "name": "stdout",
     "output_type": "stream",
     "text": [
      "Pipeline(steps=[('simpleimputer', SimpleImputer()),\n",
      "                ('standardscaler', StandardScaler()),\n",
      "                ('logisticregression',\n",
      "                 LogisticRegression(max_iter=500, random_state=42))])\n"
     ]
    }
   ],
   "source": [
    "clf = make_pipeline(SimpleImputer(),StandardScaler(),LogisticRegression(random_state=42,max_iter=500))\n",
    "print(clf)"
   ]
  },
  {
   "cell_type": "code",
   "execution_count": 68,
   "id": "05e3b980",
   "metadata": {},
   "outputs": [
    {
     "data": {
      "text/plain": [
       "sklearn.linear_model._logistic.LogisticRegression"
      ]
     },
     "execution_count": 68,
     "metadata": {},
     "output_type": "execute_result"
    }
   ],
   "source": [
    "LogisticRegression"
   ]
  },
  {
   "cell_type": "code",
   "execution_count": 69,
   "id": "4dfeba7c",
   "metadata": {},
   "outputs": [
    {
     "data": {
      "text/html": [
       "<div>\n",
       "<style scoped>\n",
       "    .dataframe tbody tr th:only-of-type {\n",
       "        vertical-align: middle;\n",
       "    }\n",
       "\n",
       "    .dataframe tbody tr th {\n",
       "        vertical-align: top;\n",
       "    }\n",
       "\n",
       "    .dataframe thead th {\n",
       "        text-align: right;\n",
       "    }\n",
       "</style>\n",
       "<table border=\"1\" class=\"dataframe\">\n",
       "  <thead>\n",
       "    <tr style=\"text-align: right;\">\n",
       "      <th></th>\n",
       "      <th>memory</th>\n",
       "      <th>steps</th>\n",
       "      <th>verbose</th>\n",
       "      <th>simpleimputer</th>\n",
       "      <th>standardscaler</th>\n",
       "      <th>logisticregression</th>\n",
       "      <th>simpleimputer__add_indicator</th>\n",
       "      <th>simpleimputer__copy</th>\n",
       "      <th>simpleimputer__fill_value</th>\n",
       "      <th>simpleimputer__missing_values</th>\n",
       "      <th>...</th>\n",
       "      <th>logisticregression__l1_ratio</th>\n",
       "      <th>logisticregression__max_iter</th>\n",
       "      <th>logisticregression__multi_class</th>\n",
       "      <th>logisticregression__n_jobs</th>\n",
       "      <th>logisticregression__penalty</th>\n",
       "      <th>logisticregression__random_state</th>\n",
       "      <th>logisticregression__solver</th>\n",
       "      <th>logisticregression__tol</th>\n",
       "      <th>logisticregression__verbose</th>\n",
       "      <th>logisticregression__warm_start</th>\n",
       "    </tr>\n",
       "  </thead>\n",
       "  <tbody>\n",
       "    <tr>\n",
       "      <th>0</th>\n",
       "      <td>None</td>\n",
       "      <td>(simpleimputer, SimpleImputer())</td>\n",
       "      <td>False</td>\n",
       "      <td>SimpleImputer()</td>\n",
       "      <td>StandardScaler()</td>\n",
       "      <td>LogisticRegression(max_iter=500, random_state=42)</td>\n",
       "      <td>False</td>\n",
       "      <td>True</td>\n",
       "      <td>None</td>\n",
       "      <td>NaN</td>\n",
       "      <td>...</td>\n",
       "      <td>None</td>\n",
       "      <td>500</td>\n",
       "      <td>auto</td>\n",
       "      <td>None</td>\n",
       "      <td>l2</td>\n",
       "      <td>42</td>\n",
       "      <td>lbfgs</td>\n",
       "      <td>0.0001</td>\n",
       "      <td>0</td>\n",
       "      <td>False</td>\n",
       "    </tr>\n",
       "    <tr>\n",
       "      <th>1</th>\n",
       "      <td>None</td>\n",
       "      <td>(standardscaler, StandardScaler())</td>\n",
       "      <td>False</td>\n",
       "      <td>SimpleImputer()</td>\n",
       "      <td>StandardScaler()</td>\n",
       "      <td>LogisticRegression(max_iter=500, random_state=42)</td>\n",
       "      <td>False</td>\n",
       "      <td>True</td>\n",
       "      <td>None</td>\n",
       "      <td>NaN</td>\n",
       "      <td>...</td>\n",
       "      <td>None</td>\n",
       "      <td>500</td>\n",
       "      <td>auto</td>\n",
       "      <td>None</td>\n",
       "      <td>l2</td>\n",
       "      <td>42</td>\n",
       "      <td>lbfgs</td>\n",
       "      <td>0.0001</td>\n",
       "      <td>0</td>\n",
       "      <td>False</td>\n",
       "    </tr>\n",
       "    <tr>\n",
       "      <th>2</th>\n",
       "      <td>None</td>\n",
       "      <td>(logisticregression, LogisticRegression(max_it...</td>\n",
       "      <td>False</td>\n",
       "      <td>SimpleImputer()</td>\n",
       "      <td>StandardScaler()</td>\n",
       "      <td>LogisticRegression(max_iter=500, random_state=42)</td>\n",
       "      <td>False</td>\n",
       "      <td>True</td>\n",
       "      <td>None</td>\n",
       "      <td>NaN</td>\n",
       "      <td>...</td>\n",
       "      <td>None</td>\n",
       "      <td>500</td>\n",
       "      <td>auto</td>\n",
       "      <td>None</td>\n",
       "      <td>l2</td>\n",
       "      <td>42</td>\n",
       "      <td>lbfgs</td>\n",
       "      <td>0.0001</td>\n",
       "      <td>0</td>\n",
       "      <td>False</td>\n",
       "    </tr>\n",
       "  </tbody>\n",
       "</table>\n",
       "<p>3 rows × 30 columns</p>\n",
       "</div>"
      ],
      "text/plain": [
       "  memory                                              steps  verbose  \\\n",
       "0   None                   (simpleimputer, SimpleImputer())    False   \n",
       "1   None                 (standardscaler, StandardScaler())    False   \n",
       "2   None  (logisticregression, LogisticRegression(max_it...    False   \n",
       "\n",
       "     simpleimputer    standardscaler  \\\n",
       "0  SimpleImputer()  StandardScaler()   \n",
       "1  SimpleImputer()  StandardScaler()   \n",
       "2  SimpleImputer()  StandardScaler()   \n",
       "\n",
       "                                  logisticregression  \\\n",
       "0  LogisticRegression(max_iter=500, random_state=42)   \n",
       "1  LogisticRegression(max_iter=500, random_state=42)   \n",
       "2  LogisticRegression(max_iter=500, random_state=42)   \n",
       "\n",
       "   simpleimputer__add_indicator  simpleimputer__copy  \\\n",
       "0                         False                 True   \n",
       "1                         False                 True   \n",
       "2                         False                 True   \n",
       "\n",
       "  simpleimputer__fill_value  simpleimputer__missing_values  ...  \\\n",
       "0                      None                            NaN  ...   \n",
       "1                      None                            NaN  ...   \n",
       "2                      None                            NaN  ...   \n",
       "\n",
       "  logisticregression__l1_ratio  logisticregression__max_iter  \\\n",
       "0                         None                           500   \n",
       "1                         None                           500   \n",
       "2                         None                           500   \n",
       "\n",
       "   logisticregression__multi_class  logisticregression__n_jobs  \\\n",
       "0                             auto                        None   \n",
       "1                             auto                        None   \n",
       "2                             auto                        None   \n",
       "\n",
       "   logisticregression__penalty  logisticregression__random_state  \\\n",
       "0                           l2                                42   \n",
       "1                           l2                                42   \n",
       "2                           l2                                42   \n",
       "\n",
       "  logisticregression__solver  logisticregression__tol  \\\n",
       "0                      lbfgs                   0.0001   \n",
       "1                      lbfgs                   0.0001   \n",
       "2                      lbfgs                   0.0001   \n",
       "\n",
       "   logisticregression__verbose  logisticregression__warm_start  \n",
       "0                            0                           False  \n",
       "1                            0                           False  \n",
       "2                            0                           False  \n",
       "\n",
       "[3 rows x 30 columns]"
      ]
     },
     "execution_count": 69,
     "metadata": {},
     "output_type": "execute_result"
    }
   ],
   "source": [
    "pd.DataFrame(clf.get_params())"
   ]
  },
  {
   "cell_type": "code",
   "execution_count": 70,
   "id": "8a07e34c",
   "metadata": {},
   "outputs": [
    {
     "data": {
      "text/plain": [
       "dict_keys(['memory', 'steps', 'verbose', 'simpleimputer', 'standardscaler', 'logisticregression', 'simpleimputer__add_indicator', 'simpleimputer__copy', 'simpleimputer__fill_value', 'simpleimputer__missing_values', 'simpleimputer__strategy', 'simpleimputer__verbose', 'standardscaler__copy', 'standardscaler__with_mean', 'standardscaler__with_std', 'logisticregression__C', 'logisticregression__class_weight', 'logisticregression__dual', 'logisticregression__fit_intercept', 'logisticregression__intercept_scaling', 'logisticregression__l1_ratio', 'logisticregression__max_iter', 'logisticregression__multi_class', 'logisticregression__n_jobs', 'logisticregression__penalty', 'logisticregression__random_state', 'logisticregression__solver', 'logisticregression__tol', 'logisticregression__verbose', 'logisticregression__warm_start'])"
      ]
     },
     "execution_count": 70,
     "metadata": {},
     "output_type": "execute_result"
    }
   ],
   "source": [
    "clf.get_params().keys()"
   ]
  },
  {
   "cell_type": "code",
   "execution_count": 71,
   "id": "c5caf779",
   "metadata": {},
   "outputs": [
    {
     "data": {
      "text/plain": [
       "{'simpleimputer__strategy': ['mean', 'median'],\n",
       " 'logisticregression__penalty': ['l1', 'l2'],\n",
       " 'logisticregression__multi_class': ['ovr', 'multinomial'],\n",
       " 'logisticregression__C': [0.1, 0.3, 0.6, 0.9],\n",
       " 'logisticregression__solver': ['lbfgs', 'saga']}"
      ]
     },
     "execution_count": 71,
     "metadata": {},
     "output_type": "execute_result"
    }
   ],
   "source": [
    "params = {\"simpleimputer__strategy\":[\"mean\",\"median\"],\n",
    "          \"logisticregression__penalty\":['l1', 'l2'],\n",
    "          \"logisticregression__multi_class\":['ovr', 'multinomial'],\n",
    "          'logisticregression__C':[.1,.3,.6,.9],\n",
    "          'logisticregression__solver':[ 'lbfgs',  'saga']}\n",
    "params"
   ]
  },
  {
   "cell_type": "code",
   "execution_count": 72,
   "id": "1be6d565",
   "metadata": {},
   "outputs": [],
   "source": [
    "LR_model = GridSearchCV(clf,param_grid=params,cv=5,n_jobs=-1,verbose=1)"
   ]
  },
  {
   "cell_type": "code",
   "execution_count": 73,
   "id": "43cf366a",
   "metadata": {},
   "outputs": [
    {
     "name": "stdout",
     "output_type": "stream",
     "text": [
      "Fitting 5 folds for each of 64 candidates, totalling 320 fits\n"
     ]
    },
    {
     "name": "stderr",
     "output_type": "stream",
     "text": [
      "C:\\Users\\User\\anaconda3\\lib\\site-packages\\sklearn\\model_selection\\_validation.py:372: FitFailedWarning: \n",
      "80 fits failed out of a total of 320.\n",
      "The score on these train-test partitions for these parameters will be set to nan.\n",
      "If these failures are not expected, you can try to debug them by setting error_score='raise'.\n",
      "\n",
      "Below are more details about the failures:\n",
      "--------------------------------------------------------------------------------\n",
      "80 fits failed with the following error:\n",
      "Traceback (most recent call last):\n",
      "  File \"C:\\Users\\User\\anaconda3\\lib\\site-packages\\sklearn\\model_selection\\_validation.py\", line 680, in _fit_and_score\n",
      "    estimator.fit(X_train, y_train, **fit_params)\n",
      "  File \"C:\\Users\\User\\anaconda3\\lib\\site-packages\\sklearn\\pipeline.py\", line 394, in fit\n",
      "    self._final_estimator.fit(Xt, y, **fit_params_last_step)\n",
      "  File \"C:\\Users\\User\\anaconda3\\lib\\site-packages\\sklearn\\linear_model\\_logistic.py\", line 1461, in fit\n",
      "    solver = _check_solver(self.solver, self.penalty, self.dual)\n",
      "  File \"C:\\Users\\User\\anaconda3\\lib\\site-packages\\sklearn\\linear_model\\_logistic.py\", line 447, in _check_solver\n",
      "    raise ValueError(\n",
      "ValueError: Solver lbfgs supports only 'l2' or 'none' penalties, got l1 penalty.\n",
      "\n",
      "  warnings.warn(some_fits_failed_message, FitFailedWarning)\n",
      "C:\\Users\\User\\anaconda3\\lib\\site-packages\\sklearn\\model_selection\\_search.py:969: UserWarning: One or more of the test scores are non-finite: [       nan        nan 0.76496763 0.76407764 0.76585509 0.76155836\n",
      " 0.76585509 0.76155836        nan        nan 0.76496752 0.7642259\n",
      " 0.7707464  0.76956    0.7707464  0.76941186        nan        nan\n",
      " 0.77785729 0.77489334 0.77711852 0.77385773 0.77711852 0.77385773\n",
      "        nan        nan 0.77637537 0.77444845 0.78141482 0.7759307\n",
      " 0.78141482 0.7759307         nan        nan 0.77474552 0.77178135\n",
      " 0.7800805  0.77533811 0.78141482 0.7759307         nan        nan\n",
      " 0.77119007 0.77074453 0.78156308 0.77756044 0.78171123 0.77756044\n",
      "        nan        nan 0.77163463 0.77089246 0.78111765 0.77607819\n",
      " 0.78111765 0.77607819        nan        nan 0.77400588 0.77237559\n",
      " 0.77904357 0.77726481 0.77933987 0.77711666]\n",
      "  warnings.warn(\n"
     ]
    },
    {
     "data": {
      "text/plain": [
       "GridSearchCV(cv=5,\n",
       "             estimator=Pipeline(steps=[('simpleimputer', SimpleImputer()),\n",
       "                                       ('standardscaler', StandardScaler()),\n",
       "                                       ('logisticregression',\n",
       "                                        LogisticRegression(max_iter=500,\n",
       "                                                           random_state=42))]),\n",
       "             n_jobs=-1,\n",
       "             param_grid={'logisticregression__C': [0.1, 0.3, 0.6, 0.9],\n",
       "                         'logisticregression__multi_class': ['ovr',\n",
       "                                                             'multinomial'],\n",
       "                         'logisticregression__penalty': ['l1', 'l2'],\n",
       "                         'logisticregression__solver': ['lbfgs', 'saga'],\n",
       "                         'simpleimputer__strategy': ['mean', 'median']},\n",
       "             verbose=1)"
      ]
     },
     "execution_count": 73,
     "metadata": {},
     "output_type": "execute_result"
    }
   ],
   "source": [
    "LR_model.fit(X_train_over,y_train_over)"
   ]
  },
  {
   "cell_type": "code",
   "execution_count": 74,
   "id": "903968c7",
   "metadata": {},
   "outputs": [
    {
     "data": {
      "text/plain": [
       "{'logisticregression__C': 0.6,\n",
       " 'logisticregression__multi_class': 'multinomial',\n",
       " 'logisticregression__penalty': 'l2',\n",
       " 'logisticregression__solver': 'saga',\n",
       " 'simpleimputer__strategy': 'mean'}"
      ]
     },
     "execution_count": 74,
     "metadata": {},
     "output_type": "execute_result"
    }
   ],
   "source": [
    "LR_model.best_params_"
   ]
  },
  {
   "cell_type": "code",
   "execution_count": 75,
   "id": "b1c314ff",
   "metadata": {
    "scrolled": true
   },
   "outputs": [
    {
     "name": "stdout",
     "output_type": "stream",
     "text": [
      "              precision    recall  f1-score   support\n",
      "\n",
      "           0       0.98      0.77      0.87       848\n",
      "           1       0.08      0.57      0.14        30\n",
      "\n",
      "    accuracy                           0.77       878\n",
      "   macro avg       0.53      0.67      0.50       878\n",
      "weighted avg       0.95      0.77      0.84       878\n",
      "\n"
     ]
    }
   ],
   "source": [
    "print(classification_report(y_test,LR_model.predict(X_test)))"
   ]
  },
  {
   "cell_type": "code",
   "execution_count": 76,
   "id": "b074c12a",
   "metadata": {},
   "outputs": [
    {
     "data": {
      "text/plain": [
       "<sklearn.metrics._plot.confusion_matrix.ConfusionMatrixDisplay at 0x1acaf670580>"
      ]
     },
     "execution_count": 76,
     "metadata": {},
     "output_type": "execute_result"
    },
    {
     "data": {
      "image/png": "[encoded data removed]",
      "text/plain": [
       "<Figure size 640x480 with 2 Axes>"
      ]
     },
     "metadata": {},
     "output_type": "display_data"
    }
   ],
   "source": [
    "ConfusionMatrixDisplay.from_estimator(LR_model,X_test,y_test)"
   ]
  },
  {
   "cell_type": "markdown",
   "id": "8b424db2",
   "metadata": {},
   "source": [
    "accuracy is low , recall is low for both (negative and positive labels)"
   ]
  },
  {
   "cell_type": "markdown",
   "id": "5f36b921",
   "metadata": {},
   "source": [
    "## A Function to control the threshhold probabilitly of deciding the label prediction"
   ]
  },
  {
   "cell_type": "code",
   "execution_count": 77,
   "id": "71acc002",
   "metadata": {},
   "outputs": [],
   "source": [
    "import ipywidgets as widgets\n",
    "from ipywidgets import interact"
   ]
  },
  {
   "cell_type": "code",
   "execution_count": 151,
   "id": "0aa2e5a3",
   "metadata": {},
   "outputs": [
    {
     "data": {
      "application/vnd.jupyter.widget-view+json": {
       "model_id": "9a0583e47da54b1d9cf0583d0f885fe3",
       "version_major": 2,
       "version_minor": 0
      },
      "text/plain": [
       "interactive(children=(FloatSlider(value=0.5, description='threshold', max=1.0, step=0.05), Output()), _dom_cla…"
      ]
     },
     "metadata": {},
     "output_type": "display_data"
    }
   ],
   "source": [
    "def make_cnf_matrix(threshold):\n",
    "    y_pred_proba=RF_model.predict_proba(X_test)[:,-1]\n",
    "    y_pred=y_pred_proba>threshold\n",
    "    conf_matrix=confusion_matrix(y_test,y_pred)\n",
    "    tn,fp,fn,tp=conf_matrix.ravel()\n",
    "    print(f\"false positive {fp}\")\n",
    "    print(f\"false negative {fn}\")\n",
    "    ConfusionMatrixDisplay.from_predictions(y_test,y_pred,colorbar=False)\n",
    "    print(classification_report(y_test,y_pred))\n",
    "   \n",
    "\n",
    "\n",
    "thresh_widget = widgets.FloatSlider(min=0,max=1,value=.5,step=.05)\n",
    "\n",
    "interact(make_cnf_matrix, threshold=thresh_widget);"
   ]
  },
  {
   "cell_type": "markdown",
   "id": "65e91711",
   "metadata": {},
   "source": [
    "# Test logisticregression model, and gradient boosting model on new dataset "
   ]
  },
  {
   "cell_type": "code",
   "execution_count": 80,
   "id": "089212be",
   "metadata": {},
   "outputs": [],
   "source": [
    "test_data = arff.loadarff('../data (1)/2year.arff')\n",
    "test_df = pd.DataFrame(test_data[0])"
   ]
  },
  {
   "cell_type": "code",
   "execution_count": 81,
   "id": "51409058",
   "metadata": {},
   "outputs": [
    {
     "data": {
      "text/plain": [
       "(10173, 65)"
      ]
     },
     "execution_count": 81,
     "metadata": {},
     "output_type": "execute_result"
    }
   ],
   "source": [
    "test_df.shape"
   ]
  },
  {
   "cell_type": "code",
   "execution_count": 82,
   "id": "f6c78bd4",
   "metadata": {},
   "outputs": [],
   "source": [
    "test_df=test_df.rename({\"class\":\"bankrupt\"},axis = 1 )"
   ]
  },
  {
   "cell_type": "code",
   "execution_count": 83,
   "id": "dde74cdd",
   "metadata": {},
   "outputs": [],
   "source": [
    "test_df[\"bankrupt\"] = le.fit_transform(test_df.bankrupt)"
   ]
  },
  {
   "cell_type": "code",
   "execution_count": 84,
   "id": "504735ca",
   "metadata": {},
   "outputs": [
    {
     "data": {
      "text/plain": [
       "(10173, 50)"
      ]
     },
     "execution_count": 84,
     "metadata": {},
     "output_type": "execute_result"
    }
   ],
   "source": [
    "test_df = test_df.drop(columns=col_corr)\n",
    "test_df.shape"
   ]
  },
  {
   "cell_type": "code",
   "execution_count": 85,
   "id": "55db3b40",
   "metadata": {},
   "outputs": [],
   "source": [
    "target = \"bankrupt\"\n",
    "final_x_test = test_df.drop(columns=target)\n",
    "final_y_test = test_df[target]"
   ]
  },
  {
   "cell_type": "markdown",
   "id": "2c0b8cc1",
   "metadata": {},
   "source": [
    "###  Testing Logistic regresion "
   ]
  },
  {
   "cell_type": "code",
   "execution_count": 153,
   "id": "a8ddf6a9",
   "metadata": {},
   "outputs": [
    {
     "data": {
      "application/vnd.jupyter.widget-view+json": {
       "model_id": "aed28427e9b14ac792b714e289167a96",
       "version_major": 2,
       "version_minor": 0
      },
      "text/plain": [
       "interactive(children=(FloatSlider(value=0.5, description='threshold', max=1.0, step=0.05), Output()), _dom_cla…"
      ]
     },
     "metadata": {},
     "output_type": "display_data"
    }
   ],
   "source": [
    "def make_cnf_matrix(threshold):\n",
    "    y_pred_proba=RF_model.predict_proba(final_x_test)[:,-1]\n",
    "    y_pred=y_pred_proba>threshold\n",
    "    conf_matrix=confusion_matrix(final_y_test,y_pred)\n",
    "    tn,fp,fn,tp=conf_matrix.ravel()\n",
    "    print(f\"false positive {fp}\")\n",
    "    print(f\"false negative {fn}\")\n",
    "    ConfusionMatrixDisplay.from_predictions(final_y_test,y_pred,colorbar=False)\n",
    "    print(classification_report(final_y_test,y_pred))\n",
    "    \n",
    "   \n",
    "\n",
    "\n",
    "thresh_widget = widgets.FloatSlider(min=0,max=1,value=.5,step=.05)\n",
    "\n",
    "interact(make_cnf_matrix, threshold=thresh_widget);\n"
   ]
  },
  {
   "cell_type": "code",
   "execution_count": 152,
   "id": "385cb3da",
   "metadata": {},
   "outputs": [
    {
     "data": {
      "application/vnd.jupyter.widget-view+json": {
       "model_id": "3e92a29f88564210aa72e59cf330a2e2",
       "version_major": 2,
       "version_minor": 0
      },
      "text/plain": [
       "interactive(children=(FloatSlider(value=0.5, description='threshold', max=1.0, step=0.05), Output()), _dom_cla…"
      ]
     },
     "metadata": {},
     "output_type": "display_data"
    }
   ],
   "source": [
    "def make_cnf_matrix(threshold):\n",
    "    y_pred_proba=GBC_model.predict_proba(final_x_test)[:,-1]\n",
    "    y_pred=y_pred_proba>threshold\n",
    "    conf_matrix=confusion_matrix(final_y_test,y_pred)\n",
    "    tn,fp,fn,tp=conf_matrix.ravel()\n",
    "    print(f\"false positive {fp}\")\n",
    "    print(f\"false negative {fn}\")\n",
    "    ConfusionMatrixDisplay.from_predictions(final_y_test,y_pred,colorbar=False)\n",
    "    print(classification_report(final_y_test,y_pred))\n",
    "    \n",
    "   \n",
    "\n",
    "\n",
    "thresh_widget = widgets.FloatSlider(min=0,max=1,value=.5,step=.05)\n",
    "\n",
    "interact(make_cnf_matrix, threshold=thresh_widget);"
   ]
  },
  {
   "cell_type": "code",
   "execution_count": null,
   "id": "8d9fe25a",
   "metadata": {},
   "outputs": [],
   "source": []
  }
 ],
 "metadata": {
  "kernelspec": {
   "display_name": "Python 3 (ipykernel)",
   "language": "python",
   "name": "python3"
  },
  "language_info": {
   "codemirror_mode": {
    "name": "ipython",
    "version": 3
   },
   "file_extension": ".py",
   "mimetype": "text/x-python",
   "name": "python",
   "nbconvert_exporter": "python",
   "pygments_lexer": "ipython3",
   "version": "3.9.7"
  }
 },
 "nbformat": 4,
 "nbformat_minor": 5
}
