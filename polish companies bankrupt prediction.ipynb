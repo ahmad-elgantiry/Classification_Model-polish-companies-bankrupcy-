{
 "cells": [
  {
   "cell_type": "markdown",
   "id": "ef16e0b7",
   "metadata": {},
   "source": [
    "The dataset is about bankruptcy prediction of Polish companies. The data was collected from Emerging Markets Information Service ([EMIS](https://www.emis.com)), which is a database containing information on emerging markets around the world. The bankrupt companies were analyzed in the period 2000-2012, while the still operating companies were evaluated from 2007 to 2013.\n",
    "datasetLink:\"https://archive.ics.uci.edu/ml/datasets/Polish+companies+bankruptcy+data\""
   ]
  },
  {
   "cell_type": "code",
   "execution_count": 1,
   "id": "b44636e2",
   "metadata": {},
   "outputs": [],
   "source": [
    "#importing libraries \n",
    "import matplotlib.pyplot as plt\n",
    "import numpy as np\n",
    "import seaborn as sns\n",
    "import pandas as pd\n",
    "from imblearn.over_sampling import RandomOverSampler\n",
    "from imblearn.under_sampling import RandomUnderSampler\n",
    "from sklearn.impute import SimpleImputer\n",
    "from sklearn.metrics import ConfusionMatrixDisplay, confusion_matrix\n",
    "from sklearn.model_selection import train_test_split,GridSearchCV, cross_val_score\n",
    "from sklearn.pipeline import make_pipeline\n",
    "from sklearn.preprocessing import StandardScaler\n"
   ]
  },
  {
   "cell_type": "code",
   "execution_count": 2,
   "id": "f12f6588",
   "metadata": {},
   "outputs": [],
   "source": [
    "#the data was in arff file formate,so i used scipy library to read it \n",
    "from scipy.io import arff\n",
    "data = arff.loadarff('3year.arff')\n",
    "df = pd.DataFrame(data[0])"
   ]
  },
  {
   "cell_type": "code",
   "execution_count": 3,
   "id": "5f6f7f8f",
   "metadata": {},
   "outputs": [
    {
     "data": {
      "text/plain": [
       "(10503, 65)"
      ]
     },
     "execution_count": 3,
     "metadata": {},
     "output_type": "execute_result"
    }
   ],
   "source": [
    "df.shape"
   ]
  },
  {
   "cell_type": "code",
   "execution_count": 4,
   "id": "57bbf772",
   "metadata": {},
   "outputs": [
    {
     "data": {
      "text/plain": [
       "Index(['Attr1', 'Attr2', 'Attr3', 'Attr4', 'Attr5', 'Attr6', 'Attr7', 'Attr8',\n",
       "       'Attr9', 'Attr10', 'Attr11', 'Attr12', 'Attr13', 'Attr14', 'Attr15',\n",
       "       'Attr16', 'Attr17', 'Attr18', 'Attr19', 'Attr20', 'Attr21', 'Attr22',\n",
       "       'Attr23', 'Attr24', 'Attr25', 'Attr26', 'Attr27', 'Attr28', 'Attr29',\n",
       "       'Attr30', 'Attr31', 'Attr32', 'Attr33', 'Attr34', 'Attr35', 'Attr36',\n",
       "       'Attr37', 'Attr38', 'Attr39', 'Attr40', 'Attr41', 'Attr42', 'Attr43',\n",
       "       'Attr44', 'Attr45', 'Attr46', 'Attr47', 'Attr48', 'Attr49', 'Attr50',\n",
       "       'Attr51', 'Attr52', 'Attr53', 'Attr54', 'Attr55', 'Attr56', 'Attr57',\n",
       "       'Attr58', 'Attr59', 'Attr60', 'Attr61', 'Attr62', 'Attr63', 'Attr64',\n",
       "       'class'],\n",
       "      dtype='object')"
      ]
     },
     "execution_count": 4,
     "metadata": {},
     "output_type": "execute_result"
    }
   ],
   "source": [
    "df.columns"
   ]
  },
  {
   "cell_type": "code",
   "execution_count": 5,
   "id": "c9650a98",
   "metadata": {},
   "outputs": [],
   "source": [
    "df=df.rename({\"class\":\"bankrupt\"},axis = 1 )\n"
   ]
  },
  {
   "cell_type": "code",
   "execution_count": 6,
   "id": "789695cb",
   "metadata": {},
   "outputs": [
    {
     "data": {
      "text/plain": [
       "'bankrupt'"
      ]
     },
     "execution_count": 6,
     "metadata": {},
     "output_type": "execute_result"
    }
   ],
   "source": [
    "df.columns[-1]"
   ]
  },
  {
   "cell_type": "code",
   "execution_count": 7,
   "id": "daa1e6dd",
   "metadata": {
    "scrolled": true
   },
   "outputs": [
    {
     "data": {
      "text/html": [
       "<div>\n",
       "<style scoped>\n",
       "    .dataframe tbody tr th:only-of-type {\n",
       "        vertical-align: middle;\n",
       "    }\n",
       "\n",
       "    .dataframe tbody tr th {\n",
       "        vertical-align: top;\n",
       "    }\n",
       "\n",
       "    .dataframe thead th {\n",
       "        text-align: right;\n",
       "    }\n",
       "</style>\n",
       "<table border=\"1\" class=\"dataframe\">\n",
       "  <thead>\n",
       "    <tr style=\"text-align: right;\">\n",
       "      <th></th>\n",
       "      <th>Attr1</th>\n",
       "      <th>Attr2</th>\n",
       "      <th>Attr3</th>\n",
       "      <th>Attr4</th>\n",
       "      <th>Attr5</th>\n",
       "      <th>Attr6</th>\n",
       "      <th>Attr7</th>\n",
       "      <th>Attr8</th>\n",
       "      <th>Attr9</th>\n",
       "      <th>Attr10</th>\n",
       "      <th>...</th>\n",
       "      <th>Attr56</th>\n",
       "      <th>Attr57</th>\n",
       "      <th>Attr58</th>\n",
       "      <th>Attr59</th>\n",
       "      <th>Attr60</th>\n",
       "      <th>Attr61</th>\n",
       "      <th>Attr62</th>\n",
       "      <th>Attr63</th>\n",
       "      <th>Attr64</th>\n",
       "      <th>bankrupt</th>\n",
       "    </tr>\n",
       "  </thead>\n",
       "  <tbody>\n",
       "    <tr>\n",
       "      <th>0</th>\n",
       "      <td>0.174190</td>\n",
       "      <td>0.41299</td>\n",
       "      <td>0.14371</td>\n",
       "      <td>1.3480</td>\n",
       "      <td>-28.9820</td>\n",
       "      <td>0.60383</td>\n",
       "      <td>0.219460</td>\n",
       "      <td>1.1225</td>\n",
       "      <td>1.1961</td>\n",
       "      <td>0.46359</td>\n",
       "      <td>...</td>\n",
       "      <td>0.163960</td>\n",
       "      <td>0.375740</td>\n",
       "      <td>0.83604</td>\n",
       "      <td>0.000007</td>\n",
       "      <td>9.7145</td>\n",
       "      <td>6.2813</td>\n",
       "      <td>84.291</td>\n",
       "      <td>4.3303</td>\n",
       "      <td>4.0341</td>\n",
       "      <td>b'0'</td>\n",
       "    </tr>\n",
       "    <tr>\n",
       "      <th>1</th>\n",
       "      <td>0.146240</td>\n",
       "      <td>0.46038</td>\n",
       "      <td>0.28230</td>\n",
       "      <td>1.6294</td>\n",
       "      <td>2.5952</td>\n",
       "      <td>0.00000</td>\n",
       "      <td>0.171850</td>\n",
       "      <td>1.1721</td>\n",
       "      <td>1.6018</td>\n",
       "      <td>0.53962</td>\n",
       "      <td>...</td>\n",
       "      <td>0.027516</td>\n",
       "      <td>0.271000</td>\n",
       "      <td>0.90108</td>\n",
       "      <td>0.000000</td>\n",
       "      <td>5.9882</td>\n",
       "      <td>4.1103</td>\n",
       "      <td>102.190</td>\n",
       "      <td>3.5716</td>\n",
       "      <td>5.9500</td>\n",
       "      <td>b'0'</td>\n",
       "    </tr>\n",
       "    <tr>\n",
       "      <th>2</th>\n",
       "      <td>0.000595</td>\n",
       "      <td>0.22612</td>\n",
       "      <td>0.48839</td>\n",
       "      <td>3.1599</td>\n",
       "      <td>84.8740</td>\n",
       "      <td>0.19114</td>\n",
       "      <td>0.004572</td>\n",
       "      <td>2.9881</td>\n",
       "      <td>1.0077</td>\n",
       "      <td>0.67566</td>\n",
       "      <td>...</td>\n",
       "      <td>0.007639</td>\n",
       "      <td>0.000881</td>\n",
       "      <td>0.99236</td>\n",
       "      <td>0.000000</td>\n",
       "      <td>6.7742</td>\n",
       "      <td>3.7922</td>\n",
       "      <td>64.846</td>\n",
       "      <td>5.6287</td>\n",
       "      <td>4.4581</td>\n",
       "      <td>b'0'</td>\n",
       "    </tr>\n",
       "  </tbody>\n",
       "</table>\n",
       "<p>3 rows × 65 columns</p>\n",
       "</div>"
      ],
      "text/plain": [
       "      Attr1    Attr2    Attr3   Attr4    Attr5    Attr6     Attr7   Attr8  \\\n",
       "0  0.174190  0.41299  0.14371  1.3480 -28.9820  0.60383  0.219460  1.1225   \n",
       "1  0.146240  0.46038  0.28230  1.6294   2.5952  0.00000  0.171850  1.1721   \n",
       "2  0.000595  0.22612  0.48839  3.1599  84.8740  0.19114  0.004572  2.9881   \n",
       "\n",
       "    Attr9   Attr10  ...    Attr56    Attr57   Attr58    Attr59  Attr60  \\\n",
       "0  1.1961  0.46359  ...  0.163960  0.375740  0.83604  0.000007  9.7145   \n",
       "1  1.6018  0.53962  ...  0.027516  0.271000  0.90108  0.000000  5.9882   \n",
       "2  1.0077  0.67566  ...  0.007639  0.000881  0.99236  0.000000  6.7742   \n",
       "\n",
       "   Attr61   Attr62  Attr63  Attr64  bankrupt  \n",
       "0  6.2813   84.291  4.3303  4.0341      b'0'  \n",
       "1  4.1103  102.190  3.5716  5.9500      b'0'  \n",
       "2  3.7922   64.846  5.6287  4.4581      b'0'  \n",
       "\n",
       "[3 rows x 65 columns]"
      ]
     },
     "execution_count": 7,
     "metadata": {},
     "output_type": "execute_result"
    }
   ],
   "source": [
    "df.head(3)"
   ]
  },
  {
   "cell_type": "code",
   "execution_count": 8,
   "id": "e0f460c0",
   "metadata": {
    "scrolled": true
   },
   "outputs": [
    {
     "data": {
      "text/html": [
       "<div>\n",
       "<style scoped>\n",
       "    .dataframe tbody tr th:only-of-type {\n",
       "        vertical-align: middle;\n",
       "    }\n",
       "\n",
       "    .dataframe tbody tr th {\n",
       "        vertical-align: top;\n",
       "    }\n",
       "\n",
       "    .dataframe thead th {\n",
       "        text-align: right;\n",
       "    }\n",
       "</style>\n",
       "<table border=\"1\" class=\"dataframe\">\n",
       "  <thead>\n",
       "    <tr style=\"text-align: right;\">\n",
       "      <th></th>\n",
       "      <th>Attr1</th>\n",
       "      <th>Attr2</th>\n",
       "      <th>Attr3</th>\n",
       "      <th>Attr4</th>\n",
       "      <th>Attr5</th>\n",
       "      <th>Attr6</th>\n",
       "      <th>Attr7</th>\n",
       "      <th>Attr8</th>\n",
       "      <th>Attr9</th>\n",
       "      <th>Attr10</th>\n",
       "      <th>...</th>\n",
       "      <th>Attr56</th>\n",
       "      <th>Attr57</th>\n",
       "      <th>Attr58</th>\n",
       "      <th>Attr59</th>\n",
       "      <th>Attr60</th>\n",
       "      <th>Attr61</th>\n",
       "      <th>Attr62</th>\n",
       "      <th>Attr63</th>\n",
       "      <th>Attr64</th>\n",
       "      <th>bankrupt</th>\n",
       "    </tr>\n",
       "    <tr>\n",
       "      <th>company_id</th>\n",
       "      <th></th>\n",
       "      <th></th>\n",
       "      <th></th>\n",
       "      <th></th>\n",
       "      <th></th>\n",
       "      <th></th>\n",
       "      <th></th>\n",
       "      <th></th>\n",
       "      <th></th>\n",
       "      <th></th>\n",
       "      <th></th>\n",
       "      <th></th>\n",
       "      <th></th>\n",
       "      <th></th>\n",
       "      <th></th>\n",
       "      <th></th>\n",
       "      <th></th>\n",
       "      <th></th>\n",
       "      <th></th>\n",
       "      <th></th>\n",
       "      <th></th>\n",
       "    </tr>\n",
       "  </thead>\n",
       "  <tbody>\n",
       "    <tr>\n",
       "      <th>0</th>\n",
       "      <td>0.17419</td>\n",
       "      <td>0.41299</td>\n",
       "      <td>0.14371</td>\n",
       "      <td>1.3480</td>\n",
       "      <td>-28.9820</td>\n",
       "      <td>0.60383</td>\n",
       "      <td>0.21946</td>\n",
       "      <td>1.1225</td>\n",
       "      <td>1.1961</td>\n",
       "      <td>0.46359</td>\n",
       "      <td>...</td>\n",
       "      <td>0.163960</td>\n",
       "      <td>0.37574</td>\n",
       "      <td>0.83604</td>\n",
       "      <td>0.000007</td>\n",
       "      <td>9.7145</td>\n",
       "      <td>6.2813</td>\n",
       "      <td>84.291</td>\n",
       "      <td>4.3303</td>\n",
       "      <td>4.0341</td>\n",
       "      <td>b'0'</td>\n",
       "    </tr>\n",
       "    <tr>\n",
       "      <th>1</th>\n",
       "      <td>0.14624</td>\n",
       "      <td>0.46038</td>\n",
       "      <td>0.28230</td>\n",
       "      <td>1.6294</td>\n",
       "      <td>2.5952</td>\n",
       "      <td>0.00000</td>\n",
       "      <td>0.17185</td>\n",
       "      <td>1.1721</td>\n",
       "      <td>1.6018</td>\n",
       "      <td>0.53962</td>\n",
       "      <td>...</td>\n",
       "      <td>0.027516</td>\n",
       "      <td>0.27100</td>\n",
       "      <td>0.90108</td>\n",
       "      <td>0.000000</td>\n",
       "      <td>5.9882</td>\n",
       "      <td>4.1103</td>\n",
       "      <td>102.190</td>\n",
       "      <td>3.5716</td>\n",
       "      <td>5.9500</td>\n",
       "      <td>b'0'</td>\n",
       "    </tr>\n",
       "  </tbody>\n",
       "</table>\n",
       "<p>2 rows × 65 columns</p>\n",
       "</div>"
      ],
      "text/plain": [
       "              Attr1    Attr2    Attr3   Attr4    Attr5    Attr6    Attr7  \\\n",
       "company_id                                                                 \n",
       "0           0.17419  0.41299  0.14371  1.3480 -28.9820  0.60383  0.21946   \n",
       "1           0.14624  0.46038  0.28230  1.6294   2.5952  0.00000  0.17185   \n",
       "\n",
       "             Attr8   Attr9   Attr10  ...    Attr56   Attr57   Attr58  \\\n",
       "company_id                           ...                               \n",
       "0           1.1225  1.1961  0.46359  ...  0.163960  0.37574  0.83604   \n",
       "1           1.1721  1.6018  0.53962  ...  0.027516  0.27100  0.90108   \n",
       "\n",
       "              Attr59  Attr60  Attr61   Attr62  Attr63  Attr64  bankrupt  \n",
       "company_id                                                               \n",
       "0           0.000007  9.7145  6.2813   84.291  4.3303  4.0341      b'0'  \n",
       "1           0.000000  5.9882  4.1103  102.190  3.5716  5.9500      b'0'  \n",
       "\n",
       "[2 rows x 65 columns]"
      ]
     },
     "execution_count": 8,
     "metadata": {},
     "output_type": "execute_result"
    }
   ],
   "source": [
    "# setting the index name as company_id \n",
    "df.index.name = \"company_id\"\n",
    "df.head(2)"
   ]
  },
  {
   "cell_type": "code",
   "execution_count": 9,
   "id": "b39d0e76",
   "metadata": {},
   "outputs": [
    {
     "data": {
      "text/plain": [
       "b'0'    10008\n",
       "b'1'      495\n",
       "Name: bankrupt, dtype: int64"
      ]
     },
     "execution_count": 9,
     "metadata": {},
     "output_type": "execute_result"
    }
   ],
   "source": [
    "df[\"bankrupt\"].value_counts()"
   ]
  },
  {
   "cell_type": "code",
   "execution_count": 10,
   "id": "0b1c432e",
   "metadata": {},
   "outputs": [
    {
     "data": {
      "text/plain": [
       "<AxesSubplot:title={'center':'data_balance'}, xlabel='class', ylabel='frequency'>"
      ]
     },
     "execution_count": 10,
     "metadata": {},
     "output_type": "execute_result"
    },
    {
     "data": {
      "image/png": "[encoded data removed]",
      "text/plain": [
       "<Figure size 640x480 with 1 Axes>"
      ]
     },
     "metadata": {},
     "output_type": "display_data"
    }
   ],
   "source": [
    "#visualizing the data class imbalance\n",
    "(df[\"bankrupt\"].value_counts(normalize=True)\n",
    " .plot(kind=\"bar\",xlabel=\"class\",ylabel=\"frequency\",title=\"data_balance\"))"
   ]
  },
  {
   "cell_type": "code",
   "execution_count": 11,
   "id": "bacccc00",
   "metadata": {},
   "outputs": [],
   "source": [
    "# encoding the labels to [0] and [1]\n",
    "from sklearn.preprocessing import LabelEncoder\n",
    "le = LabelEncoder()\n",
    "df[\"bankrupt\"] = le.fit_transform(df.bankrupt)"
   ]
  },
  {
   "cell_type": "code",
   "execution_count": 12,
   "id": "bef1b8e5",
   "metadata": {
    "scrolled": true
   },
   "outputs": [
    {
     "data": {
      "text/html": [
       "<div>\n",
       "<style scoped>\n",
       "    .dataframe tbody tr th:only-of-type {\n",
       "        vertical-align: middle;\n",
       "    }\n",
       "\n",
       "    .dataframe tbody tr th {\n",
       "        vertical-align: top;\n",
       "    }\n",
       "\n",
       "    .dataframe thead th {\n",
       "        text-align: right;\n",
       "    }\n",
       "</style>\n",
       "<table border=\"1\" class=\"dataframe\">\n",
       "  <thead>\n",
       "    <tr style=\"text-align: right;\">\n",
       "      <th></th>\n",
       "      <th>Attr1</th>\n",
       "      <th>Attr2</th>\n",
       "      <th>Attr3</th>\n",
       "      <th>Attr4</th>\n",
       "      <th>Attr5</th>\n",
       "      <th>Attr6</th>\n",
       "      <th>Attr7</th>\n",
       "      <th>Attr8</th>\n",
       "      <th>Attr9</th>\n",
       "      <th>Attr10</th>\n",
       "      <th>...</th>\n",
       "      <th>Attr56</th>\n",
       "      <th>Attr57</th>\n",
       "      <th>Attr58</th>\n",
       "      <th>Attr59</th>\n",
       "      <th>Attr60</th>\n",
       "      <th>Attr61</th>\n",
       "      <th>Attr62</th>\n",
       "      <th>Attr63</th>\n",
       "      <th>Attr64</th>\n",
       "      <th>bankrupt</th>\n",
       "    </tr>\n",
       "    <tr>\n",
       "      <th>company_id</th>\n",
       "      <th></th>\n",
       "      <th></th>\n",
       "      <th></th>\n",
       "      <th></th>\n",
       "      <th></th>\n",
       "      <th></th>\n",
       "      <th></th>\n",
       "      <th></th>\n",
       "      <th></th>\n",
       "      <th></th>\n",
       "      <th></th>\n",
       "      <th></th>\n",
       "      <th></th>\n",
       "      <th></th>\n",
       "      <th></th>\n",
       "      <th></th>\n",
       "      <th></th>\n",
       "      <th></th>\n",
       "      <th></th>\n",
       "      <th></th>\n",
       "      <th></th>\n",
       "    </tr>\n",
       "  </thead>\n",
       "  <tbody>\n",
       "    <tr>\n",
       "      <th>0</th>\n",
       "      <td>0.17419</td>\n",
       "      <td>0.41299</td>\n",
       "      <td>0.14371</td>\n",
       "      <td>1.3480</td>\n",
       "      <td>-28.9820</td>\n",
       "      <td>0.60383</td>\n",
       "      <td>0.21946</td>\n",
       "      <td>1.1225</td>\n",
       "      <td>1.1961</td>\n",
       "      <td>0.46359</td>\n",
       "      <td>...</td>\n",
       "      <td>0.163960</td>\n",
       "      <td>0.37574</td>\n",
       "      <td>0.83604</td>\n",
       "      <td>0.000007</td>\n",
       "      <td>9.7145</td>\n",
       "      <td>6.2813</td>\n",
       "      <td>84.291</td>\n",
       "      <td>4.3303</td>\n",
       "      <td>4.0341</td>\n",
       "      <td>0</td>\n",
       "    </tr>\n",
       "    <tr>\n",
       "      <th>1</th>\n",
       "      <td>0.14624</td>\n",
       "      <td>0.46038</td>\n",
       "      <td>0.28230</td>\n",
       "      <td>1.6294</td>\n",
       "      <td>2.5952</td>\n",
       "      <td>0.00000</td>\n",
       "      <td>0.17185</td>\n",
       "      <td>1.1721</td>\n",
       "      <td>1.6018</td>\n",
       "      <td>0.53962</td>\n",
       "      <td>...</td>\n",
       "      <td>0.027516</td>\n",
       "      <td>0.27100</td>\n",
       "      <td>0.90108</td>\n",
       "      <td>0.000000</td>\n",
       "      <td>5.9882</td>\n",
       "      <td>4.1103</td>\n",
       "      <td>102.190</td>\n",
       "      <td>3.5716</td>\n",
       "      <td>5.9500</td>\n",
       "      <td>0</td>\n",
       "    </tr>\n",
       "  </tbody>\n",
       "</table>\n",
       "<p>2 rows × 65 columns</p>\n",
       "</div>"
      ],
      "text/plain": [
       "              Attr1    Attr2    Attr3   Attr4    Attr5    Attr6    Attr7  \\\n",
       "company_id                                                                 \n",
       "0           0.17419  0.41299  0.14371  1.3480 -28.9820  0.60383  0.21946   \n",
       "1           0.14624  0.46038  0.28230  1.6294   2.5952  0.00000  0.17185   \n",
       "\n",
       "             Attr8   Attr9   Attr10  ...    Attr56   Attr57   Attr58  \\\n",
       "company_id                           ...                               \n",
       "0           1.1225  1.1961  0.46359  ...  0.163960  0.37574  0.83604   \n",
       "1           1.1721  1.6018  0.53962  ...  0.027516  0.27100  0.90108   \n",
       "\n",
       "              Attr59  Attr60  Attr61   Attr62  Attr63  Attr64  bankrupt  \n",
       "company_id                                                               \n",
       "0           0.000007  9.7145  6.2813   84.291  4.3303  4.0341         0  \n",
       "1           0.000000  5.9882  4.1103  102.190  3.5716  5.9500         0  \n",
       "\n",
       "[2 rows x 65 columns]"
      ]
     },
     "execution_count": 12,
     "metadata": {},
     "output_type": "execute_result"
    }
   ],
   "source": [
    "df.head(2)\n",
    "#noticing that (0) means (not_bankrupted) , and (1) means (bankrupted)"
   ]
  },
  {
   "cell_type": "markdown",
   "id": "261ee82d",
   "metadata": {},
   "source": [
    "## checking corrolated features and deleting it "
   ]
  },
  {
   "cell_type": "code",
   "execution_count": 13,
   "id": "7dcbe243",
   "metadata": {},
   "outputs": [
    {
     "name": "stdout",
     "output_type": "stream",
     "text": [
      "['Attr3', 'Attr7', 'Attr10', 'Attr11', 'Attr14', 'Attr17', 'Attr23', 'Attr25', 'Attr26', 'Attr38', 'Attr46', 'Attr49', 'Attr50', 'Attr51', 'Attr52', 'Attr54', 'Attr58', 'Attr62']\n"
     ]
    }
   ],
   "source": [
    "#find the corrolated features (corrolation more than .98)\n",
    "corr_matrix=df.corr().abs()\n",
    "upper_tri = corr_matrix.where(np.triu(np.ones(corr_matrix.shape),k=1).astype(bool))\n",
    "to_drop = [column for column in upper_tri.columns if any(upper_tri[column] > 0.99)]\n",
    "print(to_drop)"
   ]
  },
  {
   "cell_type": "code",
   "execution_count": 14,
   "id": "89656569",
   "metadata": {},
   "outputs": [],
   "source": [
    "# another function to find the corrolation (this is for my reference )\n",
    "def correlation(dataset, threshold):\n",
    "    col_corr = list() # Set of all the names of deleted columns\n",
    "    corr_matrix = dataset.corr()\n",
    "    for i in range(len(corr_matrix.columns)):\n",
    "        for j in range(i):\n",
    "            if (corr_matrix.iloc[i, j] >= threshold) and (corr_matrix.columns[j] not in col_corr):\n",
    "                colname = corr_matrix.columns[i] # getting the name of column\n",
    "                col_corr.append(colname)\n",
    "    return col_corr   \n",
    "col_corr=correlation(df,.99)"
   ]
  },
  {
   "cell_type": "code",
   "execution_count": 15,
   "id": "c9217549",
   "metadata": {},
   "outputs": [
    {
     "data": {
      "text/plain": [
       "['Attr7',\n",
       " 'Attr10',\n",
       " 'Attr14',\n",
       " 'Attr14',\n",
       " 'Attr17',\n",
       " 'Attr23',\n",
       " 'Attr25',\n",
       " 'Attr26',\n",
       " 'Attr38',\n",
       " 'Attr46',\n",
       " 'Attr49',\n",
       " 'Attr50',\n",
       " 'Attr51',\n",
       " 'Attr52',\n",
       " 'Attr54',\n",
       " 'Attr62']"
      ]
     },
     "execution_count": 15,
     "metadata": {},
     "output_type": "execute_result"
    }
   ],
   "source": [
    "col_corr"
   ]
  },
  {
   "cell_type": "code",
   "execution_count": 16,
   "id": "b0245218",
   "metadata": {},
   "outputs": [
    {
     "data": {
      "text/plain": [
       "(10503, 50)"
      ]
     },
     "execution_count": 16,
     "metadata": {},
     "output_type": "execute_result"
    }
   ],
   "source": [
    "df = df.drop(columns=col_corr)\n",
    "df.shape"
   ]
  },
  {
   "cell_type": "markdown",
   "id": "b11ebc61",
   "metadata": {},
   "source": [
    "## checking features normality and removing outliers "
   ]
  },
  {
   "cell_type": "code",
   "execution_count": 17,
   "id": "dd2be707",
   "metadata": {},
   "outputs": [
    {
     "data": {
      "image/png": "[encoded data removed]",
      "text/plain": [
       "<Figure size 1500x500 with 1 Axes>"
      ]
     },
     "metadata": {},
     "output_type": "display_data"
    },
    {
     "data": {
      "image/png": "[encoded data removed]",
      "text/plain": [
       "<Figure size 1500x500 with 1 Axes>"
      ]
     },
     "metadata": {},
     "output_type": "display_data"
    },
    {
     "data": {
      "image/png": "[encoded data removed]",
      "text/plain": [
       "<Figure size 1500x500 with 1 Axes>"
      ]
     },
     "metadata": {},
     "output_type": "display_data"
    }
   ],
   "source": [
    "# Create boxplot for all data \n",
    " \n",
    "j=0    \n",
    "while j<=len(df.columns):\n",
    "    features_group=list(df.columns[j:j+20])\n",
    "    j+=20\n",
    "    plt.figure(figsize=(15,5))\n",
    "    sns.boxplot(data=df[features_group])\n",
    "    plt.xlabel(\"10_features\")\n",
    "    plt.ylabel(\"features_values\")\n",
    "    plt.title(\"all_boxplots\")\n",
    "    plt.show();"
   ]
  },
  {
   "cell_type": "markdown",
   "id": "d293b9b3",
   "metadata": {},
   "source": [
    "boxblots shows that there is many features with many outliers (this observation needs more invistigation )"
   ]
  },
  {
   "cell_type": "markdown",
   "id": "fe4ecce9",
   "metadata": {},
   "source": [
    "#### as shown in the previous boxplots ,many features has unusual standard variation , which may indicate outliers in the data \n"
   ]
  },
  {
   "cell_type": "markdown",
   "id": "2088606f",
   "metadata": {},
   "source": [
    "## deleting outliers "
   ]
  },
  {
   "cell_type": "code",
   "execution_count": 18,
   "id": "124d4a07",
   "metadata": {},
   "outputs": [],
   "source": [
    "def find_outliers_IQR(df):\n",
    "\n",
    "    q1=df.quantile(0.25)\n",
    "\n",
    "    q3=df.quantile(0.75)\n",
    "\n",
    "    IQR=q3-q1\n",
    "\n",
    "    outliers = df[((df<(q1-1.5*IQR)) | (df>(q3+1.5*IQR)))]\n",
    "\n",
    "    return outliers"
   ]
  },
  {
   "cell_type": "code",
   "execution_count": 19,
   "id": "81bf9750",
   "metadata": {},
   "outputs": [
    {
     "name": "stdout",
     "output_type": "stream",
     "text": [
      "(9237, 50)\n",
      "(9125, 50)\n",
      "(9016, 50)\n",
      "(8078, 50)\n",
      "(7068, 50)\n",
      "(5833, 50)\n",
      "(5370, 50)\n",
      "(5086, 50)\n",
      "(4915, 50)\n",
      "(4528, 50)\n",
      "(4296, 50)\n",
      "(3549, 50)\n",
      "(3410, 50)\n",
      "(3336, 50)\n",
      "(3246, 50)\n",
      "(3089, 50)\n",
      "(2929, 50)\n",
      "(2891, 50)\n",
      "(2786, 50)\n",
      "(2441, 50)\n",
      "(2181, 50)\n",
      "(2139, 50)\n",
      "(2053, 50)\n",
      "(1996, 50)\n",
      "(1940, 50)\n",
      "(1838, 50)\n",
      "(1817, 50)\n",
      "(1759, 50)\n",
      "(1698, 50)\n",
      "(1519, 50)\n",
      "(1492, 50)\n",
      "(1352, 50)\n",
      "(1277, 50)\n",
      "(1270, 50)\n",
      "(1237, 50)\n",
      "(1217, 50)\n",
      "(1116, 50)\n",
      "(1098, 50)\n",
      "(1083, 50)\n",
      "(1040, 50)\n",
      "(847, 50)\n",
      "(811, 50)\n",
      "(769, 50)\n",
      "(755, 50)\n",
      "(713, 50)\n",
      "(666, 50)\n",
      "(619, 50)\n",
      "(600, 50)\n",
      "(569, 50)\n"
     ]
    }
   ],
   "source": [
    "for i in df.columns.to_list()[:-1]:\n",
    "    \n",
    "    index = find_outliers_IQR(df[i]).index\n",
    "    df.drop(index,axis=0,inplace=True)\n",
    "    print(df.shape)"
   ]
  },
  {
   "cell_type": "code",
   "execution_count": 20,
   "id": "7248c60d",
   "metadata": {},
   "outputs": [
    {
     "data": {
      "text/plain": [
       "1"
      ]
     },
     "execution_count": 20,
     "metadata": {},
     "output_type": "execute_result"
    }
   ],
   "source": [
    "#checking the corrolation between the features and the target \n",
    "sum(pd.DataFrame(df.corr())[\"bankrupt\"].abs().sort_values()>.7)"
   ]
  },
  {
   "cell_type": "markdown",
   "id": "8e4e7025",
   "metadata": {},
   "source": [
    "there is no corrolation between any feature and the target "
   ]
  },
  {
   "cell_type": "markdown",
   "id": "369c6087",
   "metadata": {},
   "source": [
    "## Split the data "
   ]
  },
  {
   "cell_type": "code",
   "execution_count": 21,
   "id": "ac8d0b5f",
   "metadata": {},
   "outputs": [],
   "source": [
    "target = \"bankrupt\"\n",
    "X = df.drop(columns=target)\n",
    "y = df[target]"
   ]
  },
  {
   "cell_type": "code",
   "execution_count": 22,
   "id": "7fac7261",
   "metadata": {},
   "outputs": [],
   "source": [
    "X_train, X_test, y_train, y_test = train_test_split(X,y,test_size=.2,random_state=42)"
   ]
  },
  {
   "cell_type": "markdown",
   "id": "342fe2b3",
   "metadata": {},
   "source": [
    "## oversampling"
   ]
  },
  {
   "cell_type": "code",
   "execution_count": 23,
   "id": "b9adeaa0",
   "metadata": {},
   "outputs": [
    {
     "data": {
      "text/plain": [
       "0    548\n",
       "1     21\n",
       "Name: bankrupt, dtype: int64"
      ]
     },
     "execution_count": 23,
     "metadata": {},
     "output_type": "execute_result"
    }
   ],
   "source": [
    "#checking again for data balance \n",
    "df[\"bankrupt\"].value_counts()\n"
   ]
  },
  {
   "cell_type": "code",
   "execution_count": 24,
   "id": "d1d1a5db",
   "metadata": {},
   "outputs": [
    {
     "name": "stdout",
     "output_type": "stream",
     "text": [
      "(886, 49)\n"
     ]
    },
    {
     "data": {
      "text/html": [
       "<div>\n",
       "<style scoped>\n",
       "    .dataframe tbody tr th:only-of-type {\n",
       "        vertical-align: middle;\n",
       "    }\n",
       "\n",
       "    .dataframe tbody tr th {\n",
       "        vertical-align: top;\n",
       "    }\n",
       "\n",
       "    .dataframe thead th {\n",
       "        text-align: right;\n",
       "    }\n",
       "</style>\n",
       "<table border=\"1\" class=\"dataframe\">\n",
       "  <thead>\n",
       "    <tr style=\"text-align: right;\">\n",
       "      <th></th>\n",
       "      <th>Attr1</th>\n",
       "      <th>Attr2</th>\n",
       "      <th>Attr3</th>\n",
       "      <th>Attr4</th>\n",
       "      <th>Attr5</th>\n",
       "      <th>Attr6</th>\n",
       "      <th>Attr8</th>\n",
       "      <th>Attr9</th>\n",
       "      <th>Attr11</th>\n",
       "      <th>Attr12</th>\n",
       "      <th>...</th>\n",
       "      <th>Attr53</th>\n",
       "      <th>Attr55</th>\n",
       "      <th>Attr56</th>\n",
       "      <th>Attr57</th>\n",
       "      <th>Attr58</th>\n",
       "      <th>Attr59</th>\n",
       "      <th>Attr60</th>\n",
       "      <th>Attr61</th>\n",
       "      <th>Attr63</th>\n",
       "      <th>Attr64</th>\n",
       "    </tr>\n",
       "  </thead>\n",
       "  <tbody>\n",
       "    <tr>\n",
       "      <th>0</th>\n",
       "      <td>0.103310</td>\n",
       "      <td>0.48495</td>\n",
       "      <td>0.172420</td>\n",
       "      <td>1.4292</td>\n",
       "      <td>3.27310</td>\n",
       "      <td>0.17263</td>\n",
       "      <td>1.00400</td>\n",
       "      <td>1.0666</td>\n",
       "      <td>0.127320</td>\n",
       "      <td>0.316900</td>\n",
       "      <td>...</td>\n",
       "      <td>1.1435</td>\n",
       "      <td>5201.40</td>\n",
       "      <td>0.062403</td>\n",
       "      <td>0.212180</td>\n",
       "      <td>0.93760</td>\n",
       "      <td>0.17085</td>\n",
       "      <td>14.3740</td>\n",
       "      <td>6.8038</td>\n",
       "      <td>5.4872</td>\n",
       "      <td>5.1775</td>\n",
       "    </tr>\n",
       "    <tr>\n",
       "      <th>1</th>\n",
       "      <td>0.004536</td>\n",
       "      <td>0.57049</td>\n",
       "      <td>0.127130</td>\n",
       "      <td>1.2411</td>\n",
       "      <td>-18.26400</td>\n",
       "      <td>0.00000</td>\n",
       "      <td>0.75288</td>\n",
       "      <td>1.3498</td>\n",
       "      <td>0.026469</td>\n",
       "      <td>0.008603</td>\n",
       "      <td>...</td>\n",
       "      <td>1.2427</td>\n",
       "      <td>514.55</td>\n",
       "      <td>0.010445</td>\n",
       "      <td>0.010561</td>\n",
       "      <td>0.99672</td>\n",
       "      <td>0.10067</td>\n",
       "      <td>7.1969</td>\n",
       "      <td>2.9313</td>\n",
       "      <td>2.5602</td>\n",
       "      <td>3.9057</td>\n",
       "    </tr>\n",
       "    <tr>\n",
       "      <th>2</th>\n",
       "      <td>0.081125</td>\n",
       "      <td>0.48184</td>\n",
       "      <td>0.255910</td>\n",
       "      <td>1.9830</td>\n",
       "      <td>-0.96897</td>\n",
       "      <td>0.00000</td>\n",
       "      <td>1.07540</td>\n",
       "      <td>1.8870</td>\n",
       "      <td>0.157640</td>\n",
       "      <td>0.366150</td>\n",
       "      <td>...</td>\n",
       "      <td>1.0711</td>\n",
       "      <td>602.11</td>\n",
       "      <td>0.046166</td>\n",
       "      <td>0.156560</td>\n",
       "      <td>0.95154</td>\n",
       "      <td>0.41667</td>\n",
       "      <td>7.8095</td>\n",
       "      <td>12.2690</td>\n",
       "      <td>7.2482</td>\n",
       "      <td>3.9007</td>\n",
       "    </tr>\n",
       "    <tr>\n",
       "      <th>3</th>\n",
       "      <td>0.104800</td>\n",
       "      <td>0.49771</td>\n",
       "      <td>0.084913</td>\n",
       "      <td>1.1990</td>\n",
       "      <td>-26.57600</td>\n",
       "      <td>0.10480</td>\n",
       "      <td>0.99291</td>\n",
       "      <td>1.0786</td>\n",
       "      <td>0.130360</td>\n",
       "      <td>0.305580</td>\n",
       "      <td>...</td>\n",
       "      <td>1.0117</td>\n",
       "      <td>1427.90</td>\n",
       "      <td>0.072846</td>\n",
       "      <td>0.212060</td>\n",
       "      <td>0.92715</td>\n",
       "      <td>0.14387</td>\n",
       "      <td>9.1666</td>\n",
       "      <td>6.6252</td>\n",
       "      <td>4.4880</td>\n",
       "      <td>3.9196</td>\n",
       "    </tr>\n",
       "    <tr>\n",
       "      <th>4</th>\n",
       "      <td>0.012459</td>\n",
       "      <td>0.47030</td>\n",
       "      <td>0.117760</td>\n",
       "      <td>1.2592</td>\n",
       "      <td>-21.21300</td>\n",
       "      <td>0.00000</td>\n",
       "      <td>1.12630</td>\n",
       "      <td>1.8834</td>\n",
       "      <td>0.041749</td>\n",
       "      <td>0.045823</td>\n",
       "      <td>...</td>\n",
       "      <td>1.2379</td>\n",
       "      <td>390.11</td>\n",
       "      <td>-0.008450</td>\n",
       "      <td>0.023521</td>\n",
       "      <td>0.98936</td>\n",
       "      <td>0.00000</td>\n",
       "      <td>8.3773</td>\n",
       "      <td>5.4833</td>\n",
       "      <td>4.1455</td>\n",
       "      <td>4.4014</td>\n",
       "    </tr>\n",
       "  </tbody>\n",
       "</table>\n",
       "<p>5 rows × 49 columns</p>\n",
       "</div>"
      ],
      "text/plain": [
       "      Attr1    Attr2     Attr3   Attr4     Attr5    Attr6    Attr8   Attr9  \\\n",
       "0  0.103310  0.48495  0.172420  1.4292   3.27310  0.17263  1.00400  1.0666   \n",
       "1  0.004536  0.57049  0.127130  1.2411 -18.26400  0.00000  0.75288  1.3498   \n",
       "2  0.081125  0.48184  0.255910  1.9830  -0.96897  0.00000  1.07540  1.8870   \n",
       "3  0.104800  0.49771  0.084913  1.1990 -26.57600  0.10480  0.99291  1.0786   \n",
       "4  0.012459  0.47030  0.117760  1.2592 -21.21300  0.00000  1.12630  1.8834   \n",
       "\n",
       "     Attr11    Attr12  ...  Attr53   Attr55    Attr56    Attr57   Attr58  \\\n",
       "0  0.127320  0.316900  ...  1.1435  5201.40  0.062403  0.212180  0.93760   \n",
       "1  0.026469  0.008603  ...  1.2427   514.55  0.010445  0.010561  0.99672   \n",
       "2  0.157640  0.366150  ...  1.0711   602.11  0.046166  0.156560  0.95154   \n",
       "3  0.130360  0.305580  ...  1.0117  1427.90  0.072846  0.212060  0.92715   \n",
       "4  0.041749  0.045823  ...  1.2379   390.11 -0.008450  0.023521  0.98936   \n",
       "\n",
       "    Attr59   Attr60   Attr61  Attr63  Attr64  \n",
       "0  0.17085  14.3740   6.8038  5.4872  5.1775  \n",
       "1  0.10067   7.1969   2.9313  2.5602  3.9057  \n",
       "2  0.41667   7.8095  12.2690  7.2482  3.9007  \n",
       "3  0.14387   9.1666   6.6252  4.4880  3.9196  \n",
       "4  0.00000   8.3773   5.4833  4.1455  4.4014  \n",
       "\n",
       "[5 rows x 49 columns]"
      ]
     },
     "execution_count": 24,
     "metadata": {},
     "output_type": "execute_result"
    }
   ],
   "source": [
    "over_sampler = RandomOverSampler(random_state=42)\n",
    "X_train_over, y_train_over = over_sampler.fit_resample(X_train,y_train)\n",
    "print(X_train_over.shape)\n",
    "X_train_over.head()"
   ]
  },
  {
   "cell_type": "code",
   "execution_count": null,
   "id": "783dec83",
   "metadata": {},
   "outputs": [],
   "source": []
  },
  {
   "cell_type": "code",
   "execution_count": 25,
   "id": "67355fd7",
   "metadata": {},
   "outputs": [
    {
     "data": {
      "text/plain": [
       "0.5"
      ]
     },
     "execution_count": 25,
     "metadata": {},
     "output_type": "execute_result"
    }
   ],
   "source": [
    "# deciding a baseline for the result ( this is based on the distribution \n",
    "#of the positive and negatibe labels in the target features)\n",
    "acc_baseline = y_train_over.value_counts(normalize=True).max()\n",
    "acc_baseline"
   ]
  },
  {
   "cell_type": "markdown",
   "id": "d8031e1d",
   "metadata": {},
   "source": [
    "## Decision Tree Model"
   ]
  },
  {
   "cell_type": "markdown",
   "id": "fc57e46e",
   "metadata": {},
   "source": [
    "First model ( Decision Tree , No over_sampling )"
   ]
  },
  {
   "cell_type": "code",
   "execution_count": 26,
   "id": "1a7d3a9e",
   "metadata": {},
   "outputs": [],
   "source": [
    "from sklearn.tree import DecisionTreeClassifier"
   ]
  },
  {
   "cell_type": "code",
   "execution_count": 27,
   "id": "b77343fb",
   "metadata": {},
   "outputs": [
    {
     "data": {
      "text/plain": [
       "Pipeline(steps=[('simpleimputer', SimpleImputer(strategy='median')),\n",
       "                ('standardscaler', StandardScaler()),\n",
       "                ('decisiontreeclassifier',\n",
       "                 DecisionTreeClassifier(random_state=42))])"
      ]
     },
     "execution_count": 27,
     "metadata": {},
     "output_type": "execute_result"
    }
   ],
   "source": [
    "model_reg = make_pipeline(SimpleImputer(strategy=\"median\"),StandardScaler(),DecisionTreeClassifier(random_state=42))\n",
    "model_reg.fit(X_train,y_train)"
   ]
  },
  {
   "cell_type": "markdown",
   "id": "dd53b516",
   "metadata": {},
   "source": [
    "Second model (Decision Tree , and Over_sampling )"
   ]
  },
  {
   "cell_type": "code",
   "execution_count": 28,
   "id": "762c85d4",
   "metadata": {},
   "outputs": [
    {
     "data": {
      "text/plain": [
       "Pipeline(steps=[('simpleimputer', SimpleImputer(strategy='median')),\n",
       "                ('decisiontreeclassifier',\n",
       "                 DecisionTreeClassifier(random_state=42))])"
      ]
     },
     "execution_count": 28,
     "metadata": {},
     "output_type": "execute_result"
    }
   ],
   "source": [
    "DT_model_over = make_pipeline(SimpleImputer(strategy=\"median\"),DecisionTreeClassifier(random_state=42))\n",
    "DT_model_over.fit(X_train_over,y_train_over)"
   ]
  },
  {
   "cell_type": "code",
   "execution_count": 29,
   "id": "51beeca9",
   "metadata": {},
   "outputs": [
    {
     "data": {
      "text/plain": [
       "7"
      ]
     },
     "execution_count": 29,
     "metadata": {},
     "output_type": "execute_result"
    }
   ],
   "source": [
    "depth = DT_model_over.named_steps[\"decisiontreeclassifier\"].get_depth()\n",
    "depth"
   ]
  },
  {
   "cell_type": "code",
   "execution_count": 30,
   "id": "79f21df2",
   "metadata": {},
   "outputs": [
    {
     "name": "stdout",
     "output_type": "stream",
     "text": [
      "Training Accuracy: 1.0\n",
      "Test Accuracy: 0.9825\n",
      "Training Accuracy: 1.0\n",
      "Test Accuracy: 0.9912\n"
     ]
    }
   ],
   "source": [
    "for m in [model_reg, DT_model_over]:\n",
    "    acc_train = m.score(X_train,y_train)\n",
    "    acc_test = m.score(X_test,y_test)\n",
    "    print(\"Training Accuracy:\", round(acc_train, 4))\n",
    "    print(\"Test Accuracy:\", round(acc_test, 4))"
   ]
  },
  {
   "cell_type": "markdown",
   "id": "5a8c7d83",
   "metadata": {},
   "source": [
    "#### very good accuracy for both models, but accuracy alone is not enough to judge the model , next I will calculate f1_score , recall , precesion"
   ]
  },
  {
   "cell_type": "code",
   "execution_count": 31,
   "id": "0eddab1e",
   "metadata": {},
   "outputs": [],
   "source": [
    "from sklearn.metrics import classification_report"
   ]
  },
  {
   "cell_type": "code",
   "execution_count": 32,
   "id": "d0bdfa69",
   "metadata": {},
   "outputs": [
    {
     "name": "stdout",
     "output_type": "stream",
     "text": [
      "              precision    recall  f1-score   support\n",
      "\n",
      "           0       0.99      1.00      1.00       105\n",
      "           1       1.00      0.89      0.94         9\n",
      "\n",
      "    accuracy                           0.99       114\n",
      "   macro avg       1.00      0.94      0.97       114\n",
      "weighted avg       0.99      0.99      0.99       114\n",
      "\n"
     ]
    }
   ],
   "source": [
    "print(classification_report(y_test,DT_model_over.predict(X_test)))"
   ]
  },
  {
   "cell_type": "code",
   "execution_count": 33,
   "id": "db8d1451",
   "metadata": {},
   "outputs": [
    {
     "data": {
      "text/plain": [
       "<sklearn.metrics._plot.confusion_matrix.ConfusionMatrixDisplay at 0x2d55ddd3a30>"
      ]
     },
     "execution_count": 33,
     "metadata": {},
     "output_type": "execute_result"
    },
    {
     "data": {
      "image/png": "[encoded data removed]",
      "text/plain": [
       "<Figure size 640x480 with 2 Axes>"
      ]
     },
     "metadata": {},
     "output_type": "display_data"
    }
   ],
   "source": [
    "ConfusionMatrixDisplay.from_estimator(DT_model_over,X_test,y_test)"
   ]
  },
  {
   "cell_type": "markdown",
   "id": "691278cd",
   "metadata": {},
   "source": [
    "Visualizing Decision Tree Results\n"
   ]
  },
  {
   "cell_type": "code",
   "execution_count": 159,
   "id": "88589355",
   "metadata": {},
   "outputs": [],
   "source": [
    "importances = DT_model_over.named_steps[\"decisiontreeclassifier\"].feature_importances_\n",
    "feat_imp = pd.Series(importances,index=X_train_over.columns).sort_values(ascending=True)[-10:]"
   ]
  },
  {
   "cell_type": "code",
   "execution_count": 160,
   "id": "a54b82d9",
   "metadata": {},
   "outputs": [
    {
     "data": {
      "text/plain": [
       "Attr21    0.000000\n",
       "Attr22    0.000000\n",
       "Attr28    0.000000\n",
       "Attr16    0.000000\n",
       "Attr64    0.000000\n",
       "Attr34    0.008839\n",
       "Attr4     0.024417\n",
       "Attr40    0.139472\n",
       "Attr24    0.279632\n",
       "Attr27    0.547639\n",
       "dtype: float64"
      ]
     },
     "execution_count": 160,
     "metadata": {},
     "output_type": "execute_result"
    }
   ],
   "source": [
    "feat_imp"
   ]
  },
  {
   "cell_type": "code",
   "execution_count": 161,
   "id": "808e684d",
   "metadata": {
    "scrolled": true
   },
   "outputs": [
    {
     "data": {
      "image/png": "[encoded data removed]",
      "text/plain": [
       "<Figure size 640x480 with 1 Axes>"
      ]
     },
     "metadata": {},
     "output_type": "display_data"
    }
   ],
   "source": [
    "feat_imp.plot(kind=\"barh\")\n",
    "plt.xlabel(\"Gini Importance\")\n",
    "plt.ylabel(\"Features\")\n",
    "plt.title(\"Decission Tress model_over Feature Importance\");"
   ]
  },
  {
   "cell_type": "code",
   "execution_count": 37,
   "id": "344fc646",
   "metadata": {},
   "outputs": [],
   "source": [
    "import pickle\n",
    "with open (\"model-1.pkl\",\"wb\")as f:\n",
    "    pickle.dump(DT_model_over,f)"
   ]
  },
  {
   "cell_type": "code",
   "execution_count": 38,
   "id": "10709e14",
   "metadata": {},
   "outputs": [],
   "source": [
    "with open(\"model-1.pkl\", \"rb\") as f:\n",
    "    loaded_model = pickle.load(f)"
   ]
  },
  {
   "cell_type": "markdown",
   "id": "a016c818",
   "metadata": {},
   "source": [
    "## Random Forest Model"
   ]
  },
  {
   "cell_type": "code",
   "execution_count": 39,
   "id": "0ddd31f8",
   "metadata": {},
   "outputs": [],
   "source": [
    "from sklearn.ensemble import RandomForestClassifier"
   ]
  },
  {
   "cell_type": "code",
   "execution_count": 40,
   "id": "e1035dd1",
   "metadata": {},
   "outputs": [
    {
     "name": "stdout",
     "output_type": "stream",
     "text": [
      "Pipeline(steps=[('simpleimputer', SimpleImputer()),\n",
      "                ('standardscaler', StandardScaler()),\n",
      "                ('randomforestclassifier',\n",
      "                 RandomForestClassifier(random_state=42))])\n"
     ]
    }
   ],
   "source": [
    "clf = make_pipeline(SimpleImputer(),StandardScaler(),RandomForestClassifier(random_state=42))\n",
    "print(clf)"
   ]
  },
  {
   "cell_type": "markdown",
   "id": "c303fd91",
   "metadata": {},
   "source": [
    "Doing cross_validation to check the possible results of that model "
   ]
  },
  {
   "cell_type": "code",
   "execution_count": 41,
   "id": "1c46ba5c",
   "metadata": {},
   "outputs": [
    {
     "name": "stdout",
     "output_type": "stream",
     "text": [
      "[1.         1.         0.99435028 1.         1.        ]\n"
     ]
    }
   ],
   "source": [
    "cv_acc_scores = cross_val_score(clf,X_train_over,y_train_over,cv=5,n_jobs=-1)\n",
    "print(cv_acc_scores)"
   ]
  },
  {
   "cell_type": "markdown",
   "id": "67a21c3e",
   "metadata": {},
   "source": [
    "Deciding the ranges of the hyperparameters "
   ]
  },
  {
   "cell_type": "code",
   "execution_count": 42,
   "id": "738d9c56",
   "metadata": {},
   "outputs": [
    {
     "data": {
      "text/plain": [
       "{'simpleimputer__strategy': ['mean', 'median'],\n",
       " 'randomforestclassifier__n_estimators': range(25, 100, 25),\n",
       " 'randomforestclassifier__max_depth': range(10, 50, 10)}"
      ]
     },
     "execution_count": 42,
     "metadata": {},
     "output_type": "execute_result"
    }
   ],
   "source": [
    "params = {\"simpleimputer__strategy\":[\"mean\",\"median\"],\n",
    "          \"randomforestclassifier__n_estimators\":range(25,100,25),\n",
    "          \"randomforestclassifier__max_depth\":range(10,50,10)}\n",
    "params"
   ]
  },
  {
   "cell_type": "code",
   "execution_count": 43,
   "id": "ea3d2b7f",
   "metadata": {},
   "outputs": [
    {
     "data": {
      "text/plain": [
       "GridSearchCV(cv=3,\n",
       "             estimator=Pipeline(steps=[('simpleimputer', SimpleImputer()),\n",
       "                                       ('standardscaler', StandardScaler()),\n",
       "                                       ('randomforestclassifier',\n",
       "                                        RandomForestClassifier(random_state=42))]),\n",
       "             n_jobs=-1,\n",
       "             param_grid={'randomforestclassifier__max_depth': range(10, 50, 10),\n",
       "                         'randomforestclassifier__n_estimators': range(25, 100, 25),\n",
       "                         'simpleimputer__strategy': ['mean', 'median']},\n",
       "             verbose=1)"
      ]
     },
     "execution_count": 43,
     "metadata": {},
     "output_type": "execute_result"
    }
   ],
   "source": [
    "RF_model = GridSearchCV(clf,param_grid=params,cv=3,n_jobs=-1,verbose=1)\n",
    "RF_model"
   ]
  },
  {
   "cell_type": "code",
   "execution_count": 44,
   "id": "4f882ce6",
   "metadata": {},
   "outputs": [
    {
     "name": "stdout",
     "output_type": "stream",
     "text": [
      "Fitting 3 folds for each of 24 candidates, totalling 72 fits\n"
     ]
    },
    {
     "data": {
      "text/plain": [
       "GridSearchCV(cv=3,\n",
       "             estimator=Pipeline(steps=[('simpleimputer', SimpleImputer()),\n",
       "                                       ('standardscaler', StandardScaler()),\n",
       "                                       ('randomforestclassifier',\n",
       "                                        RandomForestClassifier(random_state=42))]),\n",
       "             n_jobs=-1,\n",
       "             param_grid={'randomforestclassifier__max_depth': range(10, 50, 10),\n",
       "                         'randomforestclassifier__n_estimators': range(25, 100, 25),\n",
       "                         'simpleimputer__strategy': ['mean', 'median']},\n",
       "             verbose=1)"
      ]
     },
     "execution_count": 44,
     "metadata": {},
     "output_type": "execute_result"
    }
   ],
   "source": [
    "RF_model.fit(X_train_over,y_train_over)"
   ]
  },
  {
   "cell_type": "code",
   "execution_count": 45,
   "id": "06da5c15",
   "metadata": {},
   "outputs": [
    {
     "data": {
      "text/html": [
       "<div>\n",
       "<style scoped>\n",
       "    .dataframe tbody tr th:only-of-type {\n",
       "        vertical-align: middle;\n",
       "    }\n",
       "\n",
       "    .dataframe tbody tr th {\n",
       "        vertical-align: top;\n",
       "    }\n",
       "\n",
       "    .dataframe thead th {\n",
       "        text-align: right;\n",
       "    }\n",
       "</style>\n",
       "<table border=\"1\" class=\"dataframe\">\n",
       "  <thead>\n",
       "    <tr style=\"text-align: right;\">\n",
       "      <th></th>\n",
       "      <th>mean_fit_time</th>\n",
       "      <th>std_fit_time</th>\n",
       "      <th>mean_score_time</th>\n",
       "      <th>std_score_time</th>\n",
       "      <th>param_randomforestclassifier__max_depth</th>\n",
       "      <th>param_randomforestclassifier__n_estimators</th>\n",
       "      <th>param_simpleimputer__strategy</th>\n",
       "      <th>params</th>\n",
       "      <th>split0_test_score</th>\n",
       "      <th>split1_test_score</th>\n",
       "      <th>split2_test_score</th>\n",
       "      <th>mean_test_score</th>\n",
       "      <th>std_test_score</th>\n",
       "      <th>rank_test_score</th>\n",
       "    </tr>\n",
       "  </thead>\n",
       "  <tbody>\n",
       "    <tr>\n",
       "      <th>0</th>\n",
       "      <td>0.118674</td>\n",
       "      <td>0.043226</td>\n",
       "      <td>0.024668</td>\n",
       "      <td>0.024282</td>\n",
       "      <td>10</td>\n",
       "      <td>25</td>\n",
       "      <td>mean</td>\n",
       "      <td>{'randomforestclassifier__max_depth': 10, 'ran...</td>\n",
       "      <td>1.0</td>\n",
       "      <td>0.99661</td>\n",
       "      <td>0.99661</td>\n",
       "      <td>0.99774</td>\n",
       "      <td>0.001598</td>\n",
       "      <td>22</td>\n",
       "    </tr>\n",
       "    <tr>\n",
       "      <th>1</th>\n",
       "      <td>0.162344</td>\n",
       "      <td>0.039804</td>\n",
       "      <td>0.031671</td>\n",
       "      <td>0.029962</td>\n",
       "      <td>10</td>\n",
       "      <td>25</td>\n",
       "      <td>median</td>\n",
       "      <td>{'randomforestclassifier__max_depth': 10, 'ran...</td>\n",
       "      <td>1.0</td>\n",
       "      <td>0.99661</td>\n",
       "      <td>0.99661</td>\n",
       "      <td>0.99774</td>\n",
       "      <td>0.001598</td>\n",
       "      <td>22</td>\n",
       "    </tr>\n",
       "  </tbody>\n",
       "</table>\n",
       "</div>"
      ],
      "text/plain": [
       "   mean_fit_time  std_fit_time  mean_score_time  std_score_time  \\\n",
       "0       0.118674      0.043226         0.024668        0.024282   \n",
       "1       0.162344      0.039804         0.031671        0.029962   \n",
       "\n",
       "  param_randomforestclassifier__max_depth  \\\n",
       "0                                      10   \n",
       "1                                      10   \n",
       "\n",
       "  param_randomforestclassifier__n_estimators param_simpleimputer__strategy  \\\n",
       "0                                         25                          mean   \n",
       "1                                         25                        median   \n",
       "\n",
       "                                              params  split0_test_score  \\\n",
       "0  {'randomforestclassifier__max_depth': 10, 'ran...                1.0   \n",
       "1  {'randomforestclassifier__max_depth': 10, 'ran...                1.0   \n",
       "\n",
       "   split1_test_score  split2_test_score  mean_test_score  std_test_score  \\\n",
       "0            0.99661            0.99661          0.99774        0.001598   \n",
       "1            0.99661            0.99661          0.99774        0.001598   \n",
       "\n",
       "   rank_test_score  \n",
       "0               22  \n",
       "1               22  "
      ]
     },
     "execution_count": 45,
     "metadata": {},
     "output_type": "execute_result"
    }
   ],
   "source": [
    "cv_results = pd.DataFrame(RF_model.cv_results_)\n",
    "cv_results.head(2)\n"
   ]
  },
  {
   "cell_type": "code",
   "execution_count": 46,
   "id": "8b5d2a47",
   "metadata": {
    "scrolled": true
   },
   "outputs": [
    {
     "data": {
      "text/plain": [
       "({'randomforestclassifier__max_depth': 10,\n",
       "  'randomforestclassifier__n_estimators': 50,\n",
       "  'simpleimputer__strategy': 'mean'},\n",
       " 0.9988700564971751)"
      ]
     },
     "execution_count": 46,
     "metadata": {},
     "output_type": "execute_result"
    }
   ],
   "source": [
    "RF_model.best_params_,RF_model.best_score_"
   ]
  },
  {
   "cell_type": "markdown",
   "id": "89f8ddeb",
   "metadata": {},
   "source": [
    "so the best model depth is 40 and n_estimators = 75 , and the imputer strategy should be the median "
   ]
  },
  {
   "cell_type": "code",
   "execution_count": 47,
   "id": "26d996e3",
   "metadata": {},
   "outputs": [
    {
     "name": "stdout",
     "output_type": "stream",
     "text": [
      "Training Accuracy: 0.9978\n",
      "Test Accuracy: 0.9474\n"
     ]
    }
   ],
   "source": [
    "acc_train = RF_model.score(X_train,y_train)\n",
    "acc_test = RF_model.score(X_test,y_test)\n",
    "print(\"Training Accuracy:\", round(acc_train, 4))\n",
    "print(\"Test Accuracy:\", round(acc_test, 4))"
   ]
  },
  {
   "cell_type": "code",
   "execution_count": 48,
   "id": "3015f28b",
   "metadata": {
    "scrolled": true
   },
   "outputs": [
    {
     "name": "stdout",
     "output_type": "stream",
     "text": [
      "              precision    recall  f1-score   support\n",
      "\n",
      "           0       0.95      1.00      0.97       105\n",
      "           1       1.00      0.33      0.50         9\n",
      "\n",
      "    accuracy                           0.95       114\n",
      "   macro avg       0.97      0.67      0.74       114\n",
      "weighted avg       0.95      0.95      0.93       114\n",
      "\n"
     ]
    }
   ],
   "source": [
    "print(classification_report(y_test,RF_model.predict(X_test)))"
   ]
  },
  {
   "cell_type": "code",
   "execution_count": 49,
   "id": "5e1fbd9f",
   "metadata": {
    "scrolled": false
   },
   "outputs": [
    {
     "data": {
      "text/plain": [
       "<sklearn.metrics._plot.confusion_matrix.ConfusionMatrixDisplay at 0x2d55df57280>"
      ]
     },
     "execution_count": 49,
     "metadata": {},
     "output_type": "execute_result"
    },
    {
     "data": {
      "image/png": "[encoded data removed]",
      "text/plain": [
       "<Figure size 640x480 with 2 Axes>"
      ]
     },
     "metadata": {},
     "output_type": "display_data"
    }
   ],
   "source": [
    "ConfusionMatrixDisplay.from_estimator(RF_model,X_test,y_test)"
   ]
  },
  {
   "cell_type": "markdown",
   "id": "a01c9663",
   "metadata": {},
   "source": [
    "## Gradient Boosting Classifier Model"
   ]
  },
  {
   "cell_type": "code",
   "execution_count": 50,
   "id": "15551c03",
   "metadata": {},
   "outputs": [],
   "source": [
    "from sklearn.ensemble import GradientBoostingClassifier"
   ]
  },
  {
   "cell_type": "code",
   "execution_count": 51,
   "id": "8487550e",
   "metadata": {},
   "outputs": [],
   "source": [
    "clf = make_pipeline(SimpleImputer(),StandardScaler(),GradientBoostingClassifier())"
   ]
  },
  {
   "cell_type": "code",
   "execution_count": 52,
   "id": "206c0d93",
   "metadata": {},
   "outputs": [
    {
     "data": {
      "text/plain": [
       "{'simpleimputer__strategy': ['mean', 'median'],\n",
       " 'gradientboostingclassifier__max_depth': range(2, 5),\n",
       " 'gradientboostingclassifier__n_estimators': range(20, 31, 5)}"
      ]
     },
     "execution_count": 52,
     "metadata": {},
     "output_type": "execute_result"
    }
   ],
   "source": [
    "params = {\"simpleimputer__strategy\":[\"mean\",\"median\"],\"gradientboostingclassifier__max_depth\":range(2,5),\"gradientboostingclassifier__n_estimators\":range(20,31,5)}\n",
    "params"
   ]
  },
  {
   "cell_type": "code",
   "execution_count": 53,
   "id": "f0981d29",
   "metadata": {},
   "outputs": [],
   "source": [
    "GBC_model = GridSearchCV(clf,param_grid=params,cv=5,n_jobs=-1,verbose=1)"
   ]
  },
  {
   "cell_type": "code",
   "execution_count": 54,
   "id": "17948159",
   "metadata": {},
   "outputs": [
    {
     "name": "stdout",
     "output_type": "stream",
     "text": [
      "Fitting 5 folds for each of 18 candidates, totalling 90 fits\n"
     ]
    },
    {
     "data": {
      "text/plain": [
       "GridSearchCV(cv=5,\n",
       "             estimator=Pipeline(steps=[('simpleimputer', SimpleImputer()),\n",
       "                                       ('standardscaler', StandardScaler()),\n",
       "                                       ('gradientboostingclassifier',\n",
       "                                        GradientBoostingClassifier())]),\n",
       "             n_jobs=-1,\n",
       "             param_grid={'gradientboostingclassifier__max_depth': range(2, 5),\n",
       "                         'gradientboostingclassifier__n_estimators': range(20, 31, 5),\n",
       "                         'simpleimputer__strategy': ['mean', 'median']},\n",
       "             verbose=1)"
      ]
     },
     "execution_count": 54,
     "metadata": {},
     "output_type": "execute_result"
    }
   ],
   "source": [
    "GBC_model.fit(X_train_over,y_train_over)"
   ]
  },
  {
   "cell_type": "code",
   "execution_count": 55,
   "id": "7d2df144",
   "metadata": {},
   "outputs": [
    {
     "data": {
      "text/html": [
       "<div>\n",
       "<style scoped>\n",
       "    .dataframe tbody tr th:only-of-type {\n",
       "        vertical-align: middle;\n",
       "    }\n",
       "\n",
       "    .dataframe tbody tr th {\n",
       "        vertical-align: top;\n",
       "    }\n",
       "\n",
       "    .dataframe thead th {\n",
       "        text-align: right;\n",
       "    }\n",
       "</style>\n",
       "<table border=\"1\" class=\"dataframe\">\n",
       "  <thead>\n",
       "    <tr style=\"text-align: right;\">\n",
       "      <th></th>\n",
       "      <th>mean_fit_time</th>\n",
       "      <th>std_fit_time</th>\n",
       "      <th>mean_score_time</th>\n",
       "      <th>std_score_time</th>\n",
       "      <th>param_gradientboostingclassifier__max_depth</th>\n",
       "      <th>param_gradientboostingclassifier__n_estimators</th>\n",
       "      <th>param_simpleimputer__strategy</th>\n",
       "      <th>params</th>\n",
       "      <th>split0_test_score</th>\n",
       "      <th>split1_test_score</th>\n",
       "      <th>split2_test_score</th>\n",
       "      <th>split3_test_score</th>\n",
       "      <th>split4_test_score</th>\n",
       "      <th>mean_test_score</th>\n",
       "      <th>std_test_score</th>\n",
       "      <th>rank_test_score</th>\n",
       "    </tr>\n",
       "  </thead>\n",
       "  <tbody>\n",
       "    <tr>\n",
       "      <th>17</th>\n",
       "      <td>0.210214</td>\n",
       "      <td>0.018734</td>\n",
       "      <td>0.003601</td>\n",
       "      <td>0.000490</td>\n",
       "      <td>4</td>\n",
       "      <td>30</td>\n",
       "      <td>median</td>\n",
       "      <td>{'gradientboostingclassifier__max_depth': 4, '...</td>\n",
       "      <td>1.0</td>\n",
       "      <td>0.99435</td>\n",
       "      <td>0.994350</td>\n",
       "      <td>0.994350</td>\n",
       "      <td>1.000000</td>\n",
       "      <td>0.996610</td>\n",
       "      <td>0.002768</td>\n",
       "      <td>1</td>\n",
       "    </tr>\n",
       "    <tr>\n",
       "      <th>15</th>\n",
       "      <td>0.174611</td>\n",
       "      <td>0.006945</td>\n",
       "      <td>0.002801</td>\n",
       "      <td>0.000400</td>\n",
       "      <td>4</td>\n",
       "      <td>25</td>\n",
       "      <td>median</td>\n",
       "      <td>{'gradientboostingclassifier__max_depth': 4, '...</td>\n",
       "      <td>1.0</td>\n",
       "      <td>0.99435</td>\n",
       "      <td>0.994350</td>\n",
       "      <td>0.994350</td>\n",
       "      <td>0.994350</td>\n",
       "      <td>0.995480</td>\n",
       "      <td>0.002260</td>\n",
       "      <td>2</td>\n",
       "    </tr>\n",
       "    <tr>\n",
       "      <th>13</th>\n",
       "      <td>0.157410</td>\n",
       "      <td>0.013546</td>\n",
       "      <td>0.003201</td>\n",
       "      <td>0.000400</td>\n",
       "      <td>4</td>\n",
       "      <td>20</td>\n",
       "      <td>median</td>\n",
       "      <td>{'gradientboostingclassifier__max_depth': 4, '...</td>\n",
       "      <td>1.0</td>\n",
       "      <td>0.99435</td>\n",
       "      <td>0.988701</td>\n",
       "      <td>0.994350</td>\n",
       "      <td>0.994350</td>\n",
       "      <td>0.994350</td>\n",
       "      <td>0.003573</td>\n",
       "      <td>3</td>\n",
       "    </tr>\n",
       "    <tr>\n",
       "      <th>11</th>\n",
       "      <td>0.194015</td>\n",
       "      <td>0.002280</td>\n",
       "      <td>0.003001</td>\n",
       "      <td>0.000002</td>\n",
       "      <td>3</td>\n",
       "      <td>30</td>\n",
       "      <td>median</td>\n",
       "      <td>{'gradientboostingclassifier__max_depth': 3, '...</td>\n",
       "      <td>1.0</td>\n",
       "      <td>0.99435</td>\n",
       "      <td>0.983051</td>\n",
       "      <td>0.988701</td>\n",
       "      <td>1.000000</td>\n",
       "      <td>0.993220</td>\n",
       "      <td>0.006589</td>\n",
       "      <td>4</td>\n",
       "    </tr>\n",
       "    <tr>\n",
       "      <th>14</th>\n",
       "      <td>0.200614</td>\n",
       "      <td>0.013381</td>\n",
       "      <td>0.003200</td>\n",
       "      <td>0.000400</td>\n",
       "      <td>4</td>\n",
       "      <td>25</td>\n",
       "      <td>mean</td>\n",
       "      <td>{'gradientboostingclassifier__max_depth': 4, '...</td>\n",
       "      <td>1.0</td>\n",
       "      <td>0.99435</td>\n",
       "      <td>0.988701</td>\n",
       "      <td>0.977401</td>\n",
       "      <td>0.988701</td>\n",
       "      <td>0.989831</td>\n",
       "      <td>0.007495</td>\n",
       "      <td>5</td>\n",
       "    </tr>\n",
       "  </tbody>\n",
       "</table>\n",
       "</div>"
      ],
      "text/plain": [
       "    mean_fit_time  std_fit_time  mean_score_time  std_score_time  \\\n",
       "17       0.210214      0.018734         0.003601        0.000490   \n",
       "15       0.174611      0.006945         0.002801        0.000400   \n",
       "13       0.157410      0.013546         0.003201        0.000400   \n",
       "11       0.194015      0.002280         0.003001        0.000002   \n",
       "14       0.200614      0.013381         0.003200        0.000400   \n",
       "\n",
       "   param_gradientboostingclassifier__max_depth  \\\n",
       "17                                           4   \n",
       "15                                           4   \n",
       "13                                           4   \n",
       "11                                           3   \n",
       "14                                           4   \n",
       "\n",
       "   param_gradientboostingclassifier__n_estimators  \\\n",
       "17                                             30   \n",
       "15                                             25   \n",
       "13                                             20   \n",
       "11                                             30   \n",
       "14                                             25   \n",
       "\n",
       "   param_simpleimputer__strategy  \\\n",
       "17                        median   \n",
       "15                        median   \n",
       "13                        median   \n",
       "11                        median   \n",
       "14                          mean   \n",
       "\n",
       "                                               params  split0_test_score  \\\n",
       "17  {'gradientboostingclassifier__max_depth': 4, '...                1.0   \n",
       "15  {'gradientboostingclassifier__max_depth': 4, '...                1.0   \n",
       "13  {'gradientboostingclassifier__max_depth': 4, '...                1.0   \n",
       "11  {'gradientboostingclassifier__max_depth': 3, '...                1.0   \n",
       "14  {'gradientboostingclassifier__max_depth': 4, '...                1.0   \n",
       "\n",
       "    split1_test_score  split2_test_score  split3_test_score  \\\n",
       "17            0.99435           0.994350           0.994350   \n",
       "15            0.99435           0.994350           0.994350   \n",
       "13            0.99435           0.988701           0.994350   \n",
       "11            0.99435           0.983051           0.988701   \n",
       "14            0.99435           0.988701           0.977401   \n",
       "\n",
       "    split4_test_score  mean_test_score  std_test_score  rank_test_score  \n",
       "17           1.000000         0.996610        0.002768                1  \n",
       "15           0.994350         0.995480        0.002260                2  \n",
       "13           0.994350         0.994350        0.003573                3  \n",
       "11           1.000000         0.993220        0.006589                4  \n",
       "14           0.988701         0.989831        0.007495                5  "
      ]
     },
     "execution_count": 55,
     "metadata": {},
     "output_type": "execute_result"
    }
   ],
   "source": [
    "results = pd.DataFrame(GBC_model.cv_results_)\n",
    "results.sort_values(\"rank_test_score\").head(5)"
   ]
  },
  {
   "cell_type": "code",
   "execution_count": 56,
   "id": "f1da5413",
   "metadata": {},
   "outputs": [
    {
     "data": {
      "text/plain": [
       "{'gradientboostingclassifier__max_depth': 4,\n",
       " 'gradientboostingclassifier__n_estimators': 30,\n",
       " 'simpleimputer__strategy': 'median'}"
      ]
     },
     "execution_count": 56,
     "metadata": {},
     "output_type": "execute_result"
    }
   ],
   "source": [
    "GBC_model.best_params_"
   ]
  },
  {
   "cell_type": "code",
   "execution_count": 57,
   "id": "9655f6bf",
   "metadata": {},
   "outputs": [
    {
     "name": "stdout",
     "output_type": "stream",
     "text": [
      "              precision    recall  f1-score   support\n",
      "\n",
      "           0       0.99      1.00      1.00       105\n",
      "           1       1.00      0.89      0.94         9\n",
      "\n",
      "    accuracy                           0.99       114\n",
      "   macro avg       1.00      0.94      0.97       114\n",
      "weighted avg       0.99      0.99      0.99       114\n",
      "\n"
     ]
    }
   ],
   "source": [
    "print(classification_report(y_test,GBC_model.predict(X_test)))"
   ]
  },
  {
   "cell_type": "markdown",
   "id": "2dc768b6",
   "metadata": {},
   "source": [
    "improving the model recall , very good!"
   ]
  },
  {
   "cell_type": "code",
   "execution_count": 58,
   "id": "00925548",
   "metadata": {},
   "outputs": [
    {
     "data": {
      "text/plain": [
       "<sklearn.metrics._plot.confusion_matrix.ConfusionMatrixDisplay at 0x2d55e17c760>"
      ]
     },
     "execution_count": 58,
     "metadata": {},
     "output_type": "execute_result"
    },
    {
     "data": {
      "image/png": "[encoded data removed]",
      "text/plain": [
       "<Figure size 640x480 with 2 Axes>"
      ]
     },
     "metadata": {},
     "output_type": "display_data"
    }
   ],
   "source": [
    "ConfusionMatrixDisplay.from_estimator(GBC_model,X_test,y_test)"
   ]
  },
  {
   "cell_type": "markdown",
   "id": "2c3b97ea",
   "metadata": {},
   "source": [
    "better performance on the positive labels , but the precesion is low "
   ]
  },
  {
   "cell_type": "markdown",
   "id": "6047e9f6",
   "metadata": {},
   "source": [
    "## Logistic Regression Model"
   ]
  },
  {
   "cell_type": "code",
   "execution_count": 59,
   "id": "828c1881",
   "metadata": {},
   "outputs": [],
   "source": [
    "from sklearn.linear_model import LogisticRegression"
   ]
  },
  {
   "cell_type": "code",
   "execution_count": 60,
   "id": "45c3872d",
   "metadata": {
    "scrolled": true
   },
   "outputs": [
    {
     "name": "stdout",
     "output_type": "stream",
     "text": [
      "Pipeline(steps=[('simpleimputer', SimpleImputer()),\n",
      "                ('standardscaler', StandardScaler()),\n",
      "                ('logisticregression',\n",
      "                 LogisticRegression(max_iter=500, random_state=42))])\n"
     ]
    }
   ],
   "source": [
    "clf = make_pipeline(SimpleImputer(),StandardScaler(),LogisticRegression(random_state=42,max_iter=500))\n",
    "print(clf)"
   ]
  },
  {
   "cell_type": "code",
   "execution_count": 61,
   "id": "05e3b980",
   "metadata": {},
   "outputs": [
    {
     "data": {
      "text/plain": [
       "sklearn.linear_model._logistic.LogisticRegression"
      ]
     },
     "execution_count": 61,
     "metadata": {},
     "output_type": "execute_result"
    }
   ],
   "source": [
    "LogisticRegression"
   ]
  },
  {
   "cell_type": "code",
   "execution_count": 62,
   "id": "4dfeba7c",
   "metadata": {},
   "outputs": [
    {
     "data": {
      "text/html": [
       "<div>\n",
       "<style scoped>\n",
       "    .dataframe tbody tr th:only-of-type {\n",
       "        vertical-align: middle;\n",
       "    }\n",
       "\n",
       "    .dataframe tbody tr th {\n",
       "        vertical-align: top;\n",
       "    }\n",
       "\n",
       "    .dataframe thead th {\n",
       "        text-align: right;\n",
       "    }\n",
       "</style>\n",
       "<table border=\"1\" class=\"dataframe\">\n",
       "  <thead>\n",
       "    <tr style=\"text-align: right;\">\n",
       "      <th></th>\n",
       "      <th>memory</th>\n",
       "      <th>steps</th>\n",
       "      <th>verbose</th>\n",
       "      <th>simpleimputer</th>\n",
       "      <th>standardscaler</th>\n",
       "      <th>logisticregression</th>\n",
       "      <th>simpleimputer__add_indicator</th>\n",
       "      <th>simpleimputer__copy</th>\n",
       "      <th>simpleimputer__fill_value</th>\n",
       "      <th>simpleimputer__missing_values</th>\n",
       "      <th>...</th>\n",
       "      <th>logisticregression__l1_ratio</th>\n",
       "      <th>logisticregression__max_iter</th>\n",
       "      <th>logisticregression__multi_class</th>\n",
       "      <th>logisticregression__n_jobs</th>\n",
       "      <th>logisticregression__penalty</th>\n",
       "      <th>logisticregression__random_state</th>\n",
       "      <th>logisticregression__solver</th>\n",
       "      <th>logisticregression__tol</th>\n",
       "      <th>logisticregression__verbose</th>\n",
       "      <th>logisticregression__warm_start</th>\n",
       "    </tr>\n",
       "  </thead>\n",
       "  <tbody>\n",
       "    <tr>\n",
       "      <th>0</th>\n",
       "      <td>None</td>\n",
       "      <td>(simpleimputer, SimpleImputer())</td>\n",
       "      <td>False</td>\n",
       "      <td>SimpleImputer()</td>\n",
       "      <td>StandardScaler()</td>\n",
       "      <td>LogisticRegression(max_iter=500, random_state=42)</td>\n",
       "      <td>False</td>\n",
       "      <td>True</td>\n",
       "      <td>None</td>\n",
       "      <td>NaN</td>\n",
       "      <td>...</td>\n",
       "      <td>None</td>\n",
       "      <td>500</td>\n",
       "      <td>auto</td>\n",
       "      <td>None</td>\n",
       "      <td>l2</td>\n",
       "      <td>42</td>\n",
       "      <td>lbfgs</td>\n",
       "      <td>0.0001</td>\n",
       "      <td>0</td>\n",
       "      <td>False</td>\n",
       "    </tr>\n",
       "    <tr>\n",
       "      <th>1</th>\n",
       "      <td>None</td>\n",
       "      <td>(standardscaler, StandardScaler())</td>\n",
       "      <td>False</td>\n",
       "      <td>SimpleImputer()</td>\n",
       "      <td>StandardScaler()</td>\n",
       "      <td>LogisticRegression(max_iter=500, random_state=42)</td>\n",
       "      <td>False</td>\n",
       "      <td>True</td>\n",
       "      <td>None</td>\n",
       "      <td>NaN</td>\n",
       "      <td>...</td>\n",
       "      <td>None</td>\n",
       "      <td>500</td>\n",
       "      <td>auto</td>\n",
       "      <td>None</td>\n",
       "      <td>l2</td>\n",
       "      <td>42</td>\n",
       "      <td>lbfgs</td>\n",
       "      <td>0.0001</td>\n",
       "      <td>0</td>\n",
       "      <td>False</td>\n",
       "    </tr>\n",
       "    <tr>\n",
       "      <th>2</th>\n",
       "      <td>None</td>\n",
       "      <td>(logisticregression, LogisticRegression(max_it...</td>\n",
       "      <td>False</td>\n",
       "      <td>SimpleImputer()</td>\n",
       "      <td>StandardScaler()</td>\n",
       "      <td>LogisticRegression(max_iter=500, random_state=42)</td>\n",
       "      <td>False</td>\n",
       "      <td>True</td>\n",
       "      <td>None</td>\n",
       "      <td>NaN</td>\n",
       "      <td>...</td>\n",
       "      <td>None</td>\n",
       "      <td>500</td>\n",
       "      <td>auto</td>\n",
       "      <td>None</td>\n",
       "      <td>l2</td>\n",
       "      <td>42</td>\n",
       "      <td>lbfgs</td>\n",
       "      <td>0.0001</td>\n",
       "      <td>0</td>\n",
       "      <td>False</td>\n",
       "    </tr>\n",
       "  </tbody>\n",
       "</table>\n",
       "<p>3 rows × 30 columns</p>\n",
       "</div>"
      ],
      "text/plain": [
       "  memory                                              steps  verbose  \\\n",
       "0   None                   (simpleimputer, SimpleImputer())    False   \n",
       "1   None                 (standardscaler, StandardScaler())    False   \n",
       "2   None  (logisticregression, LogisticRegression(max_it...    False   \n",
       "\n",
       "     simpleimputer    standardscaler  \\\n",
       "0  SimpleImputer()  StandardScaler()   \n",
       "1  SimpleImputer()  StandardScaler()   \n",
       "2  SimpleImputer()  StandardScaler()   \n",
       "\n",
       "                                  logisticregression  \\\n",
       "0  LogisticRegression(max_iter=500, random_state=42)   \n",
       "1  LogisticRegression(max_iter=500, random_state=42)   \n",
       "2  LogisticRegression(max_iter=500, random_state=42)   \n",
       "\n",
       "   simpleimputer__add_indicator  simpleimputer__copy  \\\n",
       "0                         False                 True   \n",
       "1                         False                 True   \n",
       "2                         False                 True   \n",
       "\n",
       "  simpleimputer__fill_value  simpleimputer__missing_values  ...  \\\n",
       "0                      None                            NaN  ...   \n",
       "1                      None                            NaN  ...   \n",
       "2                      None                            NaN  ...   \n",
       "\n",
       "  logisticregression__l1_ratio  logisticregression__max_iter  \\\n",
       "0                         None                           500   \n",
       "1                         None                           500   \n",
       "2                         None                           500   \n",
       "\n",
       "   logisticregression__multi_class  logisticregression__n_jobs  \\\n",
       "0                             auto                        None   \n",
       "1                             auto                        None   \n",
       "2                             auto                        None   \n",
       "\n",
       "   logisticregression__penalty  logisticregression__random_state  \\\n",
       "0                           l2                                42   \n",
       "1                           l2                                42   \n",
       "2                           l2                                42   \n",
       "\n",
       "  logisticregression__solver  logisticregression__tol  \\\n",
       "0                      lbfgs                   0.0001   \n",
       "1                      lbfgs                   0.0001   \n",
       "2                      lbfgs                   0.0001   \n",
       "\n",
       "   logisticregression__verbose  logisticregression__warm_start  \n",
       "0                            0                           False  \n",
       "1                            0                           False  \n",
       "2                            0                           False  \n",
       "\n",
       "[3 rows x 30 columns]"
      ]
     },
     "execution_count": 62,
     "metadata": {},
     "output_type": "execute_result"
    }
   ],
   "source": [
    "pd.DataFrame(clf.get_params())"
   ]
  },
  {
   "cell_type": "code",
   "execution_count": 63,
   "id": "8a07e34c",
   "metadata": {},
   "outputs": [
    {
     "data": {
      "text/plain": [
       "dict_keys(['memory', 'steps', 'verbose', 'simpleimputer', 'standardscaler', 'logisticregression', 'simpleimputer__add_indicator', 'simpleimputer__copy', 'simpleimputer__fill_value', 'simpleimputer__missing_values', 'simpleimputer__strategy', 'simpleimputer__verbose', 'standardscaler__copy', 'standardscaler__with_mean', 'standardscaler__with_std', 'logisticregression__C', 'logisticregression__class_weight', 'logisticregression__dual', 'logisticregression__fit_intercept', 'logisticregression__intercept_scaling', 'logisticregression__l1_ratio', 'logisticregression__max_iter', 'logisticregression__multi_class', 'logisticregression__n_jobs', 'logisticregression__penalty', 'logisticregression__random_state', 'logisticregression__solver', 'logisticregression__tol', 'logisticregression__verbose', 'logisticregression__warm_start'])"
      ]
     },
     "execution_count": 63,
     "metadata": {},
     "output_type": "execute_result"
    }
   ],
   "source": [
    "clf.get_params().keys()"
   ]
  },
  {
   "cell_type": "code",
   "execution_count": 64,
   "id": "c5caf779",
   "metadata": {},
   "outputs": [
    {
     "data": {
      "text/plain": [
       "{'simpleimputer__strategy': ['mean', 'median'],\n",
       " 'logisticregression__penalty': ['l1', 'l2'],\n",
       " 'logisticregression__multi_class': ['ovr', 'multinomial'],\n",
       " 'logisticregression__C': [0.1, 0.3, 0.6, 0.9],\n",
       " 'logisticregression__solver': ['lbfgs', 'saga']}"
      ]
     },
     "execution_count": 64,
     "metadata": {},
     "output_type": "execute_result"
    }
   ],
   "source": [
    "params = {\"simpleimputer__strategy\":[\"mean\",\"median\"],\n",
    "          \"logisticregression__penalty\":['l1', 'l2'],\n",
    "          \"logisticregression__multi_class\":['ovr', 'multinomial'],\n",
    "          'logisticregression__C':[.1,.3,.6,.9],\n",
    "          'logisticregression__solver':[ 'lbfgs',  'saga']}\n",
    "params"
   ]
  },
  {
   "cell_type": "code",
   "execution_count": 65,
   "id": "1be6d565",
   "metadata": {},
   "outputs": [],
   "source": [
    "LR_model = GridSearchCV(clf,param_grid=params,cv=5,n_jobs=-1,verbose=1)"
   ]
  },
  {
   "cell_type": "code",
   "execution_count": 66,
   "id": "43cf366a",
   "metadata": {},
   "outputs": [
    {
     "name": "stdout",
     "output_type": "stream",
     "text": [
      "Fitting 5 folds for each of 64 candidates, totalling 320 fits\n"
     ]
    },
    {
     "name": "stderr",
     "output_type": "stream",
     "text": [
      "C:\\Users\\User\\anaconda3\\lib\\site-packages\\sklearn\\model_selection\\_validation.py:372: FitFailedWarning: \n",
      "80 fits failed out of a total of 320.\n",
      "The score on these train-test partitions for these parameters will be set to nan.\n",
      "If these failures are not expected, you can try to debug them by setting error_score='raise'.\n",
      "\n",
      "Below are more details about the failures:\n",
      "--------------------------------------------------------------------------------\n",
      "80 fits failed with the following error:\n",
      "Traceback (most recent call last):\n",
      "  File \"C:\\Users\\User\\anaconda3\\lib\\site-packages\\sklearn\\model_selection\\_validation.py\", line 680, in _fit_and_score\n",
      "    estimator.fit(X_train, y_train, **fit_params)\n",
      "  File \"C:\\Users\\User\\anaconda3\\lib\\site-packages\\sklearn\\pipeline.py\", line 394, in fit\n",
      "    self._final_estimator.fit(Xt, y, **fit_params_last_step)\n",
      "  File \"C:\\Users\\User\\anaconda3\\lib\\site-packages\\sklearn\\linear_model\\_logistic.py\", line 1461, in fit\n",
      "    solver = _check_solver(self.solver, self.penalty, self.dual)\n",
      "  File \"C:\\Users\\User\\anaconda3\\lib\\site-packages\\sklearn\\linear_model\\_logistic.py\", line 447, in _check_solver\n",
      "    raise ValueError(\n",
      "ValueError: Solver lbfgs supports only 'l2' or 'none' penalties, got l1 penalty.\n",
      "\n",
      "  warnings.warn(some_fits_failed_message, FitFailedWarning)\n",
      "C:\\Users\\User\\anaconda3\\lib\\site-packages\\sklearn\\model_selection\\_search.py:969: UserWarning: One or more of the test scores are non-finite: [       nan        nan 0.9085698  0.90067289 0.91986923 0.91423221\n",
      " 0.91986923 0.91423221        nan        nan 0.9085698  0.90067289\n",
      " 0.9255126  0.92212912 0.9255126  0.92212912        nan        nan\n",
      " 0.93340951 0.92214181 0.93342221 0.92890878 0.93342221 0.92890878\n",
      "        nan        nan 0.93340951 0.92214181 0.94019552 0.94132546\n",
      " 0.94019552 0.94132546        nan        nan 0.9435663  0.93794198\n",
      " 0.94019552 0.94132546 0.94019552 0.94132546        nan        nan\n",
      " 0.9435663  0.94133181 0.95258681 0.94470894 0.95258681 0.94470894\n",
      "        nan        nan 0.95598299 0.95260585 0.95146321 0.943579\n",
      " 0.95146321 0.943579          nan        nan 0.95598299 0.95485939\n",
      " 0.95597664 0.94920967 0.95597664 0.94920967]\n",
      "  warnings.warn(\n",
      "C:\\Users\\User\\anaconda3\\lib\\site-packages\\sklearn\\linear_model\\_sag.py:352: ConvergenceWarning: The max_iter was reached which means the coef_ did not converge\n",
      "  warnings.warn(\n"
     ]
    },
    {
     "data": {
      "text/plain": [
       "GridSearchCV(cv=5,\n",
       "             estimator=Pipeline(steps=[('simpleimputer', SimpleImputer()),\n",
       "                                       ('standardscaler', StandardScaler()),\n",
       "                                       ('logisticregression',\n",
       "                                        LogisticRegression(max_iter=500,\n",
       "                                                           random_state=42))]),\n",
       "             n_jobs=-1,\n",
       "             param_grid={'logisticregression__C': [0.1, 0.3, 0.6, 0.9],\n",
       "                         'logisticregression__multi_class': ['ovr',\n",
       "                                                             'multinomial'],\n",
       "                         'logisticregression__penalty': ['l1', 'l2'],\n",
       "                         'logisticregression__solver': ['lbfgs', 'saga'],\n",
       "                         'simpleimputer__strategy': ['mean', 'median']},\n",
       "             verbose=1)"
      ]
     },
     "execution_count": 66,
     "metadata": {},
     "output_type": "execute_result"
    }
   ],
   "source": [
    "LR_model.fit(X_train_over,y_train_over)"
   ]
  },
  {
   "cell_type": "code",
   "execution_count": 67,
   "id": "903968c7",
   "metadata": {},
   "outputs": [
    {
     "data": {
      "text/plain": [
       "{'logisticregression__C': 0.9,\n",
       " 'logisticregression__multi_class': 'ovr',\n",
       " 'logisticregression__penalty': 'l1',\n",
       " 'logisticregression__solver': 'saga',\n",
       " 'simpleimputer__strategy': 'mean'}"
      ]
     },
     "execution_count": 67,
     "metadata": {},
     "output_type": "execute_result"
    }
   ],
   "source": [
    "LR_model.best_params_"
   ]
  },
  {
   "cell_type": "code",
   "execution_count": 68,
   "id": "b1c314ff",
   "metadata": {
    "scrolled": true
   },
   "outputs": [
    {
     "name": "stdout",
     "output_type": "stream",
     "text": [
      "              precision    recall  f1-score   support\n",
      "\n",
      "           0       0.93      0.94      0.93       105\n",
      "           1       0.14      0.11      0.12         9\n",
      "\n",
      "    accuracy                           0.88       114\n",
      "   macro avg       0.53      0.53      0.53       114\n",
      "weighted avg       0.86      0.88      0.87       114\n",
      "\n"
     ]
    }
   ],
   "source": [
    "print(classification_report(y_test,LR_model.predict(X_test)))"
   ]
  },
  {
   "cell_type": "code",
   "execution_count": 69,
   "id": "b074c12a",
   "metadata": {},
   "outputs": [
    {
     "data": {
      "text/plain": [
       "<sklearn.metrics._plot.confusion_matrix.ConfusionMatrixDisplay at 0x2d55e0e5d60>"
      ]
     },
     "execution_count": 69,
     "metadata": {},
     "output_type": "execute_result"
    },
    {
     "data": {
      "image/png": "[encoded data removed]",
      "text/plain": [
       "<Figure size 640x480 with 2 Axes>"
      ]
     },
     "metadata": {},
     "output_type": "display_data"
    }
   ],
   "source": [
    "ConfusionMatrixDisplay.from_estimator(LR_model,X_test,y_test)"
   ]
  },
  {
   "cell_type": "markdown",
   "id": "8b424db2",
   "metadata": {},
   "source": [
    "accuracy is low , recall is low for both (negative and positive labels)"
   ]
  },
  {
   "cell_type": "markdown",
   "id": "5f36b921",
   "metadata": {},
   "source": [
    "## A Function to control the threshhold probabilitly of deciding the label prediction"
   ]
  },
  {
   "cell_type": "code",
   "execution_count": 70,
   "id": "71acc002",
   "metadata": {},
   "outputs": [],
   "source": [
    "import ipywidgets as widgets\n",
    "from ipywidgets import interact"
   ]
  },
  {
   "cell_type": "code",
   "execution_count": 71,
   "id": "0aa2e5a3",
   "metadata": {},
   "outputs": [
    {
     "data": {
      "application/vnd.jupyter.widget-view+json": {
       "model_id": "12a5c1a162364740bce634b7a63f7be8",
       "version_major": 2,
       "version_minor": 0
      },
      "text/plain": [
       "interactive(children=(FloatSlider(value=0.5, description='threshold', max=1.0, step=0.05), Output()), _dom_cla…"
      ]
     },
     "metadata": {},
     "output_type": "display_data"
    }
   ],
   "source": [
    "def make_cnf_matrix(threshold):\n",
    "    y_pred_proba=RF_model.predict_proba(X_test)[:,-1]\n",
    "    y_pred=y_pred_proba>threshold\n",
    "    conf_matrix=confusion_matrix(y_test,y_pred)\n",
    "    tn,fp,fn,tp=conf_matrix.ravel()\n",
    "    print(f\"false positive {fp}\")\n",
    "    print(f\"false negative {fn}\")\n",
    "    ConfusionMatrixDisplay.from_predictions(y_test,y_pred,colorbar=False)\n",
    "    print(classification_report(y_test,y_pred))\n",
    "   \n",
    "\n",
    "\n",
    "thresh_widget = widgets.FloatSlider(min=0,max=1,value=.5,step=.05)\n",
    "\n",
    "interact(make_cnf_matrix, threshold=thresh_widget);"
   ]
  },
  {
   "cell_type": "markdown",
   "id": "65e91711",
   "metadata": {},
   "source": [
    "# testing on a new dataset"
   ]
  },
  {
   "cell_type": "code",
   "execution_count": 140,
   "id": "089212be",
   "metadata": {},
   "outputs": [],
   "source": [
    "test_data = arff.loadarff('2year.arff')\n",
    "test_df = pd.DataFrame(test_data[0])"
   ]
  },
  {
   "cell_type": "code",
   "execution_count": 141,
   "id": "51409058",
   "metadata": {},
   "outputs": [
    {
     "data": {
      "text/plain": [
       "(10173, 65)"
      ]
     },
     "execution_count": 141,
     "metadata": {},
     "output_type": "execute_result"
    }
   ],
   "source": [
    "test_df.shape"
   ]
  },
  {
   "cell_type": "code",
   "execution_count": 142,
   "id": "f6c78bd4",
   "metadata": {},
   "outputs": [],
   "source": [
    "test_df=test_df.rename({\"class\":\"bankrupt\"},axis = 1 )"
   ]
  },
  {
   "cell_type": "code",
   "execution_count": 143,
   "id": "dde74cdd",
   "metadata": {},
   "outputs": [],
   "source": [
    "test_df[\"bankrupt\"] = le.fit_transform(test_df.bankrupt)"
   ]
  },
  {
   "cell_type": "code",
   "execution_count": 144,
   "id": "504735ca",
   "metadata": {},
   "outputs": [
    {
     "data": {
      "text/plain": [
       "(10173, 50)"
      ]
     },
     "execution_count": 144,
     "metadata": {},
     "output_type": "execute_result"
    }
   ],
   "source": [
    "test_df = test_df.drop(columns=col_corr)\n",
    "test_df.shape"
   ]
  },
  {
   "cell_type": "code",
   "execution_count": 145,
   "id": "55db3b40",
   "metadata": {},
   "outputs": [],
   "source": [
    "target = \"bankrupt\"\n",
    "final_x_test = test_df.drop(columns=target)\n",
    "final_y_test = test_df[target]"
   ]
  },
  {
   "cell_type": "code",
   "execution_count": 146,
   "id": "9f27da9b",
   "metadata": {
    "scrolled": true
   },
   "outputs": [
    {
     "name": "stdout",
     "output_type": "stream",
     "text": [
      "              precision    recall  f1-score   support\n",
      "\n",
      "           0       0.96      0.77      0.86      9773\n",
      "           1       0.04      0.25      0.07       400\n",
      "\n",
      "    accuracy                           0.75     10173\n",
      "   macro avg       0.50      0.51      0.47     10173\n",
      "weighted avg       0.93      0.75      0.83     10173\n",
      "\n"
     ]
    }
   ],
   "source": [
    "# testing on Logistic Regression Model\n",
    "print(classification_report(final_y_test,LR_model.predict(final_x_test)))"
   ]
  },
  {
   "cell_type": "code",
   "execution_count": 147,
   "id": "c549ea49",
   "metadata": {},
   "outputs": [
    {
     "name": "stdout",
     "output_type": "stream",
     "text": [
      "              precision    recall  f1-score   support\n",
      "\n",
      "           0       0.97      0.96      0.97      9773\n",
      "           1       0.26      0.31      0.28       400\n",
      "\n",
      "    accuracy                           0.94     10173\n",
      "   macro avg       0.61      0.64      0.62     10173\n",
      "weighted avg       0.94      0.94      0.94     10173\n",
      "\n"
     ]
    }
   ],
   "source": [
    "# testing on Decession tree Model\n",
    "print(classification_report(final_y_test,DT_model_over.predict(final_x_test)))"
   ]
  },
  {
   "cell_type": "code",
   "execution_count": 148,
   "id": "3cb4a3ec",
   "metadata": {},
   "outputs": [
    {
     "name": "stdout",
     "output_type": "stream",
     "text": [
      "              precision    recall  f1-score   support\n",
      "\n",
      "           0       0.96      1.00      0.98      9773\n",
      "           1       0.75      0.04      0.07       400\n",
      "\n",
      "    accuracy                           0.96     10173\n",
      "   macro avg       0.86      0.52      0.53     10173\n",
      "weighted avg       0.95      0.96      0.94     10173\n",
      "\n"
     ]
    }
   ],
   "source": [
    "# Testing on Random forest model\n",
    "print(classification_report(final_y_test,RF_model.predict(final_x_test)))"
   ]
  },
  {
   "cell_type": "code",
   "execution_count": 149,
   "id": "c8bc6075",
   "metadata": {},
   "outputs": [
    {
     "name": "stdout",
     "output_type": "stream",
     "text": [
      "              precision    recall  f1-score   support\n",
      "\n",
      "           0       0.97      0.94      0.96      9773\n",
      "           1       0.21      0.38      0.27       400\n",
      "\n",
      "    accuracy                           0.92     10173\n",
      "   macro avg       0.59      0.66      0.62     10173\n",
      "weighted avg       0.94      0.92      0.93     10173\n",
      "\n"
     ]
    }
   ],
   "source": [
    "# Testing on Gradient boosting model\n",
    "print(classification_report(final_y_test,GBC_model.predict(final_x_test)))"
   ]
  },
  {
   "cell_type": "markdown",
   "id": "42a1d8b4",
   "metadata": {},
   "source": [
    "## Testing on another new dataset "
   ]
  },
  {
   "cell_type": "code",
   "execution_count": 150,
   "id": "c9f13db7",
   "metadata": {},
   "outputs": [],
   "source": [
    "test_data_2 = arff.loadarff('4year.arff')\n",
    "test_df_2 = pd.DataFrame(test_data_2[0])"
   ]
  },
  {
   "cell_type": "code",
   "execution_count": 151,
   "id": "50cf2220",
   "metadata": {},
   "outputs": [],
   "source": [
    "test_df_2=test_df_2.rename({\"class\":\"bankrupt\"},axis = 1 )"
   ]
  },
  {
   "cell_type": "code",
   "execution_count": 152,
   "id": "3e74e9db",
   "metadata": {},
   "outputs": [],
   "source": [
    "test_df_2[\"bankrupt\"] = le.fit_transform(test_df_2.bankrupt)"
   ]
  },
  {
   "cell_type": "code",
   "execution_count": 153,
   "id": "7b1f2cdb",
   "metadata": {},
   "outputs": [
    {
     "data": {
      "text/plain": [
       "(9792, 50)"
      ]
     },
     "execution_count": 153,
     "metadata": {},
     "output_type": "execute_result"
    }
   ],
   "source": [
    "test_df_2 = test_df_2.drop(columns=col_corr)\n",
    "test_df_2.shape"
   ]
  },
  {
   "cell_type": "code",
   "execution_count": 154,
   "id": "d8572d21",
   "metadata": {},
   "outputs": [],
   "source": [
    "target = \"bankrupt\"\n",
    "final_x_test_2 = test_df_2.drop(columns=target)\n",
    "final_y_test_2 = test_df_2[target]"
   ]
  },
  {
   "cell_type": "code",
   "execution_count": 155,
   "id": "afc36fa5",
   "metadata": {
    "scrolled": true
   },
   "outputs": [
    {
     "name": "stdout",
     "output_type": "stream",
     "text": [
      "              precision    recall  f1-score   support\n",
      "\n",
      "           0       0.95      0.77      0.85      9277\n",
      "           1       0.07      0.30      0.11       515\n",
      "\n",
      "    accuracy                           0.75      9792\n",
      "   macro avg       0.51      0.53      0.48      9792\n",
      "weighted avg       0.91      0.75      0.81      9792\n",
      "\n"
     ]
    }
   ],
   "source": [
    "# testing on Logistic Regression Model\n",
    "print(classification_report(final_y_test_2,LR_model.predict(final_x_test_2)))"
   ]
  },
  {
   "cell_type": "code",
   "execution_count": 156,
   "id": "a53de618",
   "metadata": {},
   "outputs": [
    {
     "name": "stdout",
     "output_type": "stream",
     "text": [
      "              precision    recall  f1-score   support\n",
      "\n",
      "           0       0.96      0.97      0.96      9277\n",
      "           1       0.33      0.27      0.29       515\n",
      "\n",
      "    accuracy                           0.93      9792\n",
      "   macro avg       0.64      0.62      0.63      9792\n",
      "weighted avg       0.93      0.93      0.93      9792\n",
      "\n"
     ]
    }
   ],
   "source": [
    "# Testing on Decession Tree Model\n",
    "print(classification_report(final_y_test_2,DT_model_over.predict(final_x_test_2)))"
   ]
  },
  {
   "cell_type": "code",
   "execution_count": 157,
   "id": "69a10446",
   "metadata": {},
   "outputs": [
    {
     "name": "stdout",
     "output_type": "stream",
     "text": [
      "              precision    recall  f1-score   support\n",
      "\n",
      "           0       0.96      0.95      0.95      9277\n",
      "           1       0.24      0.30      0.27       515\n",
      "\n",
      "    accuracy                           0.91      9792\n",
      "   macro avg       0.60      0.62      0.61      9792\n",
      "weighted avg       0.92      0.91      0.92      9792\n",
      "\n"
     ]
    }
   ],
   "source": [
    "# Testing on Gradient Boosting Model\n",
    "print(classification_report(final_y_test_2,GBC_model.predict(final_x_test_2)))"
   ]
  },
  {
   "cell_type": "code",
   "execution_count": 158,
   "id": "1f97db98",
   "metadata": {},
   "outputs": [
    {
     "name": "stdout",
     "output_type": "stream",
     "text": [
      "              precision    recall  f1-score   support\n",
      "\n",
      "           0       0.95      1.00      0.97      9277\n",
      "           1       0.74      0.03      0.05       515\n",
      "\n",
      "    accuracy                           0.95      9792\n",
      "   macro avg       0.84      0.51      0.51      9792\n",
      "weighted avg       0.94      0.95      0.92      9792\n",
      "\n"
     ]
    }
   ],
   "source": [
    "# Testing on Random forest model\n",
    "print(classification_report(final_y_test_2,RF_model.predict(final_x_test_2)))"
   ]
  },
  {
   "cell_type": "markdown",
   "id": "a71d6749",
   "metadata": {},
   "source": [
    "### Finally the best model in terms of Recall is Gradient Boosting Classifier"
   ]
  },
  {
   "cell_type": "code",
   "execution_count": null,
   "id": "bfbfe46b",
   "metadata": {},
   "outputs": [],
   "source": []
  }
 ],
 "metadata": {
  "kernelspec": {
   "display_name": "Python 3 (ipykernel)",
   "language": "python",
   "name": "python3"
  },
  "language_info": {
   "codemirror_mode": {
    "name": "ipython",
    "version": 3
   },
   "file_extension": ".py",
   "mimetype": "text/x-python",
   "name": "python",
   "nbconvert_exporter": "python",
   "pygments_lexer": "ipython3",
   "version": "3.9.7"
  }
 },
 "nbformat": 4,
 "nbformat_minor": 5
}
